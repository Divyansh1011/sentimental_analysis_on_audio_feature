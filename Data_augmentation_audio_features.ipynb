{
 "cells": [
  {
   "cell_type": "code",
   "execution_count": 1,
   "id": "b2e9cab1",
   "metadata": {},
   "outputs": [
    {
     "name": "stderr",
     "output_type": "stream",
     "text": [
      "2022-02-07 14:07:57.394128: W tensorflow/stream_executor/platform/default/dso_loader.cc:64] Could not load dynamic library 'libcudart.so.11.0'; dlerror: libcudart.so.11.0: cannot open shared object file: No such file or directory\n",
      "2022-02-07 14:07:57.394169: I tensorflow/stream_executor/cuda/cudart_stub.cc:29] Ignore above cudart dlerror if you do not have a GPU set up on your machine.\n"
     ]
    }
   ],
   "source": [
    "import librosa\n",
    "import librosa.display\n",
    "import numpy as np\n",
    "import matplotlib.pyplot as plt\n",
    "import tensorflow as tf\n",
    "from sklearn.model_selection import GridSearchCV\n",
    "from keras.wrappers.scikit_learn import KerasClassifier\n",
    "from matplotlib.pyplot import specgram\n",
    "import pandas as pd\n",
    "from sklearn.metrics import confusion_matrix\n",
    "import IPython.display as ipd  # To play sound in the notebook\n",
    "from IPython.display import Audio\n",
    "import os # interface with underlying OS that python is running on\n",
    "import sys\n",
    "import warnings\n",
    "# ignore warnings \n",
    "if not sys.warnoptions:\n",
    "    warnings.simplefilter(\"ignore\")\n",
    "warnings.filterwarnings(\"ignore\", category=DeprecationWarning)\n",
    "from sklearn.model_selection import train_test_split\n",
    "from sklearn.preprocessing import LabelEncoder\n",
    "import keras\n",
    "from tensorflow.keras.optimizers import SGD\n",
    "from tensorflow.keras.models import Sequential, Model, model_from_json\n",
    "from tensorflow.keras.layers import Conv1D, MaxPooling1D, AveragePooling1D\n",
    "from tensorflow.keras.layers import Input, Flatten, Dropout, Activation, BatchNormalization\n",
    "from tensorflow.keras.layers import Dense, Embedding, LSTM\n",
    "from tensorflow.keras.regularizers import l2\n",
    "from tensorflow.keras.constraints import max_norm\n",
    "from tensorflow.keras.callbacks import EarlyStopping, ModelCheckpoint\n",
    "import seaborn as sns\n",
    "from tensorflow.keras.utils import to_categorical\n",
    "from tensorflow.keras import layers, models, Model, optimizers"
   ]
  },
  {
   "cell_type": "code",
   "execution_count": 7,
   "id": "eafca521",
   "metadata": {},
   "outputs": [],
   "source": [
    "#Data Augmentation \n",
    "# Noise Injection \n",
    "#Shifting time \n",
    "#Changing the pitch \n",
    "#Speed \n",
    "# Time wrapping \n",
    "# Frequency Masking \n",
    "# Time Masking "
   ]
  },
  {
   "cell_type": "code",
   "execution_count": 8,
   "id": "8f23ba1a",
   "metadata": {},
   "outputs": [],
   "source": [
    "audio = \"/home/divyansh/Divyansh/projects/senti_random_forest/data/\""
   ]
  },
  {
   "cell_type": "code",
   "execution_count": 9,
   "id": "7ebec66e",
   "metadata": {},
   "outputs": [],
   "source": [
    "audio_df = pd.read_csv('/home/divyansh/Divyansh/projects/senti_random_forest/audio.csv', usecols= ['emotion', 'path', 'gender', 'actor' ])"
   ]
  },
  {
   "cell_type": "code",
   "execution_count": 10,
   "id": "3638a41c",
   "metadata": {},
   "outputs": [
    {
     "data": {
      "text/html": [
       "<div>\n",
       "<style scoped>\n",
       "    .dataframe tbody tr th:only-of-type {\n",
       "        vertical-align: middle;\n",
       "    }\n",
       "\n",
       "    .dataframe tbody tr th {\n",
       "        vertical-align: top;\n",
       "    }\n",
       "\n",
       "    .dataframe thead th {\n",
       "        text-align: right;\n",
       "    }\n",
       "</style>\n",
       "<table border=\"1\" class=\"dataframe\">\n",
       "  <thead>\n",
       "    <tr style=\"text-align: right;\">\n",
       "      <th></th>\n",
       "      <th>gender</th>\n",
       "      <th>emotion</th>\n",
       "      <th>actor</th>\n",
       "      <th>path</th>\n",
       "    </tr>\n",
       "  </thead>\n",
       "  <tbody>\n",
       "    <tr>\n",
       "      <th>0</th>\n",
       "      <td>male</td>\n",
       "      <td>neutral</td>\n",
       "      <td>1</td>\n",
       "      <td>/home/divyansh/Divyansh/projects/senti_random_...</td>\n",
       "    </tr>\n",
       "    <tr>\n",
       "      <th>1</th>\n",
       "      <td>male</td>\n",
       "      <td>fear</td>\n",
       "      <td>1</td>\n",
       "      <td>/home/divyansh/Divyansh/projects/senti_random_...</td>\n",
       "    </tr>\n",
       "    <tr>\n",
       "      <th>2</th>\n",
       "      <td>male</td>\n",
       "      <td>angry</td>\n",
       "      <td>1</td>\n",
       "      <td>/home/divyansh/Divyansh/projects/senti_random_...</td>\n",
       "    </tr>\n",
       "    <tr>\n",
       "      <th>3</th>\n",
       "      <td>male</td>\n",
       "      <td>happy</td>\n",
       "      <td>1</td>\n",
       "      <td>/home/divyansh/Divyansh/projects/senti_random_...</td>\n",
       "    </tr>\n",
       "    <tr>\n",
       "      <th>4</th>\n",
       "      <td>male</td>\n",
       "      <td>sad</td>\n",
       "      <td>1</td>\n",
       "      <td>/home/divyansh/Divyansh/projects/senti_random_...</td>\n",
       "    </tr>\n",
       "  </tbody>\n",
       "</table>\n",
       "</div>"
      ],
      "text/plain": [
       "  gender  emotion  actor                                               path\n",
       "0   male  neutral      1  /home/divyansh/Divyansh/projects/senti_random_...\n",
       "1   male     fear      1  /home/divyansh/Divyansh/projects/senti_random_...\n",
       "2   male    angry      1  /home/divyansh/Divyansh/projects/senti_random_...\n",
       "3   male    happy      1  /home/divyansh/Divyansh/projects/senti_random_...\n",
       "4   male      sad      1  /home/divyansh/Divyansh/projects/senti_random_..."
      ]
     },
     "execution_count": 10,
     "metadata": {},
     "output_type": "execute_result"
    }
   ],
   "source": [
    "audio_df.head()"
   ]
  },
  {
   "cell_type": "code",
   "execution_count": 13,
   "id": "a60e0704",
   "metadata": {},
   "outputs": [],
   "source": [
    "train, test = train_test_split(audio_df, test_size=0.2, random_state= 0, \n",
    "                               stratify=audio_df[['emotion', 'gender', 'actor']])"
   ]
  },
  {
   "cell_type": "code",
   "execution_count": 14,
   "id": "9a8e743e",
   "metadata": {},
   "outputs": [],
   "source": [
    "X_train = train.iloc[:,3:]\n",
    "y_train = train.iloc[:,:2].drop(columns = ['gender'])"
   ]
  },
  {
   "cell_type": "code",
   "execution_count": 15,
   "id": "bbfd8707",
   "metadata": {},
   "outputs": [
    {
     "name": "stdout",
     "output_type": "stream",
     "text": [
      "(1152, 1)\n"
     ]
    }
   ],
   "source": [
    "print(X_train.shape)"
   ]
  },
  {
   "cell_type": "markdown",
   "id": "64feacc2",
   "metadata": {},
   "source": [
    "Adding the noise, stretch, speed and Pitch to the audio file \n"
   ]
  },
  {
   "cell_type": "code",
   "execution_count": 17,
   "id": "be3c18ff",
   "metadata": {},
   "outputs": [
    {
     "data": {
      "image/png": "[encoded data removed]",
      "text/plain": [
       "<Figure size 720x360 with 1 Axes>"
      ]
     },
     "metadata": {
      "needs_background": "light"
     },
     "output_type": "display_data"
    }
   ],
   "source": [
    "fname = audio + 'Actor_09/03-01-04-02-02-02-09.wav'\n",
    "x,sr = librosa.load(fname)\n",
    "plt.figure(figsize=(10,5))\n",
    "librosa.display.waveplot(x,sr=sr)\n",
    "plt.title('Waveplt -Male Sad')\n",
    "plt.savefig('Waveplot_MaleSad.png')"
   ]
  },
  {
   "cell_type": "code",
   "execution_count": 18,
   "id": "35069b07",
   "metadata": {},
   "outputs": [],
   "source": [
    "#Adding the noise \n",
    "def noise(x):\n",
    "    noise_amp = 0.05* np.random.uniform()*np.amax(x)\n",
    "    x = x.astype('float64') + noise_amp * np.random.normal(size = x.shape[0])\n",
    "    return x"
   ]
  },
  {
   "cell_type": "code",
   "execution_count": 20,
   "id": "4dfcc8e4",
   "metadata": {},
   "outputs": [
    {
     "data": {
      "image/png": "[encoded data removed]",
      "text/plain": [
       "<Figure size 720x360 with 1 Axes>"
      ]
     },
     "metadata": {
      "needs_background": "light"
     },
     "output_type": "display_data"
    }
   ],
   "source": [
    "x = noise(x)\n",
    "plt.figure(figsize=(10,5))\n",
    "librosa.display.waveplot(x,sr=sr)\n",
    "plt.title('Waveplot Noise Male Sad')\n",
    "plt.savefig('Wave_MaleSadNoise.png')"
   ]
  },
  {
   "cell_type": "code",
   "execution_count": 21,
   "id": "4be0eb06",
   "metadata": {},
   "outputs": [],
   "source": [
    "#function to stretch the sound \n",
    "def stretch(x, rate=0.8):\n",
    "    data = librosa.effects.time_stretch(x,rate)\n",
    "    return data\n"
   ]
  },
  {
   "cell_type": "code",
   "execution_count": 22,
   "id": "abb165f7",
   "metadata": {},
   "outputs": [
    {
     "data": {
      "image/png": "[encoded data removed]",
      "text/plain": [
       "<Figure size 720x360 with 1 Axes>"
      ]
     },
     "metadata": {
      "needs_background": "light"
     },
     "output_type": "display_data"
    }
   ],
   "source": [
    "x = stretch(x)\n",
    "plt.figure(figsize=(10,5))\n",
    "librosa.display.waveplot(x,sr=sr)\n",
    "plt.title('Waveplot - Stretch Male Sad')\n",
    "plt.savefig('Waveplot_MaleSadStretch.png')\n"
   ]
  },
  {
   "cell_type": "code",
   "execution_count": 28,
   "id": "f3a6454e",
   "metadata": {},
   "outputs": [],
   "source": [
    "#function to increase the speed and the pitch \n",
    "def speedNpitch(x):\n",
    "    length_change = np.random.uniform(low=0.8, high = 1)\n",
    "    speed_fac = 1.4/ length_change\n",
    "    tmp = np.interp(np.arange(0,len(x), speed_fac), np.arange(0,len(x)),x)\n",
    "    minlen = min(x.shape[0], tmp.shape[0])\n",
    "    x*=0\n",
    "    x[0:minlen] = tmp[0:minlen]\n",
    "    return x"
   ]
  },
  {
   "cell_type": "code",
   "execution_count": 29,
   "id": "b249b0d3",
   "metadata": {},
   "outputs": [
    {
     "data": {
      "image/png": "[encoded data removed]",
      "text/plain": [
       "<Figure size 720x360 with 1 Axes>"
      ]
     },
     "metadata": {
      "needs_background": "light"
     },
     "output_type": "display_data"
    }
   ],
   "source": [
    "x = speedNpitch(x)\n",
    "plt.figure(figsize=(10,5))\n",
    "librosa.display.waveplot(x,sr=sr)\n",
    "plt.title('Waveplot - Stretch Male Sad')\n",
    "plt.savefig('Waveplot_MaleSpeedNPitch.png')\n"
   ]
  },
  {
   "cell_type": "code",
   "execution_count": 32,
   "id": "4a6f23d1",
   "metadata": {},
   "outputs": [
    {
     "name": "stdout",
     "output_type": "stream",
     "text": [
      "1152\n"
     ]
    },
    {
     "data": {
      "text/plain": [
       "<bound method NDFrame.head of                                                log_spec\n",
       "0     [-67.48485, -67.48485, -67.48485, -67.48485, -...\n",
       "1     [-70.23177, -69.54781, -69.33392, -69.498695, ...\n",
       "2     [-61.203438, -61.185642, -56.77076, -54.75769,...\n",
       "3     [-45.199844, -43.82312, -44.344078, -45.735817...\n",
       "4     [-70.07283, -69.86238, -69.91055, -69.819855, ...\n",
       "...                                                 ...\n",
       "1147  [-45.475925, -45.482555, -45.482555, -45.48255...\n",
       "1148  [-66.68844, -66.651245, -67.55702, -67.57034, ...\n",
       "1149  [-79.94437, -79.94437, -79.94437, -79.94437, -...\n",
       "1150  [-79.74384, -78.55292, -78.47783, -78.20903, -...\n",
       "1151  [-49.11234, -48.74086, -48.975597, -48.741455,...\n",
       "\n",
       "[1152 rows x 1 columns]>"
      ]
     },
     "execution_count": 32,
     "metadata": {},
     "output_type": "execute_result"
    }
   ],
   "source": [
    "#Applying the Data Augmentation methods to train set \n",
    "\n",
    "df = pd.DataFrame(columns=['log_spec'])\n",
    "counter = 0\n",
    "\n",
    "for index,path in enumerate(train.path):\n",
    "    #for the wave representation \n",
    "    X,sample_Rate = librosa.load(path, res_type='kaiser_fast', duration= 3, sr= 44100, offset= 0.5)\n",
    "    spectogram = librosa.feature.melspectrogram(y=X, sr=sample_Rate, n_mels=128, fmax = 8000)\n",
    "    db_spec = librosa.power_to_db(spectogram)\n",
    "    log_spectogram = np.mean(db_spec, axis = 0)\n",
    "    df.loc[counter] = [log_spectogram]\n",
    "    counter += 1\n",
    "print(len(df))\n",
    "df.head()\n",
    "    "
   ]
  },
  {
   "cell_type": "code",
   "execution_count": 38,
   "id": "4327ad88",
   "metadata": {},
   "outputs": [
    {
     "name": "stdout",
     "output_type": "stream",
     "text": [
      "1152\n"
     ]
    },
    {
     "data": {
      "text/html": [
       "<div>\n",
       "<style scoped>\n",
       "    .dataframe tbody tr th:only-of-type {\n",
       "        vertical-align: middle;\n",
       "    }\n",
       "\n",
       "    .dataframe tbody tr th {\n",
       "        vertical-align: top;\n",
       "    }\n",
       "\n",
       "    .dataframe thead th {\n",
       "        text-align: right;\n",
       "    }\n",
       "</style>\n",
       "<table border=\"1\" class=\"dataframe\">\n",
       "  <thead>\n",
       "    <tr style=\"text-align: right;\">\n",
       "      <th></th>\n",
       "      <th>feature</th>\n",
       "    </tr>\n",
       "  </thead>\n",
       "  <tbody>\n",
       "    <tr>\n",
       "      <th>0</th>\n",
       "      <td>[-67.48485, -67.48485, -67.48485, -67.48485, -...</td>\n",
       "    </tr>\n",
       "    <tr>\n",
       "      <th>1</th>\n",
       "      <td>[-70.23177, -69.54781, -69.33392, -69.498695, ...</td>\n",
       "    </tr>\n",
       "    <tr>\n",
       "      <th>2</th>\n",
       "      <td>[-61.203438, -61.185642, -56.77076, -54.75769,...</td>\n",
       "    </tr>\n",
       "    <tr>\n",
       "      <th>3</th>\n",
       "      <td>[-45.199844, -43.82312, -44.344078, -45.735817...</td>\n",
       "    </tr>\n",
       "    <tr>\n",
       "      <th>4</th>\n",
       "      <td>[-70.07283, -69.86238, -69.91055, -69.819855, ...</td>\n",
       "    </tr>\n",
       "  </tbody>\n",
       "</table>\n",
       "</div>"
      ],
      "text/plain": [
       "                                             feature\n",
       "0  [-67.48485, -67.48485, -67.48485, -67.48485, -...\n",
       "1  [-70.23177, -69.54781, -69.33392, -69.498695, ...\n",
       "2  [-61.203438, -61.185642, -56.77076, -54.75769,...\n",
       "3  [-45.199844, -43.82312, -44.344078, -45.735817...\n",
       "4  [-70.07283, -69.86238, -69.91055, -69.819855, ..."
      ]
     },
     "execution_count": 38,
     "metadata": {},
     "output_type": "execute_result"
    }
   ],
   "source": [
    "# ADD NOISE AND USE FEATURE EXTRACTION\n",
    "df_noise = pd.DataFrame(columns=['feature'])\n",
    "counter=0\n",
    "for index,path in enumerate(train.path):\n",
    "    X, sample_rate = librosa.load(path, res_type='kaiser_fast',duration=3,sr=44100,offset=0.5)\n",
    "        # noise \n",
    "    aug = noise(X)\n",
    "    aug = librosa.feature.melspectrogram(y=X, sr=sample_rate, n_mels=128,fmax=8000)\n",
    "    db_spec = librosa.power_to_db(aug)\n",
    "    aug=np.mean(db_spec,axis=0)\n",
    "    df_noise.loc[counter] = [aug]\n",
    "    counter +=1\n",
    "print(len(df_noise))\n",
    "df_noise.head()\n",
    "    \n",
    "    "
   ]
  },
  {
   "cell_type": "code",
   "execution_count": 39,
   "id": "fc650c45",
   "metadata": {},
   "outputs": [
    {
     "name": "stdout",
     "output_type": "stream",
     "text": [
      "1152\n"
     ]
    },
    {
     "data": {
      "text/html": [
       "<div>\n",
       "<style scoped>\n",
       "    .dataframe tbody tr th:only-of-type {\n",
       "        vertical-align: middle;\n",
       "    }\n",
       "\n",
       "    .dataframe tbody tr th {\n",
       "        vertical-align: top;\n",
       "    }\n",
       "\n",
       "    .dataframe thead th {\n",
       "        text-align: right;\n",
       "    }\n",
       "</style>\n",
       "<table border=\"1\" class=\"dataframe\">\n",
       "  <thead>\n",
       "    <tr style=\"text-align: right;\">\n",
       "      <th></th>\n",
       "      <th>feature</th>\n",
       "    </tr>\n",
       "  </thead>\n",
       "  <tbody>\n",
       "    <tr>\n",
       "      <th>0</th>\n",
       "      <td>[-68.90387, -68.90387, -68.90387, -68.90387, -...</td>\n",
       "    </tr>\n",
       "    <tr>\n",
       "      <th>1</th>\n",
       "      <td>[-70.20399, -69.79468, -69.88852, -69.7777, -6...</td>\n",
       "    </tr>\n",
       "    <tr>\n",
       "      <th>2</th>\n",
       "      <td>[-63.878296, -59.9843, -57.37674, -60.590828, ...</td>\n",
       "    </tr>\n",
       "    <tr>\n",
       "      <th>3</th>\n",
       "      <td>[-47.082283, -46.432293, -48.122433, -47.82286...</td>\n",
       "    </tr>\n",
       "    <tr>\n",
       "      <th>4</th>\n",
       "      <td>[-69.90954, -69.828514, -69.689125, -69.65238,...</td>\n",
       "    </tr>\n",
       "  </tbody>\n",
       "</table>\n",
       "</div>"
      ],
      "text/plain": [
       "                                             feature\n",
       "0  [-68.90387, -68.90387, -68.90387, -68.90387, -...\n",
       "1  [-70.20399, -69.79468, -69.88852, -69.7777, -6...\n",
       "2  [-63.878296, -59.9843, -57.37674, -60.590828, ...\n",
       "3  [-47.082283, -46.432293, -48.122433, -47.82286...\n",
       "4  [-69.90954, -69.828514, -69.689125, -69.65238,..."
      ]
     },
     "execution_count": 39,
     "metadata": {},
     "output_type": "execute_result"
    }
   ],
   "source": [
    "# ADD SPEED AND PITCH THEN USE FEATURE EXTRACTION\n",
    "df_speedpitch = pd.DataFrame(columns=['feature'])\n",
    "counter=0\n",
    "for index,path in enumerate(train.path):\n",
    "    #get wave representation\n",
    "    X, sample_rate = librosa.load(path, res_type='kaiser_fast',duration=3,sr=44100,offset=0.5)\n",
    "        # speed pitch\n",
    "    aug = speedNpitch(X)\n",
    "    aug = librosa.feature.melspectrogram(y=X, sr=sample_rate, n_mels=128,fmax=8000)\n",
    "    db_spec = librosa.power_to_db(aug)\n",
    "    aug=np.mean(db_spec,axis=0)\n",
    "    df_speedpitch.loc[counter] = [aug] \n",
    "    counter +=1\n",
    "print(len(df_speedpitch))\n",
    "df_speedpitch.head()"
   ]
  },
  {
   "cell_type": "code",
   "execution_count": 40,
   "id": "ca5e5bb7",
   "metadata": {},
   "outputs": [
    {
     "name": "stdout",
     "output_type": "stream",
     "text": [
      "1152\n"
     ]
    },
    {
     "data": {
      "text/html": [
       "<div>\n",
       "<style scoped>\n",
       "    .dataframe tbody tr th:only-of-type {\n",
       "        vertical-align: middle;\n",
       "    }\n",
       "\n",
       "    .dataframe tbody tr th {\n",
       "        vertical-align: top;\n",
       "    }\n",
       "\n",
       "    .dataframe thead th {\n",
       "        text-align: right;\n",
       "    }\n",
       "</style>\n",
       "<table border=\"1\" class=\"dataframe\">\n",
       "  <thead>\n",
       "    <tr style=\"text-align: right;\">\n",
       "      <th></th>\n",
       "      <th>feature</th>\n",
       "    </tr>\n",
       "  </thead>\n",
       "  <tbody>\n",
       "    <tr>\n",
       "      <th>0</th>\n",
       "      <td>[-67.48485, -67.48485, -67.48485, -67.48485, -...</td>\n",
       "    </tr>\n",
       "    <tr>\n",
       "      <th>1</th>\n",
       "      <td>[-70.23177, -69.54781, -69.33392, -69.498695, ...</td>\n",
       "    </tr>\n",
       "    <tr>\n",
       "      <th>2</th>\n",
       "      <td>[-61.203438, -61.185642, -56.77076, -54.75769,...</td>\n",
       "    </tr>\n",
       "    <tr>\n",
       "      <th>3</th>\n",
       "      <td>[-45.199844, -43.82312, -44.344078, -45.735817...</td>\n",
       "    </tr>\n",
       "    <tr>\n",
       "      <th>4</th>\n",
       "      <td>[-70.07283, -69.86238, -69.91055, -69.819855, ...</td>\n",
       "    </tr>\n",
       "  </tbody>\n",
       "</table>\n",
       "</div>"
      ],
      "text/plain": [
       "                                             feature\n",
       "0  [-67.48485, -67.48485, -67.48485, -67.48485, -...\n",
       "1  [-70.23177, -69.54781, -69.33392, -69.498695, ...\n",
       "2  [-61.203438, -61.185642, -56.77076, -54.75769,...\n",
       "3  [-45.199844, -43.82312, -44.344078, -45.735817...\n",
       "4  [-70.07283, -69.86238, -69.91055, -69.819855, ..."
      ]
     },
     "execution_count": 40,
     "metadata": {},
     "output_type": "execute_result"
    }
   ],
   "source": [
    "# ADD STRETCH AND USE FEATURE EXTRACTION ON AUDIO FILES\n",
    "df_stretch=pd.DataFrame(columns=['feature'])\n",
    "counter=0\n",
    "for index,path in enumerate(train.path):\n",
    "    #get wave representation\n",
    "    X, sample_rate = librosa.load(path, res_type='kaiser_fast',duration=3,sr=44100,offset=0.5)\n",
    "        # stretch\n",
    "    aug= stretch(X)\n",
    "    aug = librosa.feature.melspectrogram(y=X, sr=sample_rate, n_mels=128,fmax=8000)\n",
    "    db_spec = librosa.power_to_db(aug)\n",
    "    aug=np.mean(db_spec,axis=0)\n",
    "    df_stretch.loc[counter] = [aug] \n",
    "    counter +=1\n",
    "print(len(df_stretch))\n",
    "df_stretch.head()"
   ]
  },
  {
   "cell_type": "code",
   "execution_count": null,
   "id": "a931ff4d",
   "metadata": {},
   "outputs": [],
   "source": []
  }
 ],
 "metadata": {
  "kernelspec": {
   "display_name": "Python 3 (ipykernel)",
   "language": "python",
   "name": "python3"
  },
  "language_info": {
   "codemirror_mode": {
    "name": "ipython",
    "version": 3
   },
   "file_extension": ".py",
   "mimetype": "text/x-python",
   "name": "python",
   "nbconvert_exporter": "python",
   "pygments_lexer": "ipython3",
   "version": "3.8.10"
  }
 },
 "nbformat": 4,
 "nbformat_minor": 5
}
