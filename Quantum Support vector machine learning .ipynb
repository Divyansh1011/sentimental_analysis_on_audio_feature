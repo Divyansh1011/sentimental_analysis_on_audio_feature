{
 "cells": [
  {
   "cell_type": "code",
   "execution_count": 1,
   "id": "f55eae6b",
   "metadata": {},
   "outputs": [],
   "source": [
    "import qiskit"
   ]
  },
  {
   "cell_type": "code",
   "execution_count": 2,
   "id": "bd492eb8",
   "metadata": {},
   "outputs": [
    {
     "ename": "ModuleNotFoundError",
     "evalue": "No module named 'qiskit_machine_learning'",
     "output_type": "error",
     "traceback": [
      "\u001b[0;31m---------------------------------------------------------------------------\u001b[0m",
      "\u001b[0;31mModuleNotFoundError\u001b[0m                       Traceback (most recent call last)",
      "Input \u001b[0;32mIn [2]\u001b[0m, in \u001b[0;36m<module>\u001b[0;34m\u001b[0m\n\u001b[1;32m      1\u001b[0m \u001b[38;5;28;01mfrom\u001b[39;00m \u001b[38;5;21;01mmatplotlib\u001b[39;00m \u001b[38;5;28;01mimport\u001b[39;00m pyplot \u001b[38;5;28;01mas\u001b[39;00m plt \n\u001b[1;32m      2\u001b[0m \u001b[38;5;28;01mimport\u001b[39;00m \u001b[38;5;21;01mnumpy\u001b[39;00m \u001b[38;5;28;01mas\u001b[39;00m \u001b[38;5;21;01mnp\u001b[39;00m\n\u001b[0;32m----> 3\u001b[0m \u001b[38;5;28;01mfrom\u001b[39;00m \u001b[38;5;21;01mqiskit_machine_learning\u001b[39;00m\u001b[38;5;21;01m.\u001b[39;00m\u001b[38;5;21;01mdatasets\u001b[39;00m \u001b[38;5;28;01mimport\u001b[39;00m ad_hoc_data,sample_ad_hoc_data\n\u001b[1;32m      4\u001b[0m \u001b[38;5;28;01mfrom\u001b[39;00m \u001b[38;5;21;01mqiskit\u001b[39;00m \u001b[38;5;28;01mimport\u001b[39;00m BasicAer\n\u001b[1;32m      5\u001b[0m \u001b[38;5;28;01mfrom\u001b[39;00m \u001b[38;5;21;01mqiskit\u001b[39;00m\u001b[38;5;21;01m.\u001b[39;00m\u001b[38;5;21;01mutils\u001b[39;00m \u001b[38;5;28;01mimport\u001b[39;00m QuantumInstance\n",
      "\u001b[0;31mModuleNotFoundError\u001b[0m: No module named 'qiskit_machine_learning'"
     ]
    }
   ],
   "source": [
    "from matplotlib import pyplot as plt \n",
    "import numpy as np\n",
    "from qiskit_machine_learning.datasets import ad_hoc_data,sample_ad_hoc_data\n",
    "from qiskit import BasicAer\n",
    "from qiskit.utils import QuantumInstance\n",
    "from qiskit.circuit.library import ZZFeatureMap\n",
    "from qiskit.aqua.algorithms import QSVM\n",
    "from qiskit_machine_learning.algorithms.classifiers import QSVC\n",
    "from qiskit.aqua.utils import split_dataset_to_data_and_labels, map_label_to_class_name\n"
   ]
  },
  {
   "cell_type": "code",
   "execution_count": 6,
   "id": "91f94c83",
   "metadata": {},
   "outputs": [
    {
     "data": {
      "image/png": "[encoded data removed]",
      "text/plain": [
       "<Figure size 432x288 with 1 Axes>"
      ]
     },
     "metadata": {
      "needs_background": "light"
     },
     "output_type": "display_data"
    },
    {
     "name": "stdout",
     "output_type": "stream",
     "text": [
      "{'A': 0, 'B': 1}\n"
     ]
    }
   ],
   "source": [
    "from qiskit.ml.datasets import ad_hoc_data, sample_ad_hoc_data\n",
    "\n",
    "feature_dim = 2\n",
    "sample_total, training_input, test_input, class_labels = ad_hoc_data(\n",
    "    training_size=20,\n",
    "    test_size=10,\n",
    "    n=feature_dim,\n",
    "    gap=0.3,\n",
    "    plot_data=True\n",
    ")\n",
    "extra_test_data = sample_ad_hoc_data(sample_total, 10, n=feature_dim)\n",
    "datapoints, class_to_label = split_dataset_to_data_and_labels(extra_test_data)\n",
    "print(class_to_label)"
   ]
  },
  {
   "cell_type": "code",
   "execution_count": 7,
   "id": "37a67f6d",
   "metadata": {},
   "outputs": [],
   "source": [
    "backend = BasicAer.get_backend('qasm_simulator')\n",
    "feature_map = ZZFeatureMap(feature_dim, reps=2)\n",
    "svm = QSVM(feature_map, training_input, test_input, None)\n",
    "svm.random_seed = 10598\n",
    "quantum_instance = QuantumInstance(backend, shots=1000, seed_simulator=10598)\n",
    "result = svm.run(quantum_instance)"
   ]
  },
  {
   "cell_type": "code",
   "execution_count": 8,
   "id": "cc11a887",
   "metadata": {},
   "outputs": [
    {
     "data": {
      "text/plain": [
       "{'kernel_matrix_training': array([[1.00028607, 0.32432611, 0.06499551, ..., 0.13447024, 0.09312634,\n",
       "         0.15506358],\n",
       "        [0.32432611, 1.00335195, 0.34408615, ..., 0.31141986, 0.00452858,\n",
       "         0.07480872],\n",
       "        [0.06499551, 0.34408615, 1.00712288, ..., 0.23597756, 0.24627395,\n",
       "         0.20219175],\n",
       "        ...,\n",
       "        [0.13447024, 0.31141986, 0.23597756, ..., 1.00263193, 0.29976758,\n",
       "         0.37917258],\n",
       "        [0.09312634, 0.00452858, 0.24627395, ..., 0.29976758, 1.00441988,\n",
       "         0.78655423],\n",
       "        [0.15506358, 0.07480872, 0.20219175, ..., 0.37917258, 0.78655423,\n",
       "         1.00597763]]),\n",
       " 'svm': {'alphas': array([4.11228788, 2.72888091, 1.80789128, 1.57467272, 0.05604061,\n",
       "         0.50099122, 0.92727276, 0.28464436, 2.18150572, 2.18624904,\n",
       "         2.45658266, 1.55447021, 0.18880159, 2.8557838 ]),\n",
       "  'bias': array([-0.1643026]),\n",
       "  'support_vectors': array([[3.51858377, 1.25663706],\n",
       "         [3.0787608 , 0.12566371],\n",
       "         [4.08407045, 4.1469023 ],\n",
       "         [5.71769863, 0.37699112],\n",
       "         [4.08407045, 3.95840674],\n",
       "         [2.45044227, 6.09468975],\n",
       "         [0.9424778 , 1.94778745],\n",
       "         [2.19911486, 0.25132741],\n",
       "         [4.77522083, 0.62831853],\n",
       "         [0.69115038, 1.44513262],\n",
       "         [5.46637122, 5.96902604],\n",
       "         [0.12566371, 5.15221195],\n",
       "         [4.46106157, 3.45575192],\n",
       "         [5.40353936, 5.0893801 ]]),\n",
       "  'yin': array([-1., -1., -1., -1., -1., -1., -1.,  1.,  1.,  1.,  1.,  1.,  1.,\n",
       "          1.])},\n",
       " 'kernel_matrix_testing': array([[0.294, 0.518, 0.368, 0.051, 0.386, 0.078, 0.083, 0.029, 0.124,\n",
       "         0.121, 0.12 , 0.58 , 0.203, 0.302],\n",
       "        [0.314, 0.029, 0.383, 0.23 , 0.432, 0.682, 0.398, 0.042, 0.15 ,\n",
       "         0.1  , 0.176, 0.066, 0.066, 0.066],\n",
       "        [0.769, 0.314, 0.891, 0.029, 0.896, 0.195, 0.167, 0.277, 0.176,\n",
       "         0.268, 0.471, 0.429, 0.12 , 0.793],\n",
       "        [0.566, 0.149, 0.514, 0.066, 0.665, 0.429, 0.294, 0.117, 0.133,\n",
       "         0.033, 0.124, 0.427, 0.066, 0.407],\n",
       "        [0.137, 0.207, 0.094, 0.48 , 0.12 , 0.225, 0.814, 0.655, 0.303,\n",
       "         0.284, 0.086, 0.106, 0.008, 0.121],\n",
       "        [0.253, 0.788, 0.49 , 0.182, 0.435, 0.068, 0.049, 0.076, 0.275,\n",
       "         0.215, 0.26 , 0.497, 0.106, 0.387],\n",
       "        [0.203, 0.13 , 0.217, 0.021, 0.361, 0.666, 0.871, 0.376, 0.275,\n",
       "         0.088, 0.076, 0.068, 0.101, 0.175],\n",
       "        [0.199, 0.199, 0.136, 0.497, 0.124, 0.05 , 0.176, 0.048, 0.251,\n",
       "         0.051, 0.123, 0.128, 0.282, 0.051],\n",
       "        [0.203, 0.125, 0.306, 0.314, 0.276, 0.387, 0.433, 0.13 , 0.051,\n",
       "         0.243, 0.094, 0.046, 0.008, 0.124],\n",
       "        [0.515, 0.028, 0.505, 0.226, 0.499, 0.69 , 0.298, 0.028, 0.175,\n",
       "         0.173, 0.261, 0.156, 0.02 , 0.095],\n",
       "        [0.338, 0.054, 0.298, 0.175, 0.401, 0.103, 0.122, 0.469, 0.372,\n",
       "         0.219, 0.528, 0.291, 0.49 , 0.487],\n",
       "        [0.632, 0.179, 0.498, 0.014, 0.421, 0.498, 0.151, 0.124, 0.749,\n",
       "         0.176, 0.908, 0.317, 0.203, 0.369],\n",
       "        [0.532, 0.29 , 0.48 , 0.012, 0.47 , 0.308, 0.121, 0.048, 0.596,\n",
       "         0.066, 0.456, 0.854, 0.021, 0.423],\n",
       "        [0.228, 0.219, 0.369, 0.29 , 0.309, 0.008, 0.2  , 0.873, 0.021,\n",
       "         0.779, 0.455, 0.022, 0.404, 0.616],\n",
       "        [0.169, 0.038, 0.054, 0.015, 0.034, 0.028, 0.015, 0.15 , 0.041,\n",
       "         0.328, 0.199, 0.048, 0.886, 0.1  ],\n",
       "        [0.149, 0.042, 0.203, 0.522, 0.079, 0.038, 0.152, 0.65 , 0.009,\n",
       "         0.898, 0.274, 0.066, 0.312, 0.115],\n",
       "        [0.27 , 0.149, 0.133, 0.284, 0.176, 0.303, 0.387, 0.195, 0.816,\n",
       "         0.082, 0.236, 0.666, 0.046, 0.11 ],\n",
       "        [0.452, 0.356, 0.48 , 0.046, 0.48 , 0.008, 0.065, 0.364, 0.152,\n",
       "         0.227, 0.386, 0.396, 0.16 , 0.95 ],\n",
       "        [0.218, 0.005, 0.162, 0.23 , 0.29 , 0.124, 0.212, 0.634, 0.237,\n",
       "         0.325, 0.302, 0.129, 0.581, 0.295],\n",
       "        [0.297, 0.597, 0.414, 0.1  , 0.368, 0.01 , 0.087, 0.423, 0.131,\n",
       "         0.31 , 0.416, 0.314, 0.094, 0.914]]),\n",
       " 'testing_accuracy': 1.0,\n",
       " 'test_success_ratio': 1.0}"
      ]
     },
     "execution_count": 8,
     "metadata": {},
     "output_type": "execute_result"
    }
   ],
   "source": [
    "result"
   ]
  },
  {
   "cell_type": "code",
   "execution_count": 12,
   "id": "a2540995",
   "metadata": {},
   "outputs": [
    {
     "data": {
      "text/plain": [
       "<matplotlib.image.AxesImage at 0x7fd521cbee20>"
      ]
     },
     "execution_count": 12,
     "metadata": {},
     "output_type": "execute_result"
    },
    {
     "data": {
      "image/png": "[encoded data removed]",
      "text/plain": [
       "<Figure size 432x288 with 1 Axes>"
      ]
     },
     "metadata": {
      "needs_background": "light"
     },
     "output_type": "display_data"
    }
   ],
   "source": [
    "kernel_matrix = result['kernel_matrix_training']\n",
    "plt.imshow(np.asmatrix(kernel_matrix),interpolation='nearest', origin='upper',cmap='bone_r')"
   ]
  },
  {
   "cell_type": "code",
   "execution_count": null,
   "id": "6628fa88",
   "metadata": {},
   "outputs": [],
   "source": []
  }
 ],
 "metadata": {
  "kernelspec": {
   "display_name": "Python 3 (ipykernel)",
   "language": "python",
   "name": "python3"
  },
  "language_info": {
   "codemirror_mode": {
    "name": "ipython",
    "version": 3
   },
   "file_extension": ".py",
   "mimetype": "text/x-python",
   "name": "python",
   "nbconvert_exporter": "python",
   "pygments_lexer": "ipython3",
   "version": "3.8.10"
  }
 },
 "nbformat": 4,
 "nbformat_minor": 5
}
