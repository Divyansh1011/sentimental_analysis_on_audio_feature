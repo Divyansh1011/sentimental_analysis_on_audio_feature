{
 "cells": [
  {
   "cell_type": "code",
   "execution_count": 1,
   "id": "2fe70387",
   "metadata": {},
   "outputs": [],
   "source": [
    "import os\n",
    "import random\n",
    "from glob import glob"
   ]
  },
  {
   "cell_type": "code",
   "execution_count": 2,
   "id": "0c3c60b6",
   "metadata": {},
   "outputs": [],
   "source": [
    "import tensorflow as tf\n",
    "from tensorflow import keras \n",
    "from tensorflow.keras import layers "
   ]
  },
  {
   "cell_type": "code",
   "execution_count": 8,
   "id": "b7151031",
   "metadata": {},
   "outputs": [],
   "source": [
    "#Transformers input layers \n",
    "\n",
    "class TokenEmbedding(layers.Layer):\n",
    "    def __init__(self, num_vocab= 1000, maxlen= 100, num_hid=64):\n",
    "        super().__init__()\n",
    "        self.emb = tf.keras.layers.Embedding(num_vocab, num_hid)\n",
    "        self.pos.emb = layers.Embedding(input_dim = maxlen, output_dim = num_hid)\n",
    "    \n",
    "    def call(self,x):\n",
    "        maxlen = tf.shape(x)[-1]\n",
    "        x = self.emb(X)\n",
    "        positions = tf.range(start=0, limit=maxlen, delta = 1)\n",
    "        return x + positions\n",
    "\n",
    "class SpeechFeatureEmbedding(layers.Layer):\n",
    "    def __init__(self, num_hid = 64, maxlen=100):\n",
    "        super().__init__()\n",
    "        self.conv1 = tf.keras.layers.conv1D(num_hid, 11, strides = 2, padding=\"same\", activation=\"relu\")\n",
    "        self.conv2 = tf.keras.layers.conv1D(num_hid, 11, strides = 2, padding=\"same\", activation=\"relu\")\n",
    "        self.conv3 = tf.keras.layers.conV1D(num_hid, 11, strides = 2, padding=\"same\", activation=\"relu\")\n",
    "        self.pos_emb = layers.Embedding(input_dim=maxlen, output_dim=num_hid)\n",
    "    \n",
    "    def call(self,x):\n",
    "        x = self.conv1(x)\n",
    "        x = self.conv2(x)\n",
    "        return self.conv3(x)\n",
    "        \n",
    "    "
   ]
  },
  {
   "cell_type": "code",
   "execution_count": 9,
   "id": "d48a4a72",
   "metadata": {},
   "outputs": [],
   "source": [
    "#Transformer Encoder layer\n",
    "class TransformerEncoder(layers.Layer):\n",
    "    def __init__(self, embed_dim, num_heads, feed_forward_dim, rate=0.1):\n",
    "        super().__init__()\n",
    "        self.att = layers.MultiHeadAttention(num_heads)\n",
    "        self.ffn = keras.Sequential(\n",
    "            [layers.Dense(feed_forward_dim, activation=\"relu\"),\n",
    "                layers.Dense(embed_dim),\n",
    "                                    ]\n",
    "                                   )\n",
    "        \n",
    "        self.layernorm1 = layers.LayerNormalization(epsilon=1e-6)\n",
    "        self.layernorm2 = layers.LayerNormalization(epsilon= 1e-6)\n",
    "        self.dropout1 = layers.Dropout(rate)\n",
    "        self.dropout2 = layers.Dropout(rate)\n",
    "    \n",
    "    def call(self,inputs, training):\n",
    "        attn_output = s\n",
    "        \n",
    "        \n",
    "        \n",
    "        \n",
    "        "
   ]
  },
  {
   "cell_type": "code",
   "execution_count": null,
   "id": "11428144",
   "metadata": {},
   "outputs": [],
   "source": []
  }
 ],
 "metadata": {
  "kernelspec": {
   "display_name": "Python 3 (ipykernel)",
   "language": "python",
   "name": "python3"
  },
  "language_info": {
   "codemirror_mode": {
    "name": "ipython",
    "version": 3
   },
   "file_extension": ".py",
   "mimetype": "text/x-python",
   "name": "python",
   "nbconvert_exporter": "python",
   "pygments_lexer": "ipython3",
   "version": "3.8.10"
  }
 },
 "nbformat": 4,
 "nbformat_minor": 5
}
