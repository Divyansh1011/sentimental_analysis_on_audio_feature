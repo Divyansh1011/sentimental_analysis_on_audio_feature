{
 "cells": [
  {
   "cell_type": "code",
   "execution_count": 1,
   "metadata": {
    "_cell_guid": "b1076dfc-b9ad-4769-8c92-a6c4dae69d19",
    "_uuid": "8f2839f25d086af736a60e9eeb907d3b93b6e0e5",
    "execution": {
     "iopub.execute_input": "2021-12-06T10:13:48.048121Z",
     "iopub.status.busy": "2021-12-06T10:13:48.045648Z",
     "iopub.status.idle": "2021-12-06T10:13:48.083435Z",
     "shell.execute_reply": "2021-12-06T10:13:48.082604Z",
     "shell.execute_reply.started": "2021-12-06T10:13:48.047991Z"
    }
   },
   "outputs": [],
   "source": [
    "# This Python 3 environment comes with many helpful analytics libraries installed\n",
    "# It is defined by the kaggle/python Docker image: https://github.com/kaggle/docker-python\n",
    "# For example, here's several helpful packages to load\n",
    "\n",
    "import numpy as np # linear algebra\n",
    "import pandas as pd # data processing, CSV file I/O (e.g. pd.read_csv)\n",
    "\n",
    "\n",
    "import os\n",
    "\n"
   ]
  },
  {
   "cell_type": "code",
   "execution_count": 5,
   "metadata": {
    "execution": {
     "iopub.execute_input": "2021-12-06T10:13:48.086267Z",
     "iopub.status.busy": "2021-12-06T10:13:48.084962Z",
     "iopub.status.idle": "2021-12-06T10:13:49.353332Z",
     "shell.execute_reply": "2021-12-06T10:13:49.352533Z",
     "shell.execute_reply.started": "2021-12-06T10:13:48.086238Z"
    }
   },
   "outputs": [
    {
     "name": "stdout",
     "output_type": "stream",
     "text": [
      "Requirement already satisfied: tqdm in c:\\users\\ayush\\anaconda3\\envs\\pythongpu\\lib\\site-packages (4.62.3)\n",
      "Requirement already satisfied: colorama in c:\\users\\ayush\\anaconda3\\envs\\pythongpu\\lib\\site-packages (from tqdm) (0.4.4)\n",
      "Collecting nltk\n",
      "  Downloading nltk-3.6.5-py3-none-any.whl (1.5 MB)\n",
      "Requirement already satisfied: click in c:\\users\\ayush\\anaconda3\\envs\\pythongpu\\lib\\site-packages (from nltk) (7.1.2)\n",
      "Requirement already satisfied: joblib in c:\\users\\ayush\\anaconda3\\envs\\pythongpu\\lib\\site-packages (from nltk) (0.17.0)\n",
      "Collecting regex>=2021.8.3\n",
      "  Downloading regex-2021.11.10-cp36-cp36m-win_amd64.whl (272 kB)\n",
      "Requirement already satisfied: tqdm in c:\\users\\ayush\\anaconda3\\envs\\pythongpu\\lib\\site-packages (from nltk) (4.62.3)\n",
      "Requirement already satisfied: colorama in c:\\users\\ayush\\anaconda3\\envs\\pythongpu\\lib\\site-packages (from tqdm->nltk) (0.4.4)\n",
      "Installing collected packages: regex, nltk\n",
      "Successfully installed nltk-3.6.5 regex-2021.11.10\n"
     ]
    }
   ],
   "source": [
    "import json\n",
    "import pandas as pd\n",
    "from tqdm import tqdm\n",
    "import numpy as np\n",
    "import re\n",
    "import matplotlib.pyplot as plt\n",
    "from nltk.corpus import stopwords \n"
   ]
  },
  {
   "cell_type": "code",
   "execution_count": 6,
   "metadata": {
    "execution": {
     "iopub.execute_input": "2021-12-06T10:13:49.355059Z",
     "iopub.status.busy": "2021-12-06T10:13:49.354745Z",
     "iopub.status.idle": "2021-12-06T10:13:49.361775Z",
     "shell.execute_reply": "2021-12-06T10:13:49.360771Z",
     "shell.execute_reply.started": "2021-12-06T10:13:49.355020Z"
    }
   },
   "outputs": [],
   "source": [
    "data = \"\"\"HR: Hello, am I talking to Manish?\n",
    "\n",
    "You: Hi. Yes, Manish this side.\n",
    "\n",
    "HR: Hey Manish. This is Deepshikha calling from the HR team of EY. Is this a good time to talk to you?\n",
    "\n",
    "You: Yes, absolutely. Please go ahead.\n",
    "\n",
    "HR: So I am calling for an Analyst position in risk advisory at the Gurgaon location of the company. I came across your profile on Naukri.com.    \n",
    "\n",
    "You:  Okay.\n",
    "\n",
    "HR: I have just had a glance at your resume.  Can you tell me more about your educational background and work experience?\n",
    "\n",
    "You: Sure. Well, I completed my MBA in 2014 from Jaipuria Institute of Management. Since then, I have been working as a Senior Associate in Evalueserve in a risk advisory role. \n",
    "\n",
    "HR: Can you just briefly tell me your roles and responsibilities in your current profile?\n",
    "\n",
    "You: Yes. I have worked in multiple projects that entail risk management programs, systems and processes. The core part of my job is to improve operational performance by doing a thorough analysis of our clients’ technology controls and processes establishing data privacy and security, as well as manage system and software vulnerabilities. In addition, I have also assisted forensic accountants to detect and measure frauds and other violations, as well as created, managed and utilized high-performance database solutions.\n",
    "\n",
    "HR: Excellent.Now, can you tell me why you want to leave your current organization?Because it sounds like you are getting good exposure and growth at Evalueserve.\n",
    "\n",
    "You: Actually, I have been working here since the past four years but the kind of projects I am getting recently in the risk advisory field are not exactly to my liking. Plus, to be honest, I am also looking for a good pay hike as well as new opportunities to upskill myself.\n",
    "\n",
    "HR: That sounds about right. Can you tell me what’s your current CTC and how much are you expecting at EY?\n",
    "\n",
    "You: My current CTC is 5.2 lakhs PA and I am expecting at least a 40% hike.  \n",
    "\n",
    "HR: I am sure we can work out something as per your skillset and experience. Now, can you tell me whether you know anything about EY?\n",
    "\n",
    "You: I surely do! It is one of the Big 4 Accounting firms in the world, along with Deloitte, KPMG, and PwC.  For people interested in making a career in finance, EY is one of the best places to be.\n",
    "\n",
    "HR: Good to hear that, Manish. How about you come for an interview in the next week?\n",
    "\n",
    "You: Next week suits me fine. Can we keep it on Tuesday?\n",
    "\n",
    "HR: Tuesday is good. Can I have your email ID so that I can mail you the details of the JD and the interview time?\n",
    "\n",
    "You: Sure thing. Please note – it is manish0609@gmail.com\n",
    "\n",
    "HR: Okay then, Manish! It was a pleasure talking to you. I will mail you the details and you need to confirm your presence with a reply to the same. Look forward to meeting you on Tuesday!\n",
    "\n",
    "You: Thank you so much. I will certainly be there without fail.\n",
    "\"\"\""
   ]
  },
  {
   "cell_type": "code",
   "execution_count": 7,
   "metadata": {
    "execution": {
     "iopub.execute_input": "2021-12-06T10:13:49.364775Z",
     "iopub.status.busy": "2021-12-06T10:13:49.364233Z",
     "iopub.status.idle": "2021-12-06T10:13:49.562480Z",
     "shell.execute_reply": "2021-12-06T10:13:49.561745Z",
     "shell.execute_reply.started": "2021-12-06T10:13:49.364736Z"
    }
   },
   "outputs": [
    {
     "name": "stderr",
     "output_type": "stream",
     "text": [
      "[nltk_data] Downloading package punkt to\n",
      "[nltk_data]     C:\\Users\\ayush\\AppData\\Roaming\\nltk_data...\n",
      "[nltk_data]   Unzipping tokenizers\\punkt.zip.\n"
     ]
    },
    {
     "data": {
      "text/plain": [
       "True"
      ]
     },
     "execution_count": 7,
     "metadata": {},
     "output_type": "execute_result"
    }
   ],
   "source": [
    "import nltk\n",
    "nltk.download('punkt')"
   ]
  },
  {
   "cell_type": "code",
   "execution_count": 8,
   "metadata": {
    "execution": {
     "iopub.execute_input": "2021-12-06T10:13:49.564000Z",
     "iopub.status.busy": "2021-12-06T10:13:49.563746Z",
     "iopub.status.idle": "2021-12-06T10:13:49.582183Z",
     "shell.execute_reply": "2021-12-06T10:13:49.581496Z",
     "shell.execute_reply.started": "2021-12-06T10:13:49.563967Z"
    }
   },
   "outputs": [
    {
     "name": "stdout",
     "output_type": "stream",
     "text": [
      "['HR: Hello, am I talking to Manish?', 'You: Hi.', 'Yes, Manish this side.', 'HR: Hey Manish.', 'This is Deepshikha calling from the HR team of EY.', 'Is this a good time to talk to you?', 'You: Yes, absolutely.', 'Please go ahead.', 'HR: So I am calling for an Analyst position in risk advisory at the Gurgaon location of the company.', 'I came across your profile on Naukri.com.', 'You:  Okay.', 'HR: I have just had a glance at your resume.', 'Can you tell me more about your educational background and work experience?', 'You: Sure.', 'Well, I completed my MBA in 2014 from Jaipuria Institute of Management.', 'Since then, I have been working as a Senior Associate in Evalueserve in a risk advisory role.', 'HR: Can you just briefly tell me your roles and responsibilities in your current profile?', 'You: Yes.', 'I have worked in multiple projects that entail risk management programs, systems and processes.', 'The core part of my job is to improve operational performance by doing a thorough analysis of our clients’ technology controls and processes establishing data privacy and security, as well as manage system and software vulnerabilities.', 'In addition, I have also assisted forensic accountants to detect and measure frauds and other violations, as well as created, managed and utilized high-performance database solutions.', 'HR: Excellent.Now, can you tell me why you want to leave your current organization?Because it sounds like you are getting good exposure and growth at Evalueserve.', 'You: Actually, I have been working here since the past four years but the kind of projects I am getting recently in the risk advisory field are not exactly to my liking.', 'Plus, to be honest, I am also looking for a good pay hike as well as new opportunities to upskill myself.', 'HR: That sounds about right.', 'Can you tell me what’s your current CTC and how much are you expecting at EY?', 'You: My current CTC is 5.2 lakhs PA and I am expecting at least a 40% hike.', 'HR: I am sure we can work out something as per your skillset and experience.', 'Now, can you tell me whether you know anything about EY?', 'You: I surely do!', 'It is one of the Big 4 Accounting firms in the world, along with Deloitte, KPMG, and PwC.', 'For people interested in making a career in finance, EY is one of the best places to be.', 'HR: Good to hear that, Manish.', 'How about you come for an interview in the next week?', 'You: Next week suits me fine.', 'Can we keep it on Tuesday?', 'HR: Tuesday is good.', 'Can I have your email ID so that I can mail you the details of the JD and the interview time?', 'You: Sure thing.', 'Please note – it is manish0609@gmail.com  HR: Okay then, Manish!', 'It was a pleasure talking to you.', 'I will mail you the details and you need to confirm your presence with a reply to the same.', 'Look forward to meeting you on Tuesday!', 'You: Thank you so much.', 'I will certainly be there without fail.']\n"
     ]
    }
   ],
   "source": [
    "data = data.replace(\"\\n\",\" \")\n",
    "from nltk import tokenize\n",
    "l = list(tokenize.sent_tokenize(data))\n",
    "print(l)"
   ]
  },
  {
   "cell_type": "code",
   "execution_count": 9,
   "metadata": {
    "execution": {
     "iopub.execute_input": "2021-12-06T10:13:49.583934Z",
     "iopub.status.busy": "2021-12-06T10:13:49.583478Z",
     "iopub.status.idle": "2021-12-06T10:13:49.601450Z",
     "shell.execute_reply": "2021-12-06T10:13:49.600723Z",
     "shell.execute_reply.started": "2021-12-06T10:13:49.583900Z"
    }
   },
   "outputs": [
    {
     "data": {
      "text/html": [
       "<div>\n",
       "<style scoped>\n",
       "    .dataframe tbody tr th:only-of-type {\n",
       "        vertical-align: middle;\n",
       "    }\n",
       "\n",
       "    .dataframe tbody tr th {\n",
       "        vertical-align: top;\n",
       "    }\n",
       "\n",
       "    .dataframe thead th {\n",
       "        text-align: right;\n",
       "    }\n",
       "</style>\n",
       "<table border=\"1\" class=\"dataframe\">\n",
       "  <thead>\n",
       "    <tr style=\"text-align: right;\">\n",
       "      <th></th>\n",
       "      <th>0</th>\n",
       "    </tr>\n",
       "  </thead>\n",
       "  <tbody>\n",
       "    <tr>\n",
       "      <th>0</th>\n",
       "      <td>HR: Hello, am I talking to Manish?</td>\n",
       "    </tr>\n",
       "    <tr>\n",
       "      <th>1</th>\n",
       "      <td>You: Hi.</td>\n",
       "    </tr>\n",
       "    <tr>\n",
       "      <th>2</th>\n",
       "      <td>Yes, Manish this side.</td>\n",
       "    </tr>\n",
       "    <tr>\n",
       "      <th>3</th>\n",
       "      <td>HR: Hey Manish.</td>\n",
       "    </tr>\n",
       "    <tr>\n",
       "      <th>4</th>\n",
       "      <td>This is Deepshikha calling from the HR team of...</td>\n",
       "    </tr>\n",
       "    <tr>\n",
       "      <th>5</th>\n",
       "      <td>Is this a good time to talk to you?</td>\n",
       "    </tr>\n",
       "    <tr>\n",
       "      <th>6</th>\n",
       "      <td>You: Yes, absolutely.</td>\n",
       "    </tr>\n",
       "    <tr>\n",
       "      <th>7</th>\n",
       "      <td>Please go ahead.</td>\n",
       "    </tr>\n",
       "    <tr>\n",
       "      <th>8</th>\n",
       "      <td>HR: So I am calling for an Analyst position in...</td>\n",
       "    </tr>\n",
       "    <tr>\n",
       "      <th>9</th>\n",
       "      <td>I came across your profile on Naukri.com.</td>\n",
       "    </tr>\n",
       "    <tr>\n",
       "      <th>10</th>\n",
       "      <td>You:  Okay.</td>\n",
       "    </tr>\n",
       "    <tr>\n",
       "      <th>11</th>\n",
       "      <td>HR: I have just had a glance at your resume.</td>\n",
       "    </tr>\n",
       "    <tr>\n",
       "      <th>12</th>\n",
       "      <td>Can you tell me more about your educational ba...</td>\n",
       "    </tr>\n",
       "    <tr>\n",
       "      <th>13</th>\n",
       "      <td>You: Sure.</td>\n",
       "    </tr>\n",
       "    <tr>\n",
       "      <th>14</th>\n",
       "      <td>Well, I completed my MBA in 2014 from Jaipuria...</td>\n",
       "    </tr>\n",
       "    <tr>\n",
       "      <th>15</th>\n",
       "      <td>Since then, I have been working as a Senior As...</td>\n",
       "    </tr>\n",
       "    <tr>\n",
       "      <th>16</th>\n",
       "      <td>HR: Can you just briefly tell me your roles an...</td>\n",
       "    </tr>\n",
       "    <tr>\n",
       "      <th>17</th>\n",
       "      <td>You: Yes.</td>\n",
       "    </tr>\n",
       "    <tr>\n",
       "      <th>18</th>\n",
       "      <td>I have worked in multiple projects that entail...</td>\n",
       "    </tr>\n",
       "    <tr>\n",
       "      <th>19</th>\n",
       "      <td>The core part of my job is to improve operatio...</td>\n",
       "    </tr>\n",
       "    <tr>\n",
       "      <th>20</th>\n",
       "      <td>In addition, I have also assisted forensic acc...</td>\n",
       "    </tr>\n",
       "    <tr>\n",
       "      <th>21</th>\n",
       "      <td>HR: Excellent.Now, can you tell me why you wan...</td>\n",
       "    </tr>\n",
       "    <tr>\n",
       "      <th>22</th>\n",
       "      <td>You: Actually, I have been working here since ...</td>\n",
       "    </tr>\n",
       "    <tr>\n",
       "      <th>23</th>\n",
       "      <td>Plus, to be honest, I am also looking for a go...</td>\n",
       "    </tr>\n",
       "    <tr>\n",
       "      <th>24</th>\n",
       "      <td>HR: That sounds about right.</td>\n",
       "    </tr>\n",
       "    <tr>\n",
       "      <th>25</th>\n",
       "      <td>Can you tell me what’s your current CTC and ho...</td>\n",
       "    </tr>\n",
       "    <tr>\n",
       "      <th>26</th>\n",
       "      <td>You: My current CTC is 5.2 lakhs PA and I am e...</td>\n",
       "    </tr>\n",
       "    <tr>\n",
       "      <th>27</th>\n",
       "      <td>HR: I am sure we can work out something as per...</td>\n",
       "    </tr>\n",
       "    <tr>\n",
       "      <th>28</th>\n",
       "      <td>Now, can you tell me whether you know anything...</td>\n",
       "    </tr>\n",
       "    <tr>\n",
       "      <th>29</th>\n",
       "      <td>You: I surely do!</td>\n",
       "    </tr>\n",
       "    <tr>\n",
       "      <th>30</th>\n",
       "      <td>It is one of the Big 4 Accounting firms in the...</td>\n",
       "    </tr>\n",
       "    <tr>\n",
       "      <th>31</th>\n",
       "      <td>For people interested in making a career in fi...</td>\n",
       "    </tr>\n",
       "    <tr>\n",
       "      <th>32</th>\n",
       "      <td>HR: Good to hear that, Manish.</td>\n",
       "    </tr>\n",
       "    <tr>\n",
       "      <th>33</th>\n",
       "      <td>How about you come for an interview in the nex...</td>\n",
       "    </tr>\n",
       "    <tr>\n",
       "      <th>34</th>\n",
       "      <td>You: Next week suits me fine.</td>\n",
       "    </tr>\n",
       "    <tr>\n",
       "      <th>35</th>\n",
       "      <td>Can we keep it on Tuesday?</td>\n",
       "    </tr>\n",
       "    <tr>\n",
       "      <th>36</th>\n",
       "      <td>HR: Tuesday is good.</td>\n",
       "    </tr>\n",
       "    <tr>\n",
       "      <th>37</th>\n",
       "      <td>Can I have your email ID so that I can mail yo...</td>\n",
       "    </tr>\n",
       "    <tr>\n",
       "      <th>38</th>\n",
       "      <td>You: Sure thing.</td>\n",
       "    </tr>\n",
       "    <tr>\n",
       "      <th>39</th>\n",
       "      <td>Please note – it is manish0609@gmail.com  HR: ...</td>\n",
       "    </tr>\n",
       "    <tr>\n",
       "      <th>40</th>\n",
       "      <td>It was a pleasure talking to you.</td>\n",
       "    </tr>\n",
       "    <tr>\n",
       "      <th>41</th>\n",
       "      <td>I will mail you the details and you need to co...</td>\n",
       "    </tr>\n",
       "    <tr>\n",
       "      <th>42</th>\n",
       "      <td>Look forward to meeting you on Tuesday!</td>\n",
       "    </tr>\n",
       "    <tr>\n",
       "      <th>43</th>\n",
       "      <td>You: Thank you so much.</td>\n",
       "    </tr>\n",
       "    <tr>\n",
       "      <th>44</th>\n",
       "      <td>I will certainly be there without fail.</td>\n",
       "    </tr>\n",
       "  </tbody>\n",
       "</table>\n",
       "</div>"
      ],
      "text/plain": [
       "                                                    0\n",
       "0                  HR: Hello, am I talking to Manish?\n",
       "1                                            You: Hi.\n",
       "2                              Yes, Manish this side.\n",
       "3                                     HR: Hey Manish.\n",
       "4   This is Deepshikha calling from the HR team of...\n",
       "5                 Is this a good time to talk to you?\n",
       "6                               You: Yes, absolutely.\n",
       "7                                    Please go ahead.\n",
       "8   HR: So I am calling for an Analyst position in...\n",
       "9           I came across your profile on Naukri.com.\n",
       "10                                        You:  Okay.\n",
       "11       HR: I have just had a glance at your resume.\n",
       "12  Can you tell me more about your educational ba...\n",
       "13                                         You: Sure.\n",
       "14  Well, I completed my MBA in 2014 from Jaipuria...\n",
       "15  Since then, I have been working as a Senior As...\n",
       "16  HR: Can you just briefly tell me your roles an...\n",
       "17                                          You: Yes.\n",
       "18  I have worked in multiple projects that entail...\n",
       "19  The core part of my job is to improve operatio...\n",
       "20  In addition, I have also assisted forensic acc...\n",
       "21  HR: Excellent.Now, can you tell me why you wan...\n",
       "22  You: Actually, I have been working here since ...\n",
       "23  Plus, to be honest, I am also looking for a go...\n",
       "24                       HR: That sounds about right.\n",
       "25  Can you tell me what’s your current CTC and ho...\n",
       "26  You: My current CTC is 5.2 lakhs PA and I am e...\n",
       "27  HR: I am sure we can work out something as per...\n",
       "28  Now, can you tell me whether you know anything...\n",
       "29                                  You: I surely do!\n",
       "30  It is one of the Big 4 Accounting firms in the...\n",
       "31  For people interested in making a career in fi...\n",
       "32                     HR: Good to hear that, Manish.\n",
       "33  How about you come for an interview in the nex...\n",
       "34                      You: Next week suits me fine.\n",
       "35                         Can we keep it on Tuesday?\n",
       "36                               HR: Tuesday is good.\n",
       "37  Can I have your email ID so that I can mail yo...\n",
       "38                                   You: Sure thing.\n",
       "39  Please note – it is manish0609@gmail.com  HR: ...\n",
       "40                  It was a pleasure talking to you.\n",
       "41  I will mail you the details and you need to co...\n",
       "42            Look forward to meeting you on Tuesday!\n",
       "43                            You: Thank you so much.\n",
       "44            I will certainly be there without fail."
      ]
     },
     "execution_count": 9,
     "metadata": {},
     "output_type": "execute_result"
    }
   ],
   "source": [
    "df = pd.DataFrame(l)\n",
    "df"
   ]
  },
  {
   "cell_type": "code",
   "execution_count": 10,
   "metadata": {
    "execution": {
     "iopub.execute_input": "2021-12-06T10:13:49.602858Z",
     "iopub.status.busy": "2021-12-06T10:13:49.602543Z",
     "iopub.status.idle": "2021-12-06T10:13:49.609131Z",
     "shell.execute_reply": "2021-12-06T10:13:49.608246Z",
     "shell.execute_reply.started": "2021-12-06T10:13:49.602822Z"
    }
   },
   "outputs": [],
   "source": [
    "df['index'] = df.index"
   ]
  },
  {
   "cell_type": "code",
   "execution_count": 11,
   "metadata": {
    "execution": {
     "iopub.execute_input": "2021-12-06T10:13:49.610721Z",
     "iopub.status.busy": "2021-12-06T10:13:49.610430Z",
     "iopub.status.idle": "2021-12-06T10:13:49.620746Z",
     "shell.execute_reply": "2021-12-06T10:13:49.620039Z",
     "shell.execute_reply.started": "2021-12-06T10:13:49.610686Z"
    }
   },
   "outputs": [],
   "source": [
    "df = df.rename(columns={0: 'sentences'})"
   ]
  },
  {
   "cell_type": "code",
   "execution_count": 12,
   "metadata": {
    "execution": {
     "iopub.execute_input": "2021-12-06T10:13:49.622414Z",
     "iopub.status.busy": "2021-12-06T10:13:49.622155Z",
     "iopub.status.idle": "2021-12-06T10:13:49.629245Z",
     "shell.execute_reply": "2021-12-06T10:13:49.628511Z",
     "shell.execute_reply.started": "2021-12-06T10:13:49.622389Z"
    }
   },
   "outputs": [],
   "source": [
    "from collections import Counter\n",
    "from sklearn.metrics import silhouette_score\n",
    "import matplotlib.pyplot as plt\n"
   ]
  },
  {
   "cell_type": "code",
   "execution_count": null,
   "metadata": {
    "execution": {
     "iopub.execute_input": "2021-12-06T10:13:49.633277Z",
     "iopub.status.busy": "2021-12-06T10:13:49.633039Z",
     "iopub.status.idle": "2021-12-06T10:13:51.018978Z",
     "shell.execute_reply": "2021-12-06T10:13:51.018146Z",
     "shell.execute_reply.started": "2021-12-06T10:13:49.633247Z"
    }
   },
   "outputs": [],
   "source": [
    "\n",
    "import torch\n",
    "import torch.nn as nn\n",
    "from torch.utils.data import Dataset, DataLoader\n"
   ]
  },
  {
   "cell_type": "code",
   "execution_count": 19,
   "metadata": {
    "execution": {
     "iopub.execute_input": "2021-12-06T10:13:51.022168Z",
     "iopub.status.busy": "2021-12-06T10:13:51.021911Z",
     "iopub.status.idle": "2021-12-06T10:13:51.074214Z",
     "shell.execute_reply": "2021-12-06T10:13:51.073439Z",
     "shell.execute_reply.started": "2021-12-06T10:13:51.022139Z"
    }
   },
   "outputs": [],
   "source": [
    "device = torch.device(\"cuda:0\" if torch.cuda.is_available() else \"cpu\")"
   ]
  },
  {
   "cell_type": "code",
   "execution_count": null,
   "metadata": {
    "execution": {
     "iopub.execute_input": "2021-12-06T10:13:51.076116Z",
     "iopub.status.busy": "2021-12-06T10:13:51.075790Z",
     "iopub.status.idle": "2021-12-06T10:13:51.082687Z",
     "shell.execute_reply": "2021-12-06T10:13:51.081806Z",
     "shell.execute_reply.started": "2021-12-06T10:13:51.076079Z"
    }
   },
   "outputs": [],
   "source": [
    "print(torch.cuda.get_device_name(0))"
   ]
  },
  {
   "cell_type": "code",
   "execution_count": 13,
   "metadata": {
    "execution": {
     "iopub.execute_input": "2021-12-06T10:13:51.084411Z",
     "iopub.status.busy": "2021-12-06T10:13:51.084127Z",
     "iopub.status.idle": "2021-12-06T10:14:06.644377Z",
     "shell.execute_reply": "2021-12-06T10:14:06.643544Z",
     "shell.execute_reply.started": "2021-12-06T10:13:51.084377Z"
    }
   },
   "outputs": [],
   "source": []
  },
  {
   "cell_type": "code",
   "execution_count": 14,
   "metadata": {
    "execution": {
     "iopub.execute_input": "2021-12-06T10:14:06.646058Z",
     "iopub.status.busy": "2021-12-06T10:14:06.645773Z",
     "iopub.status.idle": "2021-12-06T10:14:08.092663Z",
     "shell.execute_reply": "2021-12-06T10:14:08.091904Z",
     "shell.execute_reply.started": "2021-12-06T10:14:06.646021Z"
    }
   },
   "outputs": [],
   "source": []
  },
  {
   "cell_type": "code",
   "execution_count": 15,
   "metadata": {
    "execution": {
     "iopub.execute_input": "2021-12-06T10:14:08.094558Z",
     "iopub.status.busy": "2021-12-06T10:14:08.094187Z",
     "iopub.status.idle": "2021-12-06T10:14:08.102332Z",
     "shell.execute_reply": "2021-12-06T10:14:08.101532Z",
     "shell.execute_reply.started": "2021-12-06T10:14:08.094518Z"
    }
   },
   "outputs": [],
   "source": [
    "labels = df.sentences.values"
   ]
  },
  {
   "cell_type": "code",
   "execution_count": 16,
   "metadata": {
    "execution": {
     "iopub.execute_input": "2021-12-06T10:14:08.105448Z",
     "iopub.status.busy": "2021-12-06T10:14:08.104882Z",
     "iopub.status.idle": "2021-12-06T10:14:41.022203Z",
     "shell.execute_reply": "2021-12-06T10:14:41.021433Z",
     "shell.execute_reply.started": "2021-12-06T10:14:08.105315Z"
    }
   },
   "outputs": [],
   "source": [
    "from sentence_transformers import SentenceTransformer\n",
    "model = SentenceTransformer('distilbert-base-nli-mean-tokens')\n",
    "embeddings = model.encode(labels, show_progress_bar=True)"
   ]
  },
  {
   "cell_type": "code",
   "execution_count": 17,
   "metadata": {
    "execution": {
     "iopub.execute_input": "2021-12-06T10:14:41.024406Z",
     "iopub.status.busy": "2021-12-06T10:14:41.023612Z",
     "iopub.status.idle": "2021-12-06T10:14:49.065490Z",
     "shell.execute_reply": "2021-12-06T10:14:49.064673Z",
     "shell.execute_reply.started": "2021-12-06T10:14:41.024363Z"
    }
   },
   "outputs": [],
   "source": []
  },
  {
   "cell_type": "code",
   "execution_count": 18,
   "metadata": {
    "execution": {
     "iopub.execute_input": "2021-12-06T10:14:49.069648Z",
     "iopub.status.busy": "2021-12-06T10:14:49.069342Z",
     "iopub.status.idle": "2021-12-06T10:15:03.113171Z",
     "shell.execute_reply": "2021-12-06T10:15:03.112275Z",
     "shell.execute_reply.started": "2021-12-06T10:14:49.069605Z"
    }
   },
   "outputs": [],
   "source": [
    "import umap.umap_ as umap"
   ]
  },
  {
   "cell_type": "code",
   "execution_count": 19,
   "metadata": {
    "execution": {
     "iopub.execute_input": "2021-12-06T10:15:03.114742Z",
     "iopub.status.busy": "2021-12-06T10:15:03.114446Z",
     "iopub.status.idle": "2021-12-06T10:15:10.228497Z",
     "shell.execute_reply": "2021-12-06T10:15:10.227757Z",
     "shell.execute_reply.started": "2021-12-06T10:15:03.114694Z"
    }
   },
   "outputs": [],
   "source": [
    "umap_embeddings = umap.UMAP(n_neighbors=10, \n",
    "                            n_components=5, \n",
    "                            metric='cosine').fit_transform(embeddings)"
   ]
  },
  {
   "cell_type": "code",
   "execution_count": 20,
   "metadata": {
    "execution": {
     "iopub.execute_input": "2021-12-06T10:15:10.230975Z",
     "iopub.status.busy": "2021-12-06T10:15:10.230284Z",
     "iopub.status.idle": "2021-12-06T10:15:10.275459Z",
     "shell.execute_reply": "2021-12-06T10:15:10.274809Z",
     "shell.execute_reply.started": "2021-12-06T10:15:10.230935Z"
    }
   },
   "outputs": [],
   "source": [
    "from sklearn.cluster import DBSCAN\n",
    "from sklearn.cluster import KMeans"
   ]
  },
  {
   "cell_type": "code",
   "execution_count": 21,
   "metadata": {
    "execution": {
     "iopub.execute_input": "2021-12-06T10:15:10.281770Z",
     "iopub.status.busy": "2021-12-06T10:15:10.281161Z",
     "iopub.status.idle": "2021-12-06T10:15:10.331433Z",
     "shell.execute_reply": "2021-12-06T10:15:10.330689Z",
     "shell.execute_reply.started": "2021-12-06T10:15:10.281736Z"
    }
   },
   "outputs": [],
   "source": [
    "#cluster = KMeans(n_clusters=5).fit(umap_embeddings)\n",
    "cluster = hdbscan.HDBSCAN(min_cluster_size=2,\n",
    "                          metric='euclidean',                      \n",
    "                          cluster_selection_method='eom').fit(umap_embeddings)\n"
   ]
  },
  {
   "cell_type": "code",
   "execution_count": 22,
   "metadata": {
    "execution": {
     "iopub.execute_input": "2021-12-06T10:15:10.333209Z",
     "iopub.status.busy": "2021-12-06T10:15:10.332721Z",
     "iopub.status.idle": "2021-12-06T10:15:12.520522Z",
     "shell.execute_reply": "2021-12-06T10:15:12.519904Z",
     "shell.execute_reply.started": "2021-12-06T10:15:10.333168Z"
    }
   },
   "outputs": [],
   "source": [
    "# Prepare data\n",
    "umap_data = umap.UMAP(n_neighbors=5, n_components=2, min_dist=0.0, metric='cosine').fit_transform(embeddings)\n",
    "result = pd.DataFrame(umap_data, columns=['x', 'y'])\n",
    "result['labels'] = cluster.labels_"
   ]
  },
  {
   "cell_type": "code",
   "execution_count": 23,
   "metadata": {
    "execution": {
     "iopub.execute_input": "2021-12-06T10:15:12.522078Z",
     "iopub.status.busy": "2021-12-06T10:15:12.521628Z",
     "iopub.status.idle": "2021-12-06T10:15:12.541508Z",
     "shell.execute_reply": "2021-12-06T10:15:12.540750Z",
     "shell.execute_reply.started": "2021-12-06T10:15:12.522042Z"
    }
   },
   "outputs": [],
   "source": [
    "print(result)"
   ]
  },
  {
   "cell_type": "code",
   "execution_count": 24,
   "metadata": {
    "execution": {
     "iopub.execute_input": "2021-12-06T10:15:12.543282Z",
     "iopub.status.busy": "2021-12-06T10:15:12.542830Z",
     "iopub.status.idle": "2021-12-06T10:15:12.567337Z",
     "shell.execute_reply": "2021-12-06T10:15:12.566455Z",
     "shell.execute_reply.started": "2021-12-06T10:15:12.543241Z"
    }
   },
   "outputs": [],
   "source": [
    "docs_df = pd.DataFrame(labels, columns=[\"Doc\"])\n",
    "docs_df['Topic'] = cluster.labels_\n",
    "docs_df['Doc_ID'] = range(len(docs_df))\n",
    "docs_per_topic = docs_df.groupby(['Topic'], as_index = False).agg({'Doc': ' '.join})\n",
    "print(docs_df)"
   ]
  },
  {
   "cell_type": "code",
   "execution_count": 25,
   "metadata": {
    "execution": {
     "iopub.execute_input": "2021-12-06T10:15:12.569174Z",
     "iopub.status.busy": "2021-12-06T10:15:12.568797Z",
     "iopub.status.idle": "2021-12-06T10:15:12.576042Z",
     "shell.execute_reply": "2021-12-06T10:15:12.575062Z",
     "shell.execute_reply.started": "2021-12-06T10:15:12.569136Z"
    }
   },
   "outputs": [],
   "source": [
    "print(docs_per_topic)"
   ]
  },
  {
   "cell_type": "code",
   "execution_count": 26,
   "metadata": {
    "execution": {
     "iopub.execute_input": "2021-12-06T10:15:12.578431Z",
     "iopub.status.busy": "2021-12-06T10:15:12.578114Z",
     "iopub.status.idle": "2021-12-06T10:15:12.593107Z",
     "shell.execute_reply": "2021-12-06T10:15:12.592101Z",
     "shell.execute_reply.started": "2021-12-06T10:15:12.578394Z"
    }
   },
   "outputs": [],
   "source": [
    "from sklearn.feature_extraction.text import CountVectorizer\n",
    "\n",
    "def c_tf_idf(documents, m, ngram_range=(1, 1)):\n",
    "    count = CountVectorizer(ngram_range=ngram_range, stop_words=\"english\").fit(documents)\n",
    "    t = count.transform(documents).toarray()\n",
    "    w = t.sum(axis=1)\n",
    "    tf = np.divide(t.T, w)\n",
    "    sum_t = t.sum(axis=0)\n",
    "    idf = np.log(np.divide(m, sum_t)).reshape(-1, 1)\n",
    "    tf_idf = np.multiply(tf, idf)\n",
    "\n",
    "    return tf_idf, count\n",
    "  \n",
    "tf_idf, count = c_tf_idf(docs_per_topic.Doc.values, m=len(labels))"
   ]
  },
  {
   "cell_type": "code",
   "execution_count": 27,
   "metadata": {
    "execution": {
     "iopub.execute_input": "2021-12-06T10:15:12.595933Z",
     "iopub.status.busy": "2021-12-06T10:15:12.595046Z",
     "iopub.status.idle": "2021-12-06T10:15:12.622527Z",
     "shell.execute_reply": "2021-12-06T10:15:12.621428Z",
     "shell.execute_reply.started": "2021-12-06T10:15:12.595892Z"
    }
   },
   "outputs": [],
   "source": [
    "def extract_top_n_words_per_topic(tf_idf, count, docs_per_topic, n=20):\n",
    "    words = count.get_feature_names()\n",
    "    labels = list(docs_per_topic.Topic)\n",
    "    tf_idf_transposed = tf_idf.T\n",
    "    indices = tf_idf_transposed.argsort()[:, -n:]\n",
    "    top_n_words = {label: [(words[j], tf_idf_transposed[i][j]) for j in indices[i]][::-1] for i, label in enumerate(labels)}\n",
    "    return top_n_words\n",
    "\n",
    "def extract_topic_sizes(df):\n",
    "    topic_sizes = (df.groupby(['Topic'])\n",
    "                     .Doc\n",
    "                     .count()\n",
    "                     .reset_index()\n",
    "                     .rename({\"Topic\": \"Topic\", \"Doc\": \"Size\"}, axis='columns')\n",
    "                     .sort_values(\"Size\", ascending=False))\n",
    "    return topic_sizes\n",
    "\n",
    "top_n_words = extract_top_n_words_per_topic(tf_idf, count, docs_per_topic, n=20)\n",
    "topic_sizes = extract_topic_sizes(docs_df); \n",
    "topic_sizes.head(10)"
   ]
  },
  {
   "cell_type": "code",
   "execution_count": 28,
   "metadata": {
    "execution": {
     "iopub.execute_input": "2021-12-06T10:15:12.629968Z",
     "iopub.status.busy": "2021-12-06T10:15:12.629397Z",
     "iopub.status.idle": "2021-12-06T10:15:12.640582Z",
     "shell.execute_reply": "2021-12-06T10:15:12.639675Z",
     "shell.execute_reply.started": "2021-12-06T10:15:12.629925Z"
    }
   },
   "outputs": [],
   "source": [
    "final_data = pd.merge(topic_sizes, docs_per_topic)"
   ]
  },
  {
   "cell_type": "code",
   "execution_count": 29,
   "metadata": {
    "execution": {
     "iopub.execute_input": "2021-12-06T10:15:12.660836Z",
     "iopub.status.busy": "2021-12-06T10:15:12.660236Z",
     "iopub.status.idle": "2021-12-06T10:15:12.671468Z",
     "shell.execute_reply": "2021-12-06T10:15:12.670444Z",
     "shell.execute_reply.started": "2021-12-06T10:15:12.660796Z"
    }
   },
   "outputs": [],
   "source": [
    "final_data"
   ]
  },
  {
   "cell_type": "code",
   "execution_count": 30,
   "metadata": {
    "execution": {
     "iopub.execute_input": "2021-12-06T10:15:12.674620Z",
     "iopub.status.busy": "2021-12-06T10:15:12.673373Z",
     "iopub.status.idle": "2021-12-06T10:15:12.716053Z",
     "shell.execute_reply": "2021-12-06T10:15:12.714913Z",
     "shell.execute_reply.started": "2021-12-06T10:15:12.674583Z"
    }
   },
   "outputs": [],
   "source": [
    "top_words = pd.DataFrame.from_dict(top_n_words)\n",
    "top_words = top_words[:10]\n",
    "top_words"
   ]
  },
  {
   "cell_type": "code",
   "execution_count": null,
   "metadata": {},
   "outputs": [],
   "source": []
  },
  {
   "cell_type": "code",
   "execution_count": 31,
   "metadata": {
    "execution": {
     "iopub.execute_input": "2021-12-06T10:15:12.718866Z",
     "iopub.status.busy": "2021-12-06T10:15:12.717751Z",
     "iopub.status.idle": "2021-12-06T10:15:12.803266Z",
     "shell.execute_reply": "2021-12-06T10:15:12.802567Z",
     "shell.execute_reply.started": "2021-12-06T10:15:12.718807Z"
    }
   },
   "outputs": [],
   "source": [
    "\n",
    "import seaborn as sns\n",
    "import matplotlib.pyplot as plt\n",
    "import torch\n",
    "import torch.nn as nn\n",
    "import torch.nn.functional as F\n",
    "%matplotlib inline\n",
    "sns.set(color_codes=True)"
   ]
  },
  {
   "cell_type": "code",
   "execution_count": 32,
   "metadata": {
    "execution": {
     "iopub.execute_input": "2021-12-06T10:15:12.804993Z",
     "iopub.status.busy": "2021-12-06T10:15:12.804585Z",
     "iopub.status.idle": "2021-12-06T10:15:18.070071Z",
     "shell.execute_reply": "2021-12-06T10:15:18.069173Z",
     "shell.execute_reply.started": "2021-12-06T10:15:12.804957Z"
    }
   },
   "outputs": [],
   "source": [
    "df = pd.read_csv('/data02/training.1600000.processed.noemoticon.csv', encoding='latin-1', header = None)"
   ]
  },
  {
   "cell_type": "code",
   "execution_count": 33,
   "metadata": {
    "execution": {
     "iopub.execute_input": "2021-12-06T10:15:18.073390Z",
     "iopub.status.busy": "2021-12-06T10:15:18.071410Z",
     "iopub.status.idle": "2021-12-06T10:15:18.200726Z",
     "shell.execute_reply": "2021-12-06T10:15:18.199921Z",
     "shell.execute_reply.started": "2021-12-06T10:15:18.073346Z"
    }
   },
   "outputs": [],
   "source": [
    "df.columns=['Sentiment', 'id', 'Date', 'Query', 'User', 'Tweet']\n",
    "df = df.drop(columns=['id', 'Date', 'Query', 'User'], axis=1)"
   ]
  },
  {
   "cell_type": "code",
   "execution_count": 34,
   "metadata": {
    "execution": {
     "iopub.execute_input": "2021-12-06T10:15:18.202796Z",
     "iopub.status.busy": "2021-12-06T10:15:18.201949Z",
     "iopub.status.idle": "2021-12-06T10:15:18.509430Z",
     "shell.execute_reply": "2021-12-06T10:15:18.508733Z",
     "shell.execute_reply.started": "2021-12-06T10:15:18.202750Z"
    }
   },
   "outputs": [],
   "source": [
    "sns.countplot(df.Sentiment)"
   ]
  },
  {
   "cell_type": "code",
   "execution_count": 35,
   "metadata": {
    "execution": {
     "iopub.execute_input": "2021-12-06T10:15:18.511300Z",
     "iopub.status.busy": "2021-12-06T10:15:18.510773Z",
     "iopub.status.idle": "2021-12-06T10:15:18.803501Z",
     "shell.execute_reply": "2021-12-06T10:15:18.802756Z",
     "shell.execute_reply.started": "2021-12-06T10:15:18.511260Z"
    }
   },
   "outputs": [],
   "source": [
    "df['Sentiment'] = df.Sentiment.replace(4,1)\n",
    "sns.countplot(df.Sentiment)"
   ]
  },
  {
   "cell_type": "code",
   "execution_count": 36,
   "metadata": {
    "execution": {
     "iopub.execute_input": "2021-12-06T10:15:18.805841Z",
     "iopub.status.busy": "2021-12-06T10:15:18.804973Z",
     "iopub.status.idle": "2021-12-06T10:15:18.812655Z",
     "shell.execute_reply": "2021-12-06T10:15:18.811763Z",
     "shell.execute_reply.started": "2021-12-06T10:15:18.805800Z"
    }
   },
   "outputs": [],
   "source": [
    "import re\n",
    "\n",
    "hashtags = re.compile(r\"^#\\S+|\\s#\\S+\")\n",
    "mentions = re.compile(r\"^@\\S+|\\s@\\S+\")\n",
    "urls = re.compile(r\"https?://\\S+\")\n",
    "\n",
    "def process_text(text):\n",
    "    text = re.sub(r'http\\S+', '', text)\n",
    "    text = hashtags.sub(' hashtag', text)\n",
    "    text = mentions.sub(' entity', text)\n",
    "    return text.strip().lower()"
   ]
  },
  {
   "cell_type": "code",
   "execution_count": 37,
   "metadata": {
    "execution": {
     "iopub.execute_input": "2021-12-06T10:15:18.815131Z",
     "iopub.status.busy": "2021-12-06T10:15:18.814235Z",
     "iopub.status.idle": "2021-12-06T10:15:37.493684Z",
     "shell.execute_reply": "2021-12-06T10:15:37.492925Z",
     "shell.execute_reply.started": "2021-12-06T10:15:18.815093Z"
    }
   },
   "outputs": [],
   "source": [
    "df['Tweet'] = df.Tweet.apply(process_text)"
   ]
  },
  {
   "cell_type": "code",
   "execution_count": 38,
   "metadata": {
    "execution": {
     "iopub.execute_input": "2021-12-06T10:15:37.495287Z",
     "iopub.status.busy": "2021-12-06T10:15:37.495026Z",
     "iopub.status.idle": "2021-12-06T10:15:37.505271Z",
     "shell.execute_reply": "2021-12-06T10:15:37.504583Z",
     "shell.execute_reply.started": "2021-12-06T10:15:37.495251Z"
    }
   },
   "outputs": [],
   "source": [
    "df.head(10)"
   ]
  },
  {
   "cell_type": "code",
   "execution_count": null,
   "metadata": {},
   "outputs": [],
   "source": []
  },
  {
   "cell_type": "code",
   "execution_count": 39,
   "metadata": {
    "execution": {
     "iopub.execute_input": "2021-12-06T10:15:37.507205Z",
     "iopub.status.busy": "2021-12-06T10:15:37.506664Z",
     "iopub.status.idle": "2021-12-06T10:15:37.516850Z",
     "shell.execute_reply": "2021-12-06T10:15:37.516094Z",
     "shell.execute_reply.started": "2021-12-06T10:15:37.507169Z"
    }
   },
   "outputs": [],
   "source": [
    "labels = df.Sentiment.values\n",
    "text = df.Tweet.values"
   ]
  },
  {
   "cell_type": "code",
   "execution_count": 40,
   "metadata": {
    "execution": {
     "iopub.execute_input": "2021-12-06T10:15:37.519169Z",
     "iopub.status.busy": "2021-12-06T10:15:37.518477Z",
     "iopub.status.idle": "2021-12-06T10:15:37.534023Z",
     "shell.execute_reply": "2021-12-06T10:15:37.533038Z",
     "shell.execute_reply.started": "2021-12-06T10:15:37.519069Z"
    }
   },
   "outputs": [],
   "source": [
    "from transformers import BertTokenizer,BertForSequenceClassification,AdamW"
   ]
  },
  {
   "cell_type": "code",
   "execution_count": 41,
   "metadata": {
    "execution": {
     "iopub.execute_input": "2021-12-06T10:15:37.535831Z",
     "iopub.status.busy": "2021-12-06T10:15:37.535313Z",
     "iopub.status.idle": "2021-12-06T10:15:37.539820Z",
     "shell.execute_reply": "2021-12-06T10:15:37.539079Z",
     "shell.execute_reply.started": "2021-12-06T10:15:37.535796Z"
    }
   },
   "outputs": [],
   "source": [
    "device = torch.device(\"cuda:0\" if torch.cuda.is_available() else \"cpu\")"
   ]
  },
  {
   "cell_type": "code",
   "execution_count": 42,
   "metadata": {
    "execution": {
     "iopub.execute_input": "2021-12-06T10:15:37.542295Z",
     "iopub.status.busy": "2021-12-06T10:15:37.541537Z",
     "iopub.status.idle": "2021-12-06T10:15:37.549059Z",
     "shell.execute_reply": "2021-12-06T10:15:37.548159Z",
     "shell.execute_reply.started": "2021-12-06T10:15:37.542255Z"
    }
   },
   "outputs": [],
   "source": [
    "print(torch.cuda.get_device_name(0))"
   ]
  },
  {
   "cell_type": "code",
   "execution_count": 43,
   "metadata": {
    "execution": {
     "iopub.execute_input": "2021-12-06T10:15:37.551400Z",
     "iopub.status.busy": "2021-12-06T10:15:37.550717Z",
     "iopub.status.idle": "2021-12-06T10:15:39.067507Z",
     "shell.execute_reply": "2021-12-06T10:15:39.066653Z",
     "shell.execute_reply.started": "2021-12-06T10:15:37.551365Z"
    }
   },
   "outputs": [],
   "source": []
  },
  {
   "cell_type": "code",
   "execution_count": 44,
   "metadata": {
    "execution": {
     "iopub.execute_input": "2021-12-06T10:15:39.069272Z",
     "iopub.status.busy": "2021-12-06T10:15:39.069050Z",
     "iopub.status.idle": "2021-12-06T10:15:45.004710Z",
     "shell.execute_reply": "2021-12-06T10:15:45.004015Z",
     "shell.execute_reply.started": "2021-12-06T10:15:39.069246Z"
    }
   },
   "outputs": [],
   "source": [
    "tokenizer = BertTokenizer.from_pretrained('bert-base-uncased',do_lower_case = True)"
   ]
  },
  {
   "cell_type": "code",
   "execution_count": 45,
   "metadata": {
    "execution": {
     "iopub.execute_input": "2021-12-06T10:15:45.006900Z",
     "iopub.status.busy": "2021-12-06T10:15:45.006114Z",
     "iopub.status.idle": "2021-12-06T10:15:45.011369Z",
     "shell.execute_reply": "2021-12-06T10:15:45.010635Z",
     "shell.execute_reply.started": "2021-12-06T10:15:45.006842Z"
    }
   },
   "outputs": [],
   "source": [
    "from torch.utils.data import DataLoader,SequentialSampler,RandomSampler,TensorDataset,random_split"
   ]
  },
  {
   "cell_type": "code",
   "execution_count": 46,
   "metadata": {
    "execution": {
     "iopub.execute_input": "2021-12-06T10:15:45.013509Z",
     "iopub.status.busy": "2021-12-06T10:15:45.012674Z",
     "iopub.status.idle": "2021-12-06T10:15:45.021292Z",
     "shell.execute_reply": "2021-12-06T10:15:45.020460Z",
     "shell.execute_reply.started": "2021-12-06T10:15:45.013459Z"
    }
   },
   "outputs": [],
   "source": [
    "input_ids = []\n",
    "attention_mask = []"
   ]
  },
  {
   "cell_type": "code",
   "execution_count": 47,
   "metadata": {
    "execution": {
     "iopub.execute_input": "2021-12-06T10:15:45.023174Z",
     "iopub.status.busy": "2021-12-06T10:15:45.022625Z",
     "iopub.status.idle": "2021-12-06T10:32:35.363206Z",
     "shell.execute_reply": "2021-12-06T10:32:35.362552Z",
     "shell.execute_reply.started": "2021-12-06T10:15:45.023137Z"
    }
   },
   "outputs": [],
   "source": [
    "input_ids = []\n",
    "attention_mask = []\n",
    "for i in text:\n",
    "    encoded_data = tokenizer.encode_plus(\n",
    "    i,\n",
    "    add_special_tokens=True,\n",
    "    max_length=64,\n",
    "    pad_to_max_length = True,\n",
    "    return_attention_mask= True,\n",
    "    return_tensors='pt')\n",
    "    input_ids.append(encoded_data['input_ids'])\n",
    "    attention_mask.append(encoded_data['attention_mask'])\n",
    "input_ids = torch.cat(input_ids,dim=0)\n",
    "attention_mask = torch.cat(attention_mask,dim=0)\n",
    "labels = torch.tensor(labels)"
   ]
  },
  {
   "cell_type": "code",
   "execution_count": 48,
   "metadata": {
    "execution": {
     "iopub.execute_input": "2021-12-06T10:32:35.365435Z",
     "iopub.status.busy": "2021-12-06T10:32:35.364826Z",
     "iopub.status.idle": "2021-12-06T10:32:35.374806Z",
     "shell.execute_reply": "2021-12-06T10:32:35.374153Z",
     "shell.execute_reply.started": "2021-12-06T10:32:35.365396Z"
    }
   },
   "outputs": [],
   "source": [
    "from torch.utils.data import DataLoader,SequentialSampler,RandomSampler,TensorDataset,random_split"
   ]
  },
  {
   "cell_type": "code",
   "execution_count": 49,
   "metadata": {
    "execution": {
     "iopub.execute_input": "2021-12-06T10:32:35.376893Z",
     "iopub.status.busy": "2021-12-06T10:32:35.376357Z",
     "iopub.status.idle": "2021-12-06T10:32:35.522812Z",
     "shell.execute_reply": "2021-12-06T10:32:35.522095Z",
     "shell.execute_reply.started": "2021-12-06T10:32:35.376841Z"
    }
   },
   "outputs": [],
   "source": [
    "dataset = TensorDataset(input_ids,attention_mask,labels)\n",
    "train_size = int(0.8*len(dataset))\n",
    "val_size = len(dataset) - train_size\n",
    "\n",
    "train_dataset,val_dataset = random_split(dataset,[train_size,val_size])\n",
    "\n",
    "print('Training Size - ',train_size)\n",
    "print('Validation Size - ',val_size)"
   ]
  },
  {
   "cell_type": "code",
   "execution_count": 50,
   "metadata": {
    "execution": {
     "iopub.execute_input": "2021-12-06T10:32:35.524578Z",
     "iopub.status.busy": "2021-12-06T10:32:35.524161Z",
     "iopub.status.idle": "2021-12-06T10:32:35.529589Z",
     "shell.execute_reply": "2021-12-06T10:32:35.528926Z",
     "shell.execute_reply.started": "2021-12-06T10:32:35.524537Z"
    }
   },
   "outputs": [],
   "source": [
    "train_dl = DataLoader(train_dataset,sampler = RandomSampler(train_dataset),\n",
    "                     batch_size = 32)\n",
    "val_dl = DataLoader(val_dataset,sampler = SequentialSampler(val_dataset),\n",
    "                     batch_size = 32)"
   ]
  },
  {
   "cell_type": "code",
   "execution_count": 51,
   "metadata": {
    "execution": {
     "iopub.execute_input": "2021-12-06T10:32:35.531182Z",
     "iopub.status.busy": "2021-12-06T10:32:35.530766Z",
     "iopub.status.idle": "2021-12-06T10:32:35.545323Z",
     "shell.execute_reply": "2021-12-06T10:32:35.544631Z",
     "shell.execute_reply.started": "2021-12-06T10:32:35.531144Z"
    }
   },
   "outputs": [],
   "source": [
    "len(train_dl),len(val_dl)"
   ]
  },
  {
   "cell_type": "code",
   "execution_count": 52,
   "metadata": {
    "execution": {
     "iopub.execute_input": "2021-12-06T10:32:35.547063Z",
     "iopub.status.busy": "2021-12-06T10:32:35.546531Z",
     "iopub.status.idle": "2021-12-06T10:32:53.719245Z",
     "shell.execute_reply": "2021-12-06T10:32:53.718407Z",
     "shell.execute_reply.started": "2021-12-06T10:32:35.547022Z"
    }
   },
   "outputs": [],
   "source": [
    "model = BertForSequenceClassification.from_pretrained(\n",
    "'bert-base-uncased',\n",
    "num_labels = 2,\n",
    "output_attentions = False,\n",
    "output_hidden_states = False)"
   ]
  },
  {
   "cell_type": "code",
   "execution_count": 53,
   "metadata": {
    "execution": {
     "iopub.execute_input": "2021-12-06T10:32:53.721033Z",
     "iopub.status.busy": "2021-12-06T10:32:53.720748Z",
     "iopub.status.idle": "2021-12-06T10:32:53.730410Z",
     "shell.execute_reply": "2021-12-06T10:32:53.726282Z",
     "shell.execute_reply.started": "2021-12-06T10:32:53.720995Z"
    }
   },
   "outputs": [],
   "source": [
    "import random\n",
    "\n",
    "seed_val = 17\n",
    "random.seed(seed_val)\n",
    "np.random.seed(seed_val)\n",
    "torch.manual_seed(seed_val)\n",
    "torch.cuda.manual_seed_all(seed_val)"
   ]
  },
  {
   "cell_type": "code",
   "execution_count": 54,
   "metadata": {
    "execution": {
     "iopub.execute_input": "2021-12-06T10:32:53.732114Z",
     "iopub.status.busy": "2021-12-06T10:32:53.731838Z",
     "iopub.status.idle": "2021-12-06T10:32:55.187724Z",
     "shell.execute_reply": "2021-12-06T10:32:55.186950Z",
     "shell.execute_reply.started": "2021-12-06T10:32:53.732080Z"
    }
   },
   "outputs": [],
   "source": [
    "device = torch.device('cuda' if torch.cuda.is_available() else 'cpu')\n",
    "model.to(device)\n",
    "\n",
    "print(device)"
   ]
  },
  {
   "cell_type": "code",
   "execution_count": 55,
   "metadata": {
    "execution": {
     "iopub.execute_input": "2021-12-06T10:32:55.189610Z",
     "iopub.status.busy": "2021-12-06T10:32:55.188910Z",
     "iopub.status.idle": "2021-12-06T10:32:55.199137Z",
     "shell.execute_reply": "2021-12-06T10:32:55.198375Z",
     "shell.execute_reply.started": "2021-12-06T10:32:55.189570Z"
    }
   },
   "outputs": [],
   "source": [
    "optimizer = AdamW(model.parameters(),lr = 2e-5,eps=1e-8)"
   ]
  },
  {
   "cell_type": "code",
   "execution_count": 56,
   "metadata": {
    "execution": {
     "iopub.execute_input": "2021-12-06T10:32:55.201010Z",
     "iopub.status.busy": "2021-12-06T10:32:55.200443Z",
     "iopub.status.idle": "2021-12-06T10:32:55.205941Z",
     "shell.execute_reply": "2021-12-06T10:32:55.205150Z",
     "shell.execute_reply.started": "2021-12-06T10:32:55.200974Z"
    }
   },
   "outputs": [],
   "source": [
    "from transformers import get_linear_schedule_with_warmup\n",
    "epochs = 1\n",
    "total_steps = len(train_dl)*epochs\n",
    "scheduler = get_linear_schedule_with_warmup(optimizer,num_warmup_steps=0,\n",
    "                                           num_training_steps=total_steps)"
   ]
  },
  {
   "cell_type": "code",
   "execution_count": 57,
   "metadata": {
    "execution": {
     "iopub.execute_input": "2021-12-06T10:32:55.207744Z",
     "iopub.status.busy": "2021-12-06T10:32:55.207114Z",
     "iopub.status.idle": "2021-12-06T10:32:55.215194Z",
     "shell.execute_reply": "2021-12-06T10:32:55.214428Z",
     "shell.execute_reply.started": "2021-12-06T10:32:55.207709Z"
    }
   },
   "outputs": [],
   "source": [
    "def accuracy(preds,labels):\n",
    "    pred_flat = np.argmax(preds,axis=1).flatten()\n",
    "    label_flat = labels.flatten()\n",
    "    return np.sum(pred_flat==label_flat)/len(label_flat)"
   ]
  },
  {
   "cell_type": "code",
   "execution_count": 58,
   "metadata": {
    "execution": {
     "iopub.execute_input": "2021-12-06T10:32:55.216973Z",
     "iopub.status.busy": "2021-12-06T10:32:55.216410Z",
     "iopub.status.idle": "2021-12-06T10:32:55.228056Z",
     "shell.execute_reply": "2021-12-06T10:32:55.227287Z",
     "shell.execute_reply.started": "2021-12-06T10:32:55.216938Z"
    }
   },
   "outputs": [],
   "source": [
    "def evaluate(dataloader_test):\n",
    "    model.eval()\n",
    "    loss_val_total = 0\n",
    "    predictions,true_vals = [],[]\n",
    "    for batch in dataloader_test:\n",
    "        batch = tuple(b.to(device) for b in batch)\n",
    "        inputs = {\n",
    "            'input_ids':batch[0],\n",
    "            'attention_mask': batch[1],\n",
    "            'labels': batch[2]\n",
    "        }\n",
    "        with torch.no_grad():\n",
    "            outputs = model(**inputs)\n",
    "        loss = outputs[0]\n",
    "        logits = outputs[1]\n",
    "        loss_val_total += loss.item()\n",
    "        logits = logits.detach().cpu().numpy()\n",
    "        label_ids = inputs['labels'].cpu().numpy()\n",
    "        predictions.append(logits)\n",
    "        true_vals.append(label_ids)\n",
    "    loss_val_avg = loss_val_total / len(dataloader_test)\n",
    "    predictions = np.concatenate(predictions,axis=0)\n",
    "    true_vals = np.concatenate(true_vals,axis=0)\n",
    "    return loss_val_avg,predictions,true_vals"
   ]
  },
  {
   "cell_type": "code",
   "execution_count": 59,
   "metadata": {
    "execution": {
     "iopub.execute_input": "2021-12-06T10:32:55.229903Z",
     "iopub.status.busy": "2021-12-06T10:32:55.229192Z",
     "iopub.status.idle": "2021-12-06T13:05:12.614442Z",
     "shell.execute_reply": "2021-12-06T13:05:12.613586Z",
     "shell.execute_reply.started": "2021-12-06T10:32:55.229850Z"
    }
   },
   "outputs": [],
   "source": [
    "from tqdm.notebook import tqdm\n",
    "torch.cuda.empty_cache()\n",
    "for epoch in tqdm(range(1, epochs+1)):\n",
    "    \n",
    "    model.train()\n",
    "    \n",
    "    loss_train_total = 0\n",
    "\n",
    "    progress_bar = tqdm(train_dl, desc='Epoch {:1d}'.format(epoch), leave=False, disable=False)\n",
    "    for batch in progress_bar:\n",
    "\n",
    "        model.zero_grad()\n",
    "        \n",
    "        batch = tuple(b.to(device) for b in batch)\n",
    "        \n",
    "        inputs = {'input_ids':      batch[0],\n",
    "                  'attention_mask': batch[1],\n",
    "                  'labels':         batch[2],\n",
    "                 }       \n",
    "\n",
    "        outputs = model(**inputs)\n",
    "        \n",
    "        loss = outputs[0]\n",
    "        loss_train_total += loss.item()\n",
    "        loss.backward()\n",
    "\n",
    "        torch.nn.utils.clip_grad_norm_(model.parameters(), 1.0)\n",
    "\n",
    "        optimizer.step()\n",
    "        scheduler.step()\n",
    "        \n",
    "        progress_bar.set_postfix({'training_loss': '{:.3f}'.format(loss.item()/len(batch))})\n",
    "         \n",
    "        \n",
    "    tqdm.write(f'\\nEpoch {epoch}')\n",
    "    \n",
    "    loss_train_avg = loss_train_total/len(train_dl)            \n",
    "    tqdm.write(f'Training loss: {loss_train_avg}')\n",
    "    \n",
    "    val_loss, predictions, true_vals = evaluate(val_dl)\n",
    "    val_acc = accuracy(predictions, true_vals)\n",
    "    tqdm.write(f'Validation loss: {val_loss}')\n",
    "    tqdm.write(f'Accuracy: {val_acc}')"
   ]
  },
  {
   "cell_type": "code",
   "execution_count": 60,
   "metadata": {
    "execution": {
     "iopub.execute_input": "2021-12-06T13:05:12.616427Z",
     "iopub.status.busy": "2021-12-06T13:05:12.615645Z",
     "iopub.status.idle": "2021-12-06T13:05:13.186745Z",
     "shell.execute_reply": "2021-12-06T13:05:13.185991Z",
     "shell.execute_reply.started": "2021-12-06T13:05:12.616383Z"
    }
   },
   "outputs": [],
   "source": []
  },
  {
   "cell_type": "code",
   "execution_count": 61,
   "metadata": {
    "execution": {
     "iopub.execute_input": "2021-12-06T13:05:13.189487Z",
     "iopub.status.busy": "2021-12-06T13:05:13.189073Z",
     "iopub.status.idle": "2021-12-06T13:05:13.542813Z",
     "shell.execute_reply": "2021-12-06T13:05:13.542084Z",
     "shell.execute_reply.started": "2021-12-06T13:05:13.189450Z"
    }
   },
   "outputs": [],
   "source": []
  },
  {
   "cell_type": "code",
   "execution_count": 62,
   "metadata": {
    "execution": {
     "iopub.execute_input": "2021-12-06T13:05:13.544489Z",
     "iopub.status.busy": "2021-12-06T13:05:13.544234Z",
     "iopub.status.idle": "2021-12-06T13:05:14.464249Z",
     "shell.execute_reply": "2021-12-06T13:05:14.463562Z",
     "shell.execute_reply.started": "2021-12-06T13:05:13.544443Z"
    }
   },
   "outputs": [],
   "source": [
    "output_dir = '/data02'\n",
    "model_to_save = model.module if hasattr(model, 'module') else model\n",
    "model_to_save.save_pretrained(output_dir)\n",
    "tokenizer.save_pretrained(output_dir)"
   ]
  },
  {
   "cell_type": "code",
   "execution_count": 63,
   "metadata": {
    "execution": {
     "iopub.execute_input": "2021-12-06T13:05:14.469773Z",
     "iopub.status.busy": "2021-12-06T13:05:14.469500Z",
     "iopub.status.idle": "2021-12-06T13:05:15.402311Z",
     "shell.execute_reply": "2021-12-06T13:05:15.401712Z",
     "shell.execute_reply.started": "2021-12-06T13:05:14.469737Z"
    }
   },
   "outputs": [],
   "source": [
    "from transformers import BertTokenizer,BertForSequenceClassification\n",
    "import torch\n",
    "# Load the BERT tokenizer.\n",
    "print('Loading BERT tokenizer...')\n",
    "output_dir = '/data02'\n",
    "tokenizer = BertTokenizer.from_pretrained(output_dir)\n",
    "model_loaded = BertForSequenceClassification.from_pretrained(output_dir)"
   ]
  },
  {
   "cell_type": "code",
   "execution_count": 64,
   "metadata": {
    "execution": {
     "iopub.execute_input": "2021-12-06T13:05:15.412189Z",
     "iopub.status.busy": "2021-12-06T13:05:15.408368Z",
     "iopub.status.idle": "2021-12-06T13:05:15.420559Z",
     "shell.execute_reply": "2021-12-06T13:05:15.419917Z",
     "shell.execute_reply.started": "2021-12-06T13:05:15.412154Z"
    }
   },
   "outputs": [],
   "source": [
    "def Sentiment(sent):\n",
    "    output_dir = '/data02'\n",
    "    tokenizer = BertTokenizer.from_pretrained(output_dir)\n",
    "    model_loaded = BertForSequenceClassification.from_pretrained(output_dir)\n",
    "    encoded_dict = tokenizer.encode_plus(\n",
    "                        sent, \n",
    "                        add_special_tokens = True,\n",
    "                        max_length = 64,\n",
    "                        pad_to_max_length = True,\n",
    "                        return_attention_mask = True,\n",
    "                        return_tensors = 'pt',\n",
    "                   )\n",
    "        \n",
    "    input_id = encoded_dict['input_ids']\n",
    "\n",
    "    attention_mask = encoded_dict['attention_mask']\n",
    "    input_id = torch.LongTensor(input_id)\n",
    "    attention_mask = torch.LongTensor(attention_mask)\n",
    "\n",
    "    device = torch.device(\"cuda\" if torch.cuda.is_available() else \"cpu\")\n",
    "    model_loaded = model_loaded.to(device)\n",
    "    input_id = input_id.to(device)\n",
    "    attention_mask = attention_mask.to(device)\n",
    "\n",
    "    with torch.no_grad():\n",
    "        outputs = model_loaded(input_id, token_type_ids=None, attention_mask=attention_mask)\n",
    "\n",
    "    logits = outputs[0]\n",
    "    index = logits.argmax()\n",
    "    return index"
   ]
  },
  {
   "cell_type": "code",
   "execution_count": 79,
   "metadata": {
    "execution": {
     "iopub.execute_input": "2021-12-06T13:39:36.433170Z",
     "iopub.status.busy": "2021-12-06T13:39:36.432725Z",
     "iopub.status.idle": "2021-12-06T13:39:37.528452Z",
     "shell.execute_reply": "2021-12-06T13:39:37.527720Z",
     "shell.execute_reply.started": "2021-12-06T13:39:36.433122Z"
    }
   },
   "outputs": [],
   "source": [
    "ans = Sentiment('Sorry but I am finding the interest rate on the current loan a bit too high')"
   ]
  },
  {
   "cell_type": "code",
   "execution_count": 80,
   "metadata": {
    "execution": {
     "iopub.execute_input": "2021-12-06T13:39:39.947125Z",
     "iopub.status.busy": "2021-12-06T13:39:39.946720Z",
     "iopub.status.idle": "2021-12-06T13:39:39.967579Z",
     "shell.execute_reply": "2021-12-06T13:39:39.961919Z",
     "shell.execute_reply.started": "2021-12-06T13:39:39.947072Z"
    }
   },
   "outputs": [],
   "source": [
    "if ans == 1:\n",
    "    print(\"Positive\")\n",
    "else:\n",
    "    print(\"Negative\")"
   ]
  },
  {
   "cell_type": "code",
   "execution_count": 67,
   "metadata": {
    "execution": {
     "iopub.execute_input": "2021-12-06T13:05:50.231830Z",
     "iopub.status.busy": "2021-12-06T13:05:50.231517Z",
     "iopub.status.idle": "2021-12-06T13:05:50.259993Z",
     "shell.execute_reply": "2021-12-06T13:05:50.259270Z",
     "shell.execute_reply.started": "2021-12-06T13:05:50.231794Z"
    }
   },
   "outputs": [],
   "source": [
    "final_data"
   ]
  },
  {
   "cell_type": "code",
   "execution_count": 68,
   "metadata": {
    "execution": {
     "iopub.execute_input": "2021-12-06T13:05:58.514555Z",
     "iopub.status.busy": "2021-12-06T13:05:58.514290Z",
     "iopub.status.idle": "2021-12-06T13:05:58.538660Z",
     "shell.execute_reply": "2021-12-06T13:05:58.537858Z",
     "shell.execute_reply.started": "2021-12-06T13:05:58.514526Z"
    }
   },
   "outputs": [],
   "source": [
    "top_words"
   ]
  },
  {
   "cell_type": "code",
   "execution_count": 70,
   "metadata": {
    "execution": {
     "iopub.execute_input": "2021-12-06T13:16:27.571610Z",
     "iopub.status.busy": "2021-12-06T13:16:27.570840Z",
     "iopub.status.idle": "2021-12-06T13:16:27.576276Z",
     "shell.execute_reply": "2021-12-06T13:16:27.575298Z",
     "shell.execute_reply.started": "2021-12-06T13:16:27.571569Z"
    }
   },
   "outputs": [],
   "source": [
    "rows, c = final_data.shape\n",
    "print(rows)"
   ]
  },
  {
   "cell_type": "code",
   "execution_count": 78,
   "metadata": {
    "execution": {
     "iopub.execute_input": "2021-12-06T13:31:31.192554Z",
     "iopub.status.busy": "2021-12-06T13:31:31.192272Z",
     "iopub.status.idle": "2021-12-06T13:31:36.442316Z",
     "shell.execute_reply": "2021-12-06T13:31:36.441352Z",
     "shell.execute_reply.started": "2021-12-06T13:31:31.192522Z"
    }
   },
   "outputs": [],
   "source": [
    "for i in range(rows):\n",
    "    topic = final_data.at[i, 'Topic']\n",
    "    fsentence = final_data.at[i, 'Doc']\n",
    "    fsize = final_data.at[i, 'Size']\n",
    "    ans = Sentiment(fsentence)\n",
    "    print(\"Topic Number = \" , topic )\n",
    "    print(\"Topic Size = \" , fsize )\n",
    "    print(\"Topic Sentiment = \", end = \"\")\n",
    "    if ans == 1:\n",
    "        print(\"Positive\")\n",
    "    else:\n",
    "        print(\"Negative\")\n",
    "    print(\"Top Words = \", end = \"\")\n",
    "    words_list = top_words[topic].tolist()\n",
    "    print(*words_list)"
   ]
  },
  {
   "cell_type": "code",
   "execution_count": null,
   "metadata": {},
   "outputs": [],
   "source": []
  }
 ],
 "metadata": {
  "kernelspec": {
   "display_name": "Python 3 (ipykernel)",
   "language": "python",
   "name": "python3"
  },
  "language_info": {
   "codemirror_mode": {
    "name": "ipython",
    "version": 3
   },
   "file_extension": ".py",
   "mimetype": "text/x-python",
   "name": "python",
   "nbconvert_exporter": "python",
   "pygments_lexer": "ipython3",
   "version": "3.8.10"
  }
 },
 "nbformat": 4,
 "nbformat_minor": 4
}
