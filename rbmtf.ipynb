{
 "cells": [
  {
   "cell_type": "code",
   "execution_count": 13,
   "id": "f344aae2",
   "metadata": {},
   "outputs": [],
   "source": [
    "from __future__ import print_function\n",
    "\n",
    "import timeit\n",
    "\n",
    "try:\n",
    "    import PIL.Image as Image\n",
    "except ImportError:\n",
    "    import Image\n"
   ]
  },
  {
   "cell_type": "code",
   "execution_count": 22,
   "id": "0de224c6",
   "metadata": {},
   "outputs": [],
   "source": [
    "import numpy\n"
   ]
  },
  {
   "cell_type": "code",
   "execution_count": 21,
   "id": "f0d5b964",
   "metadata": {},
   "outputs": [
    {
     "name": "stderr",
     "output_type": "stream",
     "text": [
      "2022-04-19 12:22:44.132207: W tensorflow/stream_executor/platform/default/dso_loader.cc:64] Could not load dynamic library 'libcudart.so.11.0'; dlerror: libcudart.so.11.0: cannot open shared object file: No such file or directory\n",
      "2022-04-19 12:22:44.132255: I tensorflow/stream_executor/cuda/cudart_stub.cc:29] Ignore above cudart dlerror if you do not have a GPU set up on your machine.\n"
     ]
    }
   ],
   "source": [
    "import tensorflow as tf"
   ]
  },
  {
   "cell_type": "code",
   "execution_count": 24,
   "id": "ccb73a99",
   "metadata": {},
   "outputs": [],
   "source": [
    "class RBM(object):\n",
    "    def __init__(self,visible_dim,hidden_dim,learning_rate,number_of_iteration):\n",
    "        \n",
    "        self._graph = tf.Graph()\n",
    "        \n",
    "        #INITIALIZATION OF THE GRAPH \n",
    "        with self._graph.as_default():\n",
    "            \n",
    "            self._num_iter = number_of_iteration\n",
    "            self._visible_biases = tf.Variable(tf.random_uniform([1, visible_dim], 0, 1, name = \"visible_biases\"))\n",
    "            self._hidden_biases = tf.Variable(tf.random_uniform([1, hidden_dim], 0, 1, name = \"hidden_biases\"))\n",
    "            self._hidden_states = tf.Variable(tf.zeros([1, hidden_dim], tf.float32, name = \"hidden_biases\"))\n",
    "            self._visible_cdstates = tf.Variable(tf.zeros([1, visible_dim], tf.float32, name = \"visible_biases\"))\n",
    "            self._hidden_cdstates = tf.Variable(tf.zeros([1, hidden_dim], tf.float32, name = \"hidden_biases\"))\n",
    "            self._weights = tf.Variable(tf.random_normal([visible_dim, hidden_dim], 0.01), name=\"weights\")\n",
    "            self._leraning_rate =  tf.Variable(tf.fill([visible_dim, hidden_dim], learning_rate), name = \"learning_rate\")\n",
    "            \n",
    "            self._input_sample = tf.placeholder(tf.float32, [visible_dim], name = \"input_sample\")\n",
    "            input_matrix = tf.transpose(tf.stack([self._input_sample for i in range(hidden_dim)]))\n",
    "            _hidden_probabilities = tf.sigmoid(tf.add(tf.multiply(input_matrix, self._weights), tf.stack([self._hidden_biases[0] for i in range(visible_dim)])))\n",
    "            self._hidden_states = self.callculate_state(_hidden_probabilities)\n",
    "            _visible_probabilities = tf.sigmoid(tf.add(tf.multiply(self._hidden_states, self._weights), tf.transpose(tf.stack([self._visible_biases[0] for i in range(hidden_dim)]))))\n",
    "            self._visible_cdstates = self.callculate_state(_visible_probabilities)\n",
    "            self._hidden_cdstates = self.callculate_state(tf.sigmoid(tf.multiply(self._visible_cdstates, self._weights) + self._hidden_biases))\n",
    "            \n",
    "            positive_gradient_matrix = tf.multiply(input_matrix, self._hidden_states)\n",
    "            negative_gradient_matrix = tf.multiply(self._visible_cdstates, self._hidden_cdstates)\n",
    "            \n",
    "            new_weights = self._weights\n",
    "            new_weights.assign_add(tf.multiply(positive_gradient_matrix, self._leraning_rate))\n",
    "            new_weights.assign_sub(tf.multiply(negative_gradient_matrix, self._leraning_rate))\n",
    "\n",
    "            self._training = tf.assign(self._weights, new_weights) \n",
    "            \n",
    "            #Initilize session and run it\n",
    "            self._sess = tf.Session()\n",
    "            initialization = tf.global_variables_initializer()\n",
    "            self._sess.run(initialization)\n",
    "    def train(self, input_vects):\n",
    "        for iter_no in range(self._num_iter):\n",
    "            for input_vect in input_vects:\n",
    "                self._sess.run(self._training,\n",
    "                               feed_dict={self._input_sample: input_vect})\n",
    "    \n",
    "    def callculate_state(self, probability):\n",
    "        return tf.floor(probability + tf.random_uniform(tf.shape(probability), 0, 1))\n",
    "        \n",
    "\n",
    "\n",
    "        "
   ]
  },
  {
   "cell_type": "code",
   "execution_count": null,
   "id": "18e0a5ad",
   "metadata": {},
   "outputs": [],
   "source": []
  }
 ],
 "metadata": {
  "kernelspec": {
   "display_name": "Python 3 (ipykernel)",
   "language": "python",
   "name": "python3"
  },
  "language_info": {
   "codemirror_mode": {
    "name": "ipython",
    "version": 3
   },
   "file_extension": ".py",
   "mimetype": "text/x-python",
   "name": "python",
   "nbconvert_exporter": "python",
   "pygments_lexer": "ipython3",
   "version": "3.8.10"
  }
 },
 "nbformat": 4,
 "nbformat_minor": 5
}
