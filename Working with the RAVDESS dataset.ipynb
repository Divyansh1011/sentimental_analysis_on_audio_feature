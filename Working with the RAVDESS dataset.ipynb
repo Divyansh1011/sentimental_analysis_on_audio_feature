{
 "cells": [
  {
   "cell_type": "code",
   "execution_count": 250,
   "id": "13a57ada",
   "metadata": {},
   "outputs": [],
   "source": [
    "\n",
    "# IMPORT NECESSARY LIBRARIES\n",
    "import librosa\n",
    "%matplotlib inline\n",
    "import matplotlib.pyplot as plt\n",
    "import librosa.display\n",
    "from IPython.display import Audio\n",
    "import numpy as np\n",
    "import tensorflow as tf\n",
    "from matplotlib.pyplot import specgram\n",
    "import pandas as pd\n",
    "from sklearn.metrics import confusion_matrix\n",
    "import IPython.display as ipd  # To play sound in the notebook\n",
    "import os # interface with underlying OS that python is running on\n",
    "import sys\n",
    "import warnings\n",
    "# ignore warnings \n",
    "if not sys.warnoptions:\n",
    "    warnings.simplefilter(\"ignore\")\n",
    "warnings.filterwarnings(\"ignore\", category=DeprecationWarning)\n",
    "from sklearn.model_selection import train_test_split\n",
    "from sklearn.preprocessing import LabelEncoder\n",
    "import tensorflow.keras\n",
    "from tensorflow.keras.models import Sequential\n",
    "from tensorflow.keras.layers import Conv1D, MaxPooling1D, AveragePooling1D\n",
    "from tensorflow.keras.layers import Input, Flatten, Dropout, Activation, BatchNormalization, Dense\n",
    "from sklearn.model_selection import GridSearchCV\n",
    "from tensorflow.keras.wrappers.scikit_learn import KerasClassifier\n",
    "from tensorflow.keras.optimizers import SGD\n",
    "from tensorflow.keras.regularizers import l2\n",
    "import seaborn as sns\n",
    "from tensorflow.keras.callbacks import EarlyStopping, ModelCheckpoint\n",
    "from tensorflow.keras.utils import to_categorical\n",
    "from sklearn.metrics import classification_report"
   ]
  },
  {
   "cell_type": "code",
   "execution_count": 251,
   "id": "53ef6afb",
   "metadata": {},
   "outputs": [],
   "source": [
    "X, sr = librosa.load('/home/divyansh/Divyansh/projects/senti_random_forest/data/Actor_01/03-01-01-01-01-01-01.wav')"
   ]
  },
  {
   "cell_type": "code",
   "execution_count": null,
   "id": "8a69f39c",
   "metadata": {},
   "outputs": [],
   "source": [
    "#display the waveplot \n",
    "plt.figure(figsize=(8,4))\n",
    "librosa.display.waveplot(X, sr=sr)\n",
    "plt.title('Waveplot- Male Neutral')\n",
    "plt.savefig('Waveplot_MaleNeutral.png')"
   ]
  },
  {
   "cell_type": "markdown",
   "id": "0b7e9643",
   "metadata": {},
   "source": [
    "Feature Extraction of the sound waves \n"
   ]
  },
  {
   "cell_type": "code",
   "execution_count": null,
   "id": "8414b64e",
   "metadata": {},
   "outputs": [],
   "source": [
    "#Making the mel spectogram of the wave file \n",
    "spectogram = librosa.feature.melspectrogram(y=X, sr=sr, n_mels=128, fmax=8000)\n",
    "spectogram = librosa.power_to_db(spectogram)\n",
    "\n",
    "librosa.display.specshow(spectogram, y_axis='mel', fmax = 8000, x_axis='time')\n",
    "plt.title('Mel Spectogram - Male Neautral')\n",
    "plt.savefig('Melspec_MaleNeutral.png')\n",
    "plt.colorbar(format='%+2.0f dB');"
   ]
  },
  {
   "cell_type": "code",
   "execution_count": null,
   "id": "49ddcc9c",
   "metadata": {},
   "outputs": [],
   "source": [
    "x, sr = librosa.load('/home/divyansh/Divyansh/projects/senti_random_forest/data/Actor_02/03-01-02-01-01-01-02.wav')\n",
    "plt.figure(figsize=(8, 4))\n",
    "librosa.display.waveplot(x, sr=sr)\n",
    "plt.title('Waveplot - Female Calm')\n",
    "plt.savefig('Waveplot_FemaleCalm.png')"
   ]
  },
  {
   "cell_type": "code",
   "execution_count": null,
   "id": "f276674e",
   "metadata": {},
   "outputs": [],
   "source": [
    "# CREATE LOG MEL SPECTROGRAM\n",
    "spectrogram = librosa.feature.melspectrogram(y=x, sr=sr, n_mels=128,fmax=8000) \n",
    "spectrogram = librosa.power_to_db(spectrogram)\n",
    "\n",
    "librosa.display.specshow(spectrogram, y_axis='mel', fmax=8000, x_axis='time');\n",
    "plt.title('Mel Spectrogram - Female Calm')\n",
    "plt.savefig('MelSpec_FemaleCalm.png')\n",
    "plt.colorbar(format='%+2.0f dB');"
   ]
  },
  {
   "cell_type": "code",
   "execution_count": null,
   "id": "63173bf1",
   "metadata": {},
   "outputs": [],
   "source": [
    "x, sr = librosa.load('/home/divyansh/Divyansh/projects/senti_random_forest/data/Actor_03/03-01-03-01-01-01-03.wav')\n",
    "plt.figure(figsize=(8, 4))\n",
    "librosa.display.waveplot(x, sr=sr)\n",
    "plt.title('Waveplot - Male Happy ')\n",
    "plt.savefig('Waveplot_MaleHappy.png')"
   ]
  },
  {
   "cell_type": "code",
   "execution_count": null,
   "id": "8da2b312",
   "metadata": {},
   "outputs": [],
   "source": [
    "x = librosa.feature.melspectrogram(y=x, sr=sr,n_mels=128,fmax=8000) \n",
    "x= librosa.power_to_db(x)\n",
    "\n",
    "librosa.display.specshow(x, y_axis='mel', fmax=8000, x_axis='time');\n",
    "plt.title('Mel Spectrogram - Male Happy')\n",
    "plt.savefig('MelSpec_MaleHappy.png')\n",
    "plt.colorbar(format='%+2.0f dB');"
   ]
  },
  {
   "cell_type": "code",
   "execution_count": null,
   "id": "c463dce5",
   "metadata": {},
   "outputs": [],
   "source": [
    "x, sr = librosa.load('/home/divyansh/Divyansh/projects/senti_random_forest/data/Actor_04/03-01-04-01-01-01-04.wav')\n",
    "plt.figure(figsize=(8, 4))\n",
    "librosa.display.waveplot(x, sr=sr)\n",
    "plt.title('Waveplot - Female Sad ')\n",
    "plt.savefig('Waveplot_FemaleSad.png')"
   ]
  },
  {
   "cell_type": "code",
   "execution_count": null,
   "id": "eef489ca",
   "metadata": {},
   "outputs": [],
   "source": [
    "x = librosa.feature.melspectrogram(y=x, sr=sr,n_mels=128,fmax=8000) \n",
    "y = librosa.power_to_db(x)\n",
    "\n",
    "librosa.display.specshow(y, y_axis='mel', fmax=8000, x_axis='time');\n",
    "plt.title('Mel Spectrogram - Female Sad');\n",
    "plt.savefig('MelSpec_FemaleSad.png')\n",
    "plt.colorbar(format='%+2.0f dB');"
   ]
  },
  {
   "cell_type": "code",
   "execution_count": null,
   "id": "1083b07e",
   "metadata": {},
   "outputs": [],
   "source": [
    "x,sr = librosa.load('/home/divyansh/Divyansh/projects/senti_random_forest/data/Actor_05/03-01-05-01-01-01-05.wav')\n",
    "plt.figure(figsize=(8, 4))\n",
    "librosa.display.waveplot(x, sr=sr)\n",
    "plt.title('Waveplot - Male Angry')\n",
    "plt.savefig('Waveplot_MaleAngry.png')\n",
    " "
   ]
  },
  {
   "cell_type": "code",
   "execution_count": null,
   "id": "a5da7ed4",
   "metadata": {},
   "outputs": [],
   "source": [
    "\n",
    "x = librosa.feature.melspectrogram(y=x, sr=sr,n_mels=128,fmax=8000) \n",
    "y = librosa.power_to_db(x)\n",
    "\n",
    "librosa.display.specshow(y, y_axis='mel', fmax=8000, x_axis='time');\n",
    "plt.title('Mel Spectrogram - Male Angry');\n",
    "plt.savefig('MelSpec_MaleAngry.png')\n",
    "plt.colorbar(format='%+2.0f dB');\n"
   ]
  },
  {
   "cell_type": "code",
   "execution_count": null,
   "id": "8b94c631",
   "metadata": {},
   "outputs": [],
   "source": [
    "x,sr = librosa.load('/home/divyansh/Divyansh/projects/senti_random_forest/data/Actor_06/03-01-06-01-01-01-06.wav')\n",
    "plt.figure(figsize=(8, 4))\n",
    "librosa.display.waveplot(x, sr=sr)\n",
    "plt.title('Waveplot - Female Fearful ')\n",
    "plt.savefig('Waveplot_FemaleFearful.png')"
   ]
  },
  {
   "cell_type": "code",
   "execution_count": null,
   "id": "4082bed6",
   "metadata": {},
   "outputs": [],
   "source": [
    "x = librosa.feature.melspectrogram(y=x, sr=sr,n_mels=128,fmax=8000) \n",
    "y = librosa.power_to_db(x)\n",
    "\n",
    "librosa.display.specshow(y, y_axis='mel', fmax=8000, x_axis='time');\n",
    "plt.title('Mel Spectrogram - Female Fearful')\n",
    "plt.savefig('MelSpec_FemaleFearful.png')\n",
    "plt.colorbar(format='%+2.0f dB');"
   ]
  },
  {
   "cell_type": "markdown",
   "id": "5636eb65",
   "metadata": {},
   "source": [
    "Date Pre Processing \n"
   ]
  },
  {
   "cell_type": "markdown",
   "id": "f601fd16",
   "metadata": {},
   "source": [
    "Labelling Audio FIles\n"
   ]
  },
  {
   "cell_type": "code",
   "execution_count": 252,
   "id": "496360f6",
   "metadata": {},
   "outputs": [
    {
     "data": {
      "text/plain": [
       "['Actor_01', 'Actor_02', 'Actor_03', 'Actor_04', 'Actor_05']"
      ]
     },
     "execution_count": 252,
     "metadata": {},
     "output_type": "execute_result"
    }
   ],
   "source": [
    "audio = \"/home/divyansh/Divyansh/projects/senti_random_forest/data/\"\n",
    "actor_folders = os.listdir(audio)\n",
    "actor_folders.sort()\n",
    "actor_folders[0:5]"
   ]
  },
  {
   "cell_type": "code",
   "execution_count": 253,
   "id": "17e74765",
   "metadata": {},
   "outputs": [],
   "source": [
    "# CREATE FUNCTION TO EXTRACT EMOTION NUMBER, ACTOR AND GENDER LABEL\n",
    "emotion = []\n",
    "gender = []\n",
    "actor = []\n",
    "file_path = []\n",
    "for i in actor_folders:\n",
    "    filename = os.listdir(audio + i) #iterate over Actor folders\n",
    "    for f in filename: # go through files in Actor folder\n",
    "        part = f.split('.')[0].split('-')\n",
    "        emotion.append(int(part[2]))\n",
    "        actor.append(int(part[6]))\n",
    "        bg = int(part[6])\n",
    "        if bg%2 == 0:\n",
    "            bg = \"female\"\n",
    "        else:\n",
    "            bg = \"male\"\n",
    "        gender.append(bg)\n",
    "        file_path.append(audio + i + '/' + f)"
   ]
  },
  {
   "cell_type": "code",
   "execution_count": 254,
   "id": "4ff016c6",
   "metadata": {},
   "outputs": [
    {
     "data": {
      "text/html": [
       "<div>\n",
       "<style scoped>\n",
       "    .dataframe tbody tr th:only-of-type {\n",
       "        vertical-align: middle;\n",
       "    }\n",
       "\n",
       "    .dataframe tbody tr th {\n",
       "        vertical-align: top;\n",
       "    }\n",
       "\n",
       "    .dataframe thead th {\n",
       "        text-align: right;\n",
       "    }\n",
       "</style>\n",
       "<table border=\"1\" class=\"dataframe\">\n",
       "  <thead>\n",
       "    <tr style=\"text-align: right;\">\n",
       "      <th></th>\n",
       "      <th>gender</th>\n",
       "      <th>emotion</th>\n",
       "      <th>actor</th>\n",
       "      <th>path</th>\n",
       "    </tr>\n",
       "  </thead>\n",
       "  <tbody>\n",
       "    <tr>\n",
       "      <th>0</th>\n",
       "      <td>male</td>\n",
       "      <td>neutral</td>\n",
       "      <td>1</td>\n",
       "      <td>/home/divyansh/Divyansh/projects/senti_random_forest/data/Actor_01/03-01-01-01-02-02-01.wav</td>\n",
       "    </tr>\n",
       "    <tr>\n",
       "      <th>1</th>\n",
       "      <td>male</td>\n",
       "      <td>fear</td>\n",
       "      <td>1</td>\n",
       "      <td>/home/divyansh/Divyansh/projects/senti_random_forest/data/Actor_01/03-01-06-02-02-01-01.wav</td>\n",
       "    </tr>\n",
       "    <tr>\n",
       "      <th>2</th>\n",
       "      <td>male</td>\n",
       "      <td>angry</td>\n",
       "      <td>1</td>\n",
       "      <td>/home/divyansh/Divyansh/projects/senti_random_forest/data/Actor_01/03-01-05-02-01-01-01.wav</td>\n",
       "    </tr>\n",
       "    <tr>\n",
       "      <th>3</th>\n",
       "      <td>male</td>\n",
       "      <td>happy</td>\n",
       "      <td>1</td>\n",
       "      <td>/home/divyansh/Divyansh/projects/senti_random_forest/data/Actor_01/03-01-03-02-01-02-01.wav</td>\n",
       "    </tr>\n",
       "    <tr>\n",
       "      <th>4</th>\n",
       "      <td>male</td>\n",
       "      <td>sad</td>\n",
       "      <td>1</td>\n",
       "      <td>/home/divyansh/Divyansh/projects/senti_random_forest/data/Actor_01/03-01-04-01-02-01-01.wav</td>\n",
       "    </tr>\n",
       "    <tr>\n",
       "      <th>...</th>\n",
       "      <td>...</td>\n",
       "      <td>...</td>\n",
       "      <td>...</td>\n",
       "      <td>...</td>\n",
       "    </tr>\n",
       "    <tr>\n",
       "      <th>1435</th>\n",
       "      <td>female</td>\n",
       "      <td>sad</td>\n",
       "      <td>24</td>\n",
       "      <td>/home/divyansh/Divyansh/projects/senti_random_forest/data/Actor_24/03-01-04-01-01-02-24.wav</td>\n",
       "    </tr>\n",
       "    <tr>\n",
       "      <th>1436</th>\n",
       "      <td>female</td>\n",
       "      <td>fear</td>\n",
       "      <td>24</td>\n",
       "      <td>/home/divyansh/Divyansh/projects/senti_random_forest/data/Actor_24/03-01-06-01-01-01-24.wav</td>\n",
       "    </tr>\n",
       "    <tr>\n",
       "      <th>1437</th>\n",
       "      <td>female</td>\n",
       "      <td>calm</td>\n",
       "      <td>24</td>\n",
       "      <td>/home/divyansh/Divyansh/projects/senti_random_forest/data/Actor_24/03-01-02-01-02-01-24.wav</td>\n",
       "    </tr>\n",
       "    <tr>\n",
       "      <th>1438</th>\n",
       "      <td>female</td>\n",
       "      <td>surprise</td>\n",
       "      <td>24</td>\n",
       "      <td>/home/divyansh/Divyansh/projects/senti_random_forest/data/Actor_24/03-01-08-01-01-02-24.wav</td>\n",
       "    </tr>\n",
       "    <tr>\n",
       "      <th>1439</th>\n",
       "      <td>female</td>\n",
       "      <td>surprise</td>\n",
       "      <td>24</td>\n",
       "      <td>/home/divyansh/Divyansh/projects/senti_random_forest/data/Actor_24/03-01-08-02-02-02-24.wav</td>\n",
       "    </tr>\n",
       "  </tbody>\n",
       "</table>\n",
       "<p>1440 rows × 4 columns</p>\n",
       "</div>"
      ],
      "text/plain": [
       "      gender   emotion  actor  \\\n",
       "0     male    neutral   1       \n",
       "1     male    fear      1       \n",
       "2     male    angry     1       \n",
       "3     male    happy     1       \n",
       "4     male    sad       1       \n",
       "...    ...    ...      ..       \n",
       "1435  female  sad       24      \n",
       "1436  female  fear      24      \n",
       "1437  female  calm      24      \n",
       "1438  female  surprise  24      \n",
       "1439  female  surprise  24      \n",
       "\n",
       "                                                                                             path  \n",
       "0     /home/divyansh/Divyansh/projects/senti_random_forest/data/Actor_01/03-01-01-01-02-02-01.wav  \n",
       "1     /home/divyansh/Divyansh/projects/senti_random_forest/data/Actor_01/03-01-06-02-02-01-01.wav  \n",
       "2     /home/divyansh/Divyansh/projects/senti_random_forest/data/Actor_01/03-01-05-02-01-01-01.wav  \n",
       "3     /home/divyansh/Divyansh/projects/senti_random_forest/data/Actor_01/03-01-03-02-01-02-01.wav  \n",
       "4     /home/divyansh/Divyansh/projects/senti_random_forest/data/Actor_01/03-01-04-01-02-01-01.wav  \n",
       "...                                                                                           ...  \n",
       "1435  /home/divyansh/Divyansh/projects/senti_random_forest/data/Actor_24/03-01-04-01-01-02-24.wav  \n",
       "1436  /home/divyansh/Divyansh/projects/senti_random_forest/data/Actor_24/03-01-06-01-01-01-24.wav  \n",
       "1437  /home/divyansh/Divyansh/projects/senti_random_forest/data/Actor_24/03-01-02-01-02-01-24.wav  \n",
       "1438  /home/divyansh/Divyansh/projects/senti_random_forest/data/Actor_24/03-01-08-01-01-02-24.wav  \n",
       "1439  /home/divyansh/Divyansh/projects/senti_random_forest/data/Actor_24/03-01-08-02-02-02-24.wav  \n",
       "\n",
       "[1440 rows x 4 columns]"
      ]
     },
     "execution_count": 254,
     "metadata": {},
     "output_type": "execute_result"
    }
   ],
   "source": [
    "# PUT EXTRACTED LABELS WITH FILEPATH INTO DATAFRAME\n",
    "audio_df = pd.DataFrame(emotion)\n",
    "audio_df = audio_df.replace({1:'neutral', 2:'calm', 3:'happy', 4:'sad', 5:'angry', 6:'fear', 7:'disgust', 8:'surprise'})\n",
    "audio_df = pd.concat([pd.DataFrame(gender),audio_df,pd.DataFrame(actor)],axis=1)\n",
    "audio_df.columns = ['gender','emotion','actor']\n",
    "audio_df = pd.concat([audio_df,pd.DataFrame(file_path, columns = ['path'])],axis=1)\n",
    "audio_df"
   ]
  },
  {
   "cell_type": "code",
   "execution_count": 255,
   "id": "b0c37d33",
   "metadata": {},
   "outputs": [
    {
     "data": {
      "text/html": [
       "<div>\n",
       "<style scoped>\n",
       "    .dataframe tbody tr th:only-of-type {\n",
       "        vertical-align: middle;\n",
       "    }\n",
       "\n",
       "    .dataframe tbody tr th {\n",
       "        vertical-align: top;\n",
       "    }\n",
       "\n",
       "    .dataframe thead th {\n",
       "        text-align: right;\n",
       "    }\n",
       "</style>\n",
       "<table border=\"1\" class=\"dataframe\">\n",
       "  <thead>\n",
       "    <tr style=\"text-align: right;\">\n",
       "      <th></th>\n",
       "      <th>gender</th>\n",
       "      <th>emotion</th>\n",
       "      <th>actor</th>\n",
       "      <th>path</th>\n",
       "    </tr>\n",
       "  </thead>\n",
       "  <tbody>\n",
       "    <tr>\n",
       "      <th>1018</th>\n",
       "      <td>male</td>\n",
       "      <td>disgust</td>\n",
       "      <td>17</td>\n",
       "      <td>/home/divyansh/Divyansh/projects/senti_random_forest/data/Actor_17/03-01-07-01-01-01-17.wav</td>\n",
       "    </tr>\n",
       "    <tr>\n",
       "      <th>1223</th>\n",
       "      <td>male</td>\n",
       "      <td>calm</td>\n",
       "      <td>21</td>\n",
       "      <td>/home/divyansh/Divyansh/projects/senti_random_forest/data/Actor_21/03-01-02-01-02-02-21.wav</td>\n",
       "    </tr>\n",
       "    <tr>\n",
       "      <th>322</th>\n",
       "      <td>female</td>\n",
       "      <td>angry</td>\n",
       "      <td>6</td>\n",
       "      <td>/home/divyansh/Divyansh/projects/senti_random_forest/data/Actor_06/03-01-05-01-01-02-06.wav</td>\n",
       "    </tr>\n",
       "    <tr>\n",
       "      <th>468</th>\n",
       "      <td>female</td>\n",
       "      <td>sad</td>\n",
       "      <td>8</td>\n",
       "      <td>/home/divyansh/Divyansh/projects/senti_random_forest/data/Actor_08/03-01-04-02-02-01-08.wav</td>\n",
       "    </tr>\n",
       "    <tr>\n",
       "      <th>598</th>\n",
       "      <td>female</td>\n",
       "      <td>neutral</td>\n",
       "      <td>10</td>\n",
       "      <td>/home/divyansh/Divyansh/projects/senti_random_forest/data/Actor_10/03-01-01-01-02-01-10.wav</td>\n",
       "    </tr>\n",
       "    <tr>\n",
       "      <th>12</th>\n",
       "      <td>male</td>\n",
       "      <td>happy</td>\n",
       "      <td>1</td>\n",
       "      <td>/home/divyansh/Divyansh/projects/senti_random_forest/data/Actor_01/03-01-03-01-01-01-01.wav</td>\n",
       "    </tr>\n",
       "    <tr>\n",
       "      <th>815</th>\n",
       "      <td>female</td>\n",
       "      <td>happy</td>\n",
       "      <td>14</td>\n",
       "      <td>/home/divyansh/Divyansh/projects/senti_random_forest/data/Actor_14/03-01-03-01-01-01-14.wav</td>\n",
       "    </tr>\n",
       "    <tr>\n",
       "      <th>1058</th>\n",
       "      <td>female</td>\n",
       "      <td>surprise</td>\n",
       "      <td>18</td>\n",
       "      <td>/home/divyansh/Divyansh/projects/senti_random_forest/data/Actor_18/03-01-08-01-02-02-18.wav</td>\n",
       "    </tr>\n",
       "    <tr>\n",
       "      <th>1171</th>\n",
       "      <td>female</td>\n",
       "      <td>angry</td>\n",
       "      <td>20</td>\n",
       "      <td>/home/divyansh/Divyansh/projects/senti_random_forest/data/Actor_20/03-01-05-01-01-02-20.wav</td>\n",
       "    </tr>\n",
       "    <tr>\n",
       "      <th>210</th>\n",
       "      <td>female</td>\n",
       "      <td>fear</td>\n",
       "      <td>4</td>\n",
       "      <td>/home/divyansh/Divyansh/projects/senti_random_forest/data/Actor_04/03-01-06-01-01-02-04.wav</td>\n",
       "    </tr>\n",
       "  </tbody>\n",
       "</table>\n",
       "</div>"
      ],
      "text/plain": [
       "      gender   emotion  actor  \\\n",
       "1018  male    disgust   17      \n",
       "1223  male    calm      21      \n",
       "322   female  angry     6       \n",
       "468   female  sad       8       \n",
       "598   female  neutral   10      \n",
       "12    male    happy     1       \n",
       "815   female  happy     14      \n",
       "1058  female  surprise  18      \n",
       "1171  female  angry     20      \n",
       "210   female  fear      4       \n",
       "\n",
       "                                                                                             path  \n",
       "1018  /home/divyansh/Divyansh/projects/senti_random_forest/data/Actor_17/03-01-07-01-01-01-17.wav  \n",
       "1223  /home/divyansh/Divyansh/projects/senti_random_forest/data/Actor_21/03-01-02-01-02-02-21.wav  \n",
       "322   /home/divyansh/Divyansh/projects/senti_random_forest/data/Actor_06/03-01-05-01-01-02-06.wav  \n",
       "468   /home/divyansh/Divyansh/projects/senti_random_forest/data/Actor_08/03-01-04-02-02-01-08.wav  \n",
       "598   /home/divyansh/Divyansh/projects/senti_random_forest/data/Actor_10/03-01-01-01-02-01-10.wav  \n",
       "12    /home/divyansh/Divyansh/projects/senti_random_forest/data/Actor_01/03-01-03-01-01-01-01.wav  \n",
       "815   /home/divyansh/Divyansh/projects/senti_random_forest/data/Actor_14/03-01-03-01-01-01-14.wav  \n",
       "1058  /home/divyansh/Divyansh/projects/senti_random_forest/data/Actor_18/03-01-08-01-02-02-18.wav  \n",
       "1171  /home/divyansh/Divyansh/projects/senti_random_forest/data/Actor_20/03-01-05-01-01-02-20.wav  \n",
       "210   /home/divyansh/Divyansh/projects/senti_random_forest/data/Actor_04/03-01-06-01-01-02-04.wav  "
      ]
     },
     "execution_count": 255,
     "metadata": {},
     "output_type": "execute_result"
    }
   ],
   "source": [
    "# ENSURE GENDER,EMOTION, AND ACTOR COLUMN VALUES ARE CORRECT\n",
    "pd.set_option('display.max_colwidth', -1)\n",
    "\n",
    "audio_df.sample(10)"
   ]
  },
  {
   "cell_type": "code",
   "execution_count": 256,
   "id": "cd435c5f",
   "metadata": {},
   "outputs": [
    {
     "data": {
      "text/plain": [
       "<AxesSubplot:>"
      ]
     },
     "execution_count": 256,
     "metadata": {},
     "output_type": "execute_result"
    },
    {
     "data": {
      "image/png": "[encoded data removed]",
      "text/plain": [
       "<Figure size 432x288 with 1 Axes>"
      ]
     },
     "metadata": {
      "needs_background": "light"
     },
     "output_type": "display_data"
    }
   ],
   "source": [
    "#distribution of the classes \n",
    "\n",
    "audio_df.emotion.value_counts().plot(kind = 'bar')"
   ]
  },
  {
   "cell_type": "code",
   "execution_count": 257,
   "id": "9a0a15d2",
   "metadata": {},
   "outputs": [],
   "source": [
    "audio_df.to_csv('audio.csv')"
   ]
  },
  {
   "cell_type": "markdown",
   "id": "bb3d14d7",
   "metadata": {},
   "source": [
    "Feature Extraction of the dataset '"
   ]
  },
  {
   "cell_type": "code",
   "execution_count": 258,
   "id": "7e046d4c",
   "metadata": {},
   "outputs": [
    {
     "name": "stdout",
     "output_type": "stream",
     "text": [
      "1440\n"
     ]
    },
    {
     "data": {
      "text/html": [
       "<div>\n",
       "<style scoped>\n",
       "    .dataframe tbody tr th:only-of-type {\n",
       "        vertical-align: middle;\n",
       "    }\n",
       "\n",
       "    .dataframe tbody tr th {\n",
       "        vertical-align: top;\n",
       "    }\n",
       "\n",
       "    .dataframe thead th {\n",
       "        text-align: right;\n",
       "    }\n",
       "</style>\n",
       "<table border=\"1\" class=\"dataframe\">\n",
       "  <thead>\n",
       "    <tr style=\"text-align: right;\">\n",
       "      <th></th>\n",
       "      <th>mel_spectrogram</th>\n",
       "    </tr>\n",
       "  </thead>\n",
       "  <tbody>\n",
       "    <tr>\n",
       "      <th>0</th>\n",
       "      <td>[-75.26845, -75.26845, -75.26845, -75.26845, -75.26845, -75.26845, -75.26845, -75.26845, -75.26845, -75.26845, -75.26845, -75.26845, -75.26845, -75.26845, -75.243004, -75.26845, -75.26845, -75.26845, -75.26845, -75.26845, -75.26845, -75.24528, -75.04568, -74.99168, -75.19989, -75.26845, -75.26845, -75.26845, -75.26845, -75.26845, -75.26845, -75.26845, -75.26845, -75.26845, -75.26845, -74.34854, -73.92539, -73.56352, -73.27889, -72.94659, -72.36573, -72.77169, -62.66063, -41.765488, -35.625652, -32.697567, -31.232754, -29.582478, -29.005156, -28.940495, -28.66669, -28.22058, -27.420063, -26.695297, -26.731213, -27.104462, -28.481537, -30.688972, -32.87745, -36.790688, -41.635178, -41.879257, -40.09379, -39.499546, -39.355, -39.876854, -40.17552, -38.197384, -36.35471, -34.195213, -33.323788, -33.642143, -33.76531, -34.102013, -35.33318, -36.94313, -37.931232, -39.940765, -39.828728, -39.29128, -37.974392, -39.12242, -41.313232, -35.535824, -33.189327, -33.90681, -36.375805, -41.008472, -43.743633, -40.78038, -37.379166, -36.989563, -37.33643, -38.593864, -41.70642, -45.89121, -46.88004, -47.354614, -47.581882, -45.365158, ...]</td>\n",
       "    </tr>\n",
       "    <tr>\n",
       "      <th>1</th>\n",
       "      <td>[-43.028713, -43.042988, -43.261326, -42.436676, -41.737343, -41.918777, -41.700493, -41.38073, -41.041134, -40.574318, -41.192196, -42.523743, -42.336243, -41.857025, -42.272514, -43.269135, -43.338387, -44.221283, -44.960804, -46.748035, -48.125107, -48.855724, -49.467484, -50.345325, -48.941998, -44.17935, -40.01212, -37.089638, -35.32121, -34.895355, -35.560318, -35.555264, -35.81766, -36.33105, -36.55279, -36.600067, -36.2273, -36.35361, -37.47603, -41.31337, -46.042812, -47.625626, -48.34291, -48.901985, -35.811287, -25.920439, -18.781908, -16.386158, -16.196274, -16.26944, -16.687273, -16.451473, -15.611079, -14.411495, -14.457534, -14.510024, -13.268233, -12.913103, -13.493089, -14.515449, -15.185567, -15.321195, -15.306486, -14.600651, -16.447802, -18.770077, -19.140423, -21.407412, -23.287226, -25.478472, -26.747784, -26.985826, -27.32007, -26.5274, -23.278358, -21.406454, -22.40988, -23.768742, -24.936504, -26.709251, -27.821743, -27.024046, -26.639101, -21.426641, -18.178528, -17.563513, -16.355236, -16.689686, -18.143007, -19.032894, -20.171343, -19.96009, -17.469196, -16.460592, -14.764888, -16.625284, -18.046984, -17.222048, -16.816572, -18.18617, ...]</td>\n",
       "    </tr>\n",
       "    <tr>\n",
       "      <th>2</th>\n",
       "      <td>[-49.169304, -49.169304, -48.407005, -44.851994, -41.615692, -39.319164, -38.613216, -39.014965, -38.350555, -38.879425, -39.21237, -39.007713, -39.95953, -39.751186, -39.00466, -39.766716, -40.59281, -41.387615, -42.200356, -44.479523, -45.43372, -45.964226, -46.561657, -46.340202, -44.12076, -40.982986, -37.545105, -35.668, -34.09041, -33.58697, -33.61325, -33.51587, -34.21115, -35.118176, -34.759842, -35.898335, -37.47699, -38.630596, -40.237854, -43.171253, -46.87981, -48.425957, -48.949078, -48.725376, -48.703987, -29.322607, -16.527185, -11.782075, -9.047266, -7.906037, -8.883454, -8.4279, -6.593108, -5.316847, -4.1972303, -4.651101, -5.469242, -7.382365, -9.542135, -12.091637, -12.540533, -12.502799, -12.916551, -14.18152, -16.802063, -19.036493, -21.741278, -24.909338, -28.164541, -30.384193, -31.19883, -30.823864, -30.59219, -30.009787, -26.582008, -23.80054, -23.131863, -19.76525, -17.318985, -13.968798, -11.6600485, -12.221695, -12.281469, -12.663868, -13.4554205, -13.260431, -13.227063, -12.772096, -13.571883, -14.337068, -15.031982, -14.852538, -16.975079, -21.94795, -25.404297, -27.462837, -30.186047, -33.06932, -35.471348, -33.26883, ...]</td>\n",
       "    </tr>\n",
       "    <tr>\n",
       "      <th>3</th>\n",
       "      <td>[-64.49623, -64.50452, -64.19428, -63.729504, -63.093285, -62.56594, -62.86212, -62.730785, -62.05913, -61.377228, -61.306168, -62.03788, -62.33126, -63.488583, -64.17275, -64.18877, -64.435555, -64.50778, -64.50778, -64.50778, -64.50778, -64.50778, -64.50778, -64.50778, -64.37521, -62.62585, -60.594543, -59.3886, -59.616817, -60.186497, -60.93017, -62.789967, -63.87934, -64.11565, -64.48413, -64.50778, -64.50778, -64.50778, -64.42219, -62.039406, -62.37523, -63.719765, -62.85511, -61.547413, -47.92753, -34.389217, -31.04049, -31.621317, -32.93561, -36.294754, -38.26597, -30.188988, -22.793997, -23.093195, -25.933216, -28.057133, -29.399971, -29.470034, -28.368917, -26.849104, -26.558748, -28.791262, -32.263756, -35.548332, -37.527172, -37.9888, -38.568882, -39.0337, -38.59122, -37.788063, -34.757633, -32.27299, -31.116613, -29.099329, -30.568855, -34.921803, -35.468605, -33.761787, -32.399956, -32.59342, -31.73866, -31.548302, -33.16691, -35.879196, -40.193886, -43.843155, -44.97042, -47.674118, -49.01683, -38.105556, -32.631577, -32.27307, -33.379246, -32.724804, -31.28785, -28.064053, -22.290918, -19.608078, -18.96879, -20.873446, ...]</td>\n",
       "    </tr>\n",
       "    <tr>\n",
       "      <th>4</th>\n",
       "      <td>[-79.94437, -79.94437, -79.94437, -79.94437, -79.94437, -79.94437, -79.94437, -79.94437, -79.94437, -79.94437, -79.94437, -79.94437, -79.94437, -79.94437, -79.94437, -79.94437, -79.94437, -79.94437, -79.94437, -79.94437, -79.94437, -79.94437, -79.94437, -79.94437, -79.94437, -79.94437, -79.94437, -79.94437, -79.94437, -79.94437, -79.94437, -79.94437, -79.94437, -79.94437, -79.94437, -79.94437, -79.89355, -79.78638, -78.83766, -78.29385, -75.5941, -72.462, -74.09438, -76.16146, -51.33449, -44.91755, -42.84144, -38.418015, -36.0421, -35.22141, -35.45638, -34.794605, -33.667114, -33.63351, -35.871044, -36.507805, -36.508232, -36.2311, -35.883656, -37.03163, -37.842224, -37.927402, -39.129993, -41.5575, -45.444984, -49.624634, -51.00179, -52.235134, -50.288296, -47.498333, -46.748943, -45.63178, -44.017708, -42.283096, -40.522697, -38.992527, -38.50556, -39.063103, -39.750935, -39.517403, -40.736973, -43.070908, -43.24301, -43.74898, -44.90738, -44.615078, -44.24444, -43.286606, -42.115772, -43.4177, -45.34745, -43.919632, -39.480934, -38.559235, -40.119465, -40.090034, -42.82513, -44.50736, -41.249653, -41.272125, ...]</td>\n",
       "    </tr>\n",
       "  </tbody>\n",
       "</table>\n",
       "</div>"
      ],
      "text/plain": [
       "                                                                                                                                                                                                                                                                                                                                                                                                                                                                                                                                                                                                                                                                                                                                                                                                                                                                                                                                                                                                                                                                                                                                                                                                                     mel_spectrogram\n",
       "0  [-75.26845, -75.26845, -75.26845, -75.26845, -75.26845, -75.26845, -75.26845, -75.26845, -75.26845, -75.26845, -75.26845, -75.26845, -75.26845, -75.26845, -75.243004, -75.26845, -75.26845, -75.26845, -75.26845, -75.26845, -75.26845, -75.24528, -75.04568, -74.99168, -75.19989, -75.26845, -75.26845, -75.26845, -75.26845, -75.26845, -75.26845, -75.26845, -75.26845, -75.26845, -75.26845, -74.34854, -73.92539, -73.56352, -73.27889, -72.94659, -72.36573, -72.77169, -62.66063, -41.765488, -35.625652, -32.697567, -31.232754, -29.582478, -29.005156, -28.940495, -28.66669, -28.22058, -27.420063, -26.695297, -26.731213, -27.104462, -28.481537, -30.688972, -32.87745, -36.790688, -41.635178, -41.879257, -40.09379, -39.499546, -39.355, -39.876854, -40.17552, -38.197384, -36.35471, -34.195213, -33.323788, -33.642143, -33.76531, -34.102013, -35.33318, -36.94313, -37.931232, -39.940765, -39.828728, -39.29128, -37.974392, -39.12242, -41.313232, -35.535824, -33.189327, -33.90681, -36.375805, -41.008472, -43.743633, -40.78038, -37.379166, -36.989563, -37.33643, -38.593864, -41.70642, -45.89121, -46.88004, -47.354614, -47.581882, -45.365158, ...]                                          \n",
       "1  [-43.028713, -43.042988, -43.261326, -42.436676, -41.737343, -41.918777, -41.700493, -41.38073, -41.041134, -40.574318, -41.192196, -42.523743, -42.336243, -41.857025, -42.272514, -43.269135, -43.338387, -44.221283, -44.960804, -46.748035, -48.125107, -48.855724, -49.467484, -50.345325, -48.941998, -44.17935, -40.01212, -37.089638, -35.32121, -34.895355, -35.560318, -35.555264, -35.81766, -36.33105, -36.55279, -36.600067, -36.2273, -36.35361, -37.47603, -41.31337, -46.042812, -47.625626, -48.34291, -48.901985, -35.811287, -25.920439, -18.781908, -16.386158, -16.196274, -16.26944, -16.687273, -16.451473, -15.611079, -14.411495, -14.457534, -14.510024, -13.268233, -12.913103, -13.493089, -14.515449, -15.185567, -15.321195, -15.306486, -14.600651, -16.447802, -18.770077, -19.140423, -21.407412, -23.287226, -25.478472, -26.747784, -26.985826, -27.32007, -26.5274, -23.278358, -21.406454, -22.40988, -23.768742, -24.936504, -26.709251, -27.821743, -27.024046, -26.639101, -21.426641, -18.178528, -17.563513, -16.355236, -16.689686, -18.143007, -19.032894, -20.171343, -19.96009, -17.469196, -16.460592, -14.764888, -16.625284, -18.046984, -17.222048, -16.816572, -18.18617, ...]\n",
       "2  [-49.169304, -49.169304, -48.407005, -44.851994, -41.615692, -39.319164, -38.613216, -39.014965, -38.350555, -38.879425, -39.21237, -39.007713, -39.95953, -39.751186, -39.00466, -39.766716, -40.59281, -41.387615, -42.200356, -44.479523, -45.43372, -45.964226, -46.561657, -46.340202, -44.12076, -40.982986, -37.545105, -35.668, -34.09041, -33.58697, -33.61325, -33.51587, -34.21115, -35.118176, -34.759842, -35.898335, -37.47699, -38.630596, -40.237854, -43.171253, -46.87981, -48.425957, -48.949078, -48.725376, -48.703987, -29.322607, -16.527185, -11.782075, -9.047266, -7.906037, -8.883454, -8.4279, -6.593108, -5.316847, -4.1972303, -4.651101, -5.469242, -7.382365, -9.542135, -12.091637, -12.540533, -12.502799, -12.916551, -14.18152, -16.802063, -19.036493, -21.741278, -24.909338, -28.164541, -30.384193, -31.19883, -30.823864, -30.59219, -30.009787, -26.582008, -23.80054, -23.131863, -19.76525, -17.318985, -13.968798, -11.6600485, -12.221695, -12.281469, -12.663868, -13.4554205, -13.260431, -13.227063, -12.772096, -13.571883, -14.337068, -15.031982, -14.852538, -16.975079, -21.94795, -25.404297, -27.462837, -30.186047, -33.06932, -35.471348, -33.26883, ...]              \n",
       "3  [-64.49623, -64.50452, -64.19428, -63.729504, -63.093285, -62.56594, -62.86212, -62.730785, -62.05913, -61.377228, -61.306168, -62.03788, -62.33126, -63.488583, -64.17275, -64.18877, -64.435555, -64.50778, -64.50778, -64.50778, -64.50778, -64.50778, -64.50778, -64.50778, -64.37521, -62.62585, -60.594543, -59.3886, -59.616817, -60.186497, -60.93017, -62.789967, -63.87934, -64.11565, -64.48413, -64.50778, -64.50778, -64.50778, -64.42219, -62.039406, -62.37523, -63.719765, -62.85511, -61.547413, -47.92753, -34.389217, -31.04049, -31.621317, -32.93561, -36.294754, -38.26597, -30.188988, -22.793997, -23.093195, -25.933216, -28.057133, -29.399971, -29.470034, -28.368917, -26.849104, -26.558748, -28.791262, -32.263756, -35.548332, -37.527172, -37.9888, -38.568882, -39.0337, -38.59122, -37.788063, -34.757633, -32.27299, -31.116613, -29.099329, -30.568855, -34.921803, -35.468605, -33.761787, -32.399956, -32.59342, -31.73866, -31.548302, -33.16691, -35.879196, -40.193886, -43.843155, -44.97042, -47.674118, -49.01683, -38.105556, -32.631577, -32.27307, -33.379246, -32.724804, -31.28785, -28.064053, -22.290918, -19.608078, -18.96879, -20.873446, ...]                             \n",
       "4  [-79.94437, -79.94437, -79.94437, -79.94437, -79.94437, -79.94437, -79.94437, -79.94437, -79.94437, -79.94437, -79.94437, -79.94437, -79.94437, -79.94437, -79.94437, -79.94437, -79.94437, -79.94437, -79.94437, -79.94437, -79.94437, -79.94437, -79.94437, -79.94437, -79.94437, -79.94437, -79.94437, -79.94437, -79.94437, -79.94437, -79.94437, -79.94437, -79.94437, -79.94437, -79.94437, -79.94437, -79.89355, -79.78638, -78.83766, -78.29385, -75.5941, -72.462, -74.09438, -76.16146, -51.33449, -44.91755, -42.84144, -38.418015, -36.0421, -35.22141, -35.45638, -34.794605, -33.667114, -33.63351, -35.871044, -36.507805, -36.508232, -36.2311, -35.883656, -37.03163, -37.842224, -37.927402, -39.129993, -41.5575, -45.444984, -49.624634, -51.00179, -52.235134, -50.288296, -47.498333, -46.748943, -45.63178, -44.017708, -42.283096, -40.522697, -38.992527, -38.50556, -39.063103, -39.750935, -39.517403, -40.736973, -43.070908, -43.24301, -43.74898, -44.90738, -44.615078, -44.24444, -43.286606, -42.115772, -43.4177, -45.34745, -43.919632, -39.480934, -38.559235, -40.119465, -40.090034, -42.82513, -44.50736, -41.249653, -41.272125, ...]                                                    "
      ]
     },
     "execution_count": 258,
     "metadata": {},
     "output_type": "execute_result"
    }
   ],
   "source": [
    "df = pd.DataFrame(columns=['mel_spectrogram'])\n",
    "\n",
    "counter=0\n",
    "\n",
    "for index,path in enumerate(audio_df.path):\n",
    "    X, sample_rate = librosa.load(path, res_type='kaiser_fast',duration=3,sr=44100,offset=0.5)\n",
    "    \n",
    "    #get the mel-scaled spectrogram (ransform both the y-axis (frequency) to log scale, and the “color” axis (amplitude) to Decibels, which is kinda the log scale of amplitudes.)\n",
    "    spectrogram = librosa.feature.melspectrogram(y=X, sr=sample_rate, n_mels=128,fmax=8000) \n",
    "    db_spec = librosa.power_to_db(spectrogram)\n",
    "    #temporally average spectrogram\n",
    "    log_spectrogram = np.mean(db_spec, axis = 0)\n",
    "        \n",
    "    # Mel-frequency cepstral coefficients (MFCCs)\n",
    "#     mfcc = librosa.feature.mfcc(y=X, sr=sample_rate, n_mfcc=13)\n",
    "#     mfcc=np.mean(mfcc,axis=0)\n",
    "    \n",
    "    # compute chroma energy (pertains to 12 different pitch classes)\n",
    "#     chroma = librosa.feature.chroma_stft(y=X, sr=sample_rate)\n",
    "#     chroma = np.mean(chroma, axis = 0)\n",
    "\n",
    "    # compute spectral contrast\n",
    "#     contrast = librosa.feature.spectral_contrast(y=X, sr=sample_rate)\n",
    "#     contrast = np.mean(contrast, axis= 0)\n",
    "\n",
    "    # compute zero-crossing-rate (zcr:the zcr is the rate of sign changes along a signal i.e.m the rate at \n",
    "#     which the signal changes from positive to negative or back - separation of voiced andunvoiced speech.)\n",
    "#     zcr = librosa.feature.zero_crossing_rate(y=X)\n",
    "#     zcr = np.mean(zcr, axis= 0)\n",
    "    \n",
    "    df.loc[counter] = [log_spectrogram]\n",
    "    counter=counter+1   \n",
    "\n",
    "print(len(df))\n",
    "df.head()"
   ]
  },
  {
   "cell_type": "code",
   "execution_count": 259,
   "id": "5fab3c8d",
   "metadata": {
    "scrolled": true
   },
   "outputs": [
    {
     "name": "stdout",
     "output_type": "stream",
     "text": [
      "1440\n"
     ]
    },
    {
     "data": {
      "text/html": [
       "<div>\n",
       "<style scoped>\n",
       "    .dataframe tbody tr th:only-of-type {\n",
       "        vertical-align: middle;\n",
       "    }\n",
       "\n",
       "    .dataframe tbody tr th {\n",
       "        vertical-align: top;\n",
       "    }\n",
       "\n",
       "    .dataframe thead th {\n",
       "        text-align: right;\n",
       "    }\n",
       "</style>\n",
       "<table border=\"1\" class=\"dataframe\">\n",
       "  <thead>\n",
       "    <tr style=\"text-align: right;\">\n",
       "      <th></th>\n",
       "      <th>mel_spectrogram</th>\n",
       "    </tr>\n",
       "  </thead>\n",
       "  <tbody>\n",
       "    <tr>\n",
       "      <th>0</th>\n",
       "      <td>[-75.26845, -75.26845, -75.26845, -75.26845, -75.26845, -75.26845, -75.26845, -75.26845, -75.26845, -75.26845, -75.26845, -75.26845, -75.26845, -75.26845, -75.243004, -75.26845, -75.26845, -75.26845, -75.26845, -75.26845, -75.26845, -75.24528, -75.04568, -74.99168, -75.19989, -75.26845, -75.26845, -75.26845, -75.26845, -75.26845, -75.26845, -75.26845, -75.26845, -75.26845, -75.26845, -74.34854, -73.92539, -73.56352, -73.27889, -72.94659, -72.36573, -72.77169, -62.66063, -41.765488, -35.625652, -32.697567, -31.232754, -29.582478, -29.005156, -28.940495, -28.66669, -28.22058, -27.420063, -26.695297, -26.731213, -27.104462, -28.481537, -30.688972, -32.87745, -36.790688, -41.635178, -41.879257, -40.09379, -39.499546, -39.355, -39.876854, -40.17552, -38.197384, -36.35471, -34.195213, -33.323788, -33.642143, -33.76531, -34.102013, -35.33318, -36.94313, -37.931232, -39.940765, -39.828728, -39.29128, -37.974392, -39.12242, -41.313232, -35.535824, -33.189327, -33.90681, -36.375805, -41.008472, -43.743633, -40.78038, -37.379166, -36.989563, -37.33643, -38.593864, -41.70642, -45.89121, -46.88004, -47.354614, -47.581882, -45.365158, ...]</td>\n",
       "    </tr>\n",
       "    <tr>\n",
       "      <th>1</th>\n",
       "      <td>[-43.028713, -43.042988, -43.261326, -42.436676, -41.737343, -41.918777, -41.700493, -41.38073, -41.041134, -40.574318, -41.192196, -42.523743, -42.336243, -41.857025, -42.272514, -43.269135, -43.338387, -44.221283, -44.960804, -46.748035, -48.125107, -48.855724, -49.467484, -50.345325, -48.941998, -44.17935, -40.01212, -37.089638, -35.32121, -34.895355, -35.560318, -35.555264, -35.81766, -36.33105, -36.55279, -36.600067, -36.2273, -36.35361, -37.47603, -41.31337, -46.042812, -47.625626, -48.34291, -48.901985, -35.811287, -25.920439, -18.781908, -16.386158, -16.196274, -16.26944, -16.687273, -16.451473, -15.611079, -14.411495, -14.457534, -14.510024, -13.268233, -12.913103, -13.493089, -14.515449, -15.185567, -15.321195, -15.306486, -14.600651, -16.447802, -18.770077, -19.140423, -21.407412, -23.287226, -25.478472, -26.747784, -26.985826, -27.32007, -26.5274, -23.278358, -21.406454, -22.40988, -23.768742, -24.936504, -26.709251, -27.821743, -27.024046, -26.639101, -21.426641, -18.178528, -17.563513, -16.355236, -16.689686, -18.143007, -19.032894, -20.171343, -19.96009, -17.469196, -16.460592, -14.764888, -16.625284, -18.046984, -17.222048, -16.816572, -18.18617, ...]</td>\n",
       "    </tr>\n",
       "    <tr>\n",
       "      <th>2</th>\n",
       "      <td>[-49.169304, -49.169304, -48.407005, -44.851994, -41.615692, -39.319164, -38.613216, -39.014965, -38.350555, -38.879425, -39.21237, -39.007713, -39.95953, -39.751186, -39.00466, -39.766716, -40.59281, -41.387615, -42.200356, -44.479523, -45.43372, -45.964226, -46.561657, -46.340202, -44.12076, -40.982986, -37.545105, -35.668, -34.09041, -33.58697, -33.61325, -33.51587, -34.21115, -35.118176, -34.759842, -35.898335, -37.47699, -38.630596, -40.237854, -43.171253, -46.87981, -48.425957, -48.949078, -48.725376, -48.703987, -29.322607, -16.527185, -11.782075, -9.047266, -7.906037, -8.883454, -8.4279, -6.593108, -5.316847, -4.1972303, -4.651101, -5.469242, -7.382365, -9.542135, -12.091637, -12.540533, -12.502799, -12.916551, -14.18152, -16.802063, -19.036493, -21.741278, -24.909338, -28.164541, -30.384193, -31.19883, -30.823864, -30.59219, -30.009787, -26.582008, -23.80054, -23.131863, -19.76525, -17.318985, -13.968798, -11.6600485, -12.221695, -12.281469, -12.663868, -13.4554205, -13.260431, -13.227063, -12.772096, -13.571883, -14.337068, -15.031982, -14.852538, -16.975079, -21.94795, -25.404297, -27.462837, -30.186047, -33.06932, -35.471348, -33.26883, ...]</td>\n",
       "    </tr>\n",
       "    <tr>\n",
       "      <th>3</th>\n",
       "      <td>[-64.49623, -64.50452, -64.19428, -63.729504, -63.093285, -62.56594, -62.86212, -62.730785, -62.05913, -61.377228, -61.306168, -62.03788, -62.33126, -63.488583, -64.17275, -64.18877, -64.435555, -64.50778, -64.50778, -64.50778, -64.50778, -64.50778, -64.50778, -64.50778, -64.37521, -62.62585, -60.594543, -59.3886, -59.616817, -60.186497, -60.93017, -62.789967, -63.87934, -64.11565, -64.48413, -64.50778, -64.50778, -64.50778, -64.42219, -62.039406, -62.37523, -63.719765, -62.85511, -61.547413, -47.92753, -34.389217, -31.04049, -31.621317, -32.93561, -36.294754, -38.26597, -30.188988, -22.793997, -23.093195, -25.933216, -28.057133, -29.399971, -29.470034, -28.368917, -26.849104, -26.558748, -28.791262, -32.263756, -35.548332, -37.527172, -37.9888, -38.568882, -39.0337, -38.59122, -37.788063, -34.757633, -32.27299, -31.116613, -29.099329, -30.568855, -34.921803, -35.468605, -33.761787, -32.399956, -32.59342, -31.73866, -31.548302, -33.16691, -35.879196, -40.193886, -43.843155, -44.97042, -47.674118, -49.01683, -38.105556, -32.631577, -32.27307, -33.379246, -32.724804, -31.28785, -28.064053, -22.290918, -19.608078, -18.96879, -20.873446, ...]</td>\n",
       "    </tr>\n",
       "    <tr>\n",
       "      <th>4</th>\n",
       "      <td>[-79.94437, -79.94437, -79.94437, -79.94437, -79.94437, -79.94437, -79.94437, -79.94437, -79.94437, -79.94437, -79.94437, -79.94437, -79.94437, -79.94437, -79.94437, -79.94437, -79.94437, -79.94437, -79.94437, -79.94437, -79.94437, -79.94437, -79.94437, -79.94437, -79.94437, -79.94437, -79.94437, -79.94437, -79.94437, -79.94437, -79.94437, -79.94437, -79.94437, -79.94437, -79.94437, -79.94437, -79.89355, -79.78638, -78.83766, -78.29385, -75.5941, -72.462, -74.09438, -76.16146, -51.33449, -44.91755, -42.84144, -38.418015, -36.0421, -35.22141, -35.45638, -34.794605, -33.667114, -33.63351, -35.871044, -36.507805, -36.508232, -36.2311, -35.883656, -37.03163, -37.842224, -37.927402, -39.129993, -41.5575, -45.444984, -49.624634, -51.00179, -52.235134, -50.288296, -47.498333, -46.748943, -45.63178, -44.017708, -42.283096, -40.522697, -38.992527, -38.50556, -39.063103, -39.750935, -39.517403, -40.736973, -43.070908, -43.24301, -43.74898, -44.90738, -44.615078, -44.24444, -43.286606, -42.115772, -43.4177, -45.34745, -43.919632, -39.480934, -38.559235, -40.119465, -40.090034, -42.82513, -44.50736, -41.249653, -41.272125, ...]</td>\n",
       "    </tr>\n",
       "  </tbody>\n",
       "</table>\n",
       "</div>"
      ],
      "text/plain": [
       "                                                                                                                                                                                                                                                                                                                                                                                                                                                                                                                                                                                                                                                                                                                                                                                                                                                                                                                                                                                                                                                                                                                                                                                                                     mel_spectrogram\n",
       "0  [-75.26845, -75.26845, -75.26845, -75.26845, -75.26845, -75.26845, -75.26845, -75.26845, -75.26845, -75.26845, -75.26845, -75.26845, -75.26845, -75.26845, -75.243004, -75.26845, -75.26845, -75.26845, -75.26845, -75.26845, -75.26845, -75.24528, -75.04568, -74.99168, -75.19989, -75.26845, -75.26845, -75.26845, -75.26845, -75.26845, -75.26845, -75.26845, -75.26845, -75.26845, -75.26845, -74.34854, -73.92539, -73.56352, -73.27889, -72.94659, -72.36573, -72.77169, -62.66063, -41.765488, -35.625652, -32.697567, -31.232754, -29.582478, -29.005156, -28.940495, -28.66669, -28.22058, -27.420063, -26.695297, -26.731213, -27.104462, -28.481537, -30.688972, -32.87745, -36.790688, -41.635178, -41.879257, -40.09379, -39.499546, -39.355, -39.876854, -40.17552, -38.197384, -36.35471, -34.195213, -33.323788, -33.642143, -33.76531, -34.102013, -35.33318, -36.94313, -37.931232, -39.940765, -39.828728, -39.29128, -37.974392, -39.12242, -41.313232, -35.535824, -33.189327, -33.90681, -36.375805, -41.008472, -43.743633, -40.78038, -37.379166, -36.989563, -37.33643, -38.593864, -41.70642, -45.89121, -46.88004, -47.354614, -47.581882, -45.365158, ...]                                          \n",
       "1  [-43.028713, -43.042988, -43.261326, -42.436676, -41.737343, -41.918777, -41.700493, -41.38073, -41.041134, -40.574318, -41.192196, -42.523743, -42.336243, -41.857025, -42.272514, -43.269135, -43.338387, -44.221283, -44.960804, -46.748035, -48.125107, -48.855724, -49.467484, -50.345325, -48.941998, -44.17935, -40.01212, -37.089638, -35.32121, -34.895355, -35.560318, -35.555264, -35.81766, -36.33105, -36.55279, -36.600067, -36.2273, -36.35361, -37.47603, -41.31337, -46.042812, -47.625626, -48.34291, -48.901985, -35.811287, -25.920439, -18.781908, -16.386158, -16.196274, -16.26944, -16.687273, -16.451473, -15.611079, -14.411495, -14.457534, -14.510024, -13.268233, -12.913103, -13.493089, -14.515449, -15.185567, -15.321195, -15.306486, -14.600651, -16.447802, -18.770077, -19.140423, -21.407412, -23.287226, -25.478472, -26.747784, -26.985826, -27.32007, -26.5274, -23.278358, -21.406454, -22.40988, -23.768742, -24.936504, -26.709251, -27.821743, -27.024046, -26.639101, -21.426641, -18.178528, -17.563513, -16.355236, -16.689686, -18.143007, -19.032894, -20.171343, -19.96009, -17.469196, -16.460592, -14.764888, -16.625284, -18.046984, -17.222048, -16.816572, -18.18617, ...]\n",
       "2  [-49.169304, -49.169304, -48.407005, -44.851994, -41.615692, -39.319164, -38.613216, -39.014965, -38.350555, -38.879425, -39.21237, -39.007713, -39.95953, -39.751186, -39.00466, -39.766716, -40.59281, -41.387615, -42.200356, -44.479523, -45.43372, -45.964226, -46.561657, -46.340202, -44.12076, -40.982986, -37.545105, -35.668, -34.09041, -33.58697, -33.61325, -33.51587, -34.21115, -35.118176, -34.759842, -35.898335, -37.47699, -38.630596, -40.237854, -43.171253, -46.87981, -48.425957, -48.949078, -48.725376, -48.703987, -29.322607, -16.527185, -11.782075, -9.047266, -7.906037, -8.883454, -8.4279, -6.593108, -5.316847, -4.1972303, -4.651101, -5.469242, -7.382365, -9.542135, -12.091637, -12.540533, -12.502799, -12.916551, -14.18152, -16.802063, -19.036493, -21.741278, -24.909338, -28.164541, -30.384193, -31.19883, -30.823864, -30.59219, -30.009787, -26.582008, -23.80054, -23.131863, -19.76525, -17.318985, -13.968798, -11.6600485, -12.221695, -12.281469, -12.663868, -13.4554205, -13.260431, -13.227063, -12.772096, -13.571883, -14.337068, -15.031982, -14.852538, -16.975079, -21.94795, -25.404297, -27.462837, -30.186047, -33.06932, -35.471348, -33.26883, ...]              \n",
       "3  [-64.49623, -64.50452, -64.19428, -63.729504, -63.093285, -62.56594, -62.86212, -62.730785, -62.05913, -61.377228, -61.306168, -62.03788, -62.33126, -63.488583, -64.17275, -64.18877, -64.435555, -64.50778, -64.50778, -64.50778, -64.50778, -64.50778, -64.50778, -64.50778, -64.37521, -62.62585, -60.594543, -59.3886, -59.616817, -60.186497, -60.93017, -62.789967, -63.87934, -64.11565, -64.48413, -64.50778, -64.50778, -64.50778, -64.42219, -62.039406, -62.37523, -63.719765, -62.85511, -61.547413, -47.92753, -34.389217, -31.04049, -31.621317, -32.93561, -36.294754, -38.26597, -30.188988, -22.793997, -23.093195, -25.933216, -28.057133, -29.399971, -29.470034, -28.368917, -26.849104, -26.558748, -28.791262, -32.263756, -35.548332, -37.527172, -37.9888, -38.568882, -39.0337, -38.59122, -37.788063, -34.757633, -32.27299, -31.116613, -29.099329, -30.568855, -34.921803, -35.468605, -33.761787, -32.399956, -32.59342, -31.73866, -31.548302, -33.16691, -35.879196, -40.193886, -43.843155, -44.97042, -47.674118, -49.01683, -38.105556, -32.631577, -32.27307, -33.379246, -32.724804, -31.28785, -28.064053, -22.290918, -19.608078, -18.96879, -20.873446, ...]                             \n",
       "4  [-79.94437, -79.94437, -79.94437, -79.94437, -79.94437, -79.94437, -79.94437, -79.94437, -79.94437, -79.94437, -79.94437, -79.94437, -79.94437, -79.94437, -79.94437, -79.94437, -79.94437, -79.94437, -79.94437, -79.94437, -79.94437, -79.94437, -79.94437, -79.94437, -79.94437, -79.94437, -79.94437, -79.94437, -79.94437, -79.94437, -79.94437, -79.94437, -79.94437, -79.94437, -79.94437, -79.94437, -79.89355, -79.78638, -78.83766, -78.29385, -75.5941, -72.462, -74.09438, -76.16146, -51.33449, -44.91755, -42.84144, -38.418015, -36.0421, -35.22141, -35.45638, -34.794605, -33.667114, -33.63351, -35.871044, -36.507805, -36.508232, -36.2311, -35.883656, -37.03163, -37.842224, -37.927402, -39.129993, -41.5575, -45.444984, -49.624634, -51.00179, -52.235134, -50.288296, -47.498333, -46.748943, -45.63178, -44.017708, -42.283096, -40.522697, -38.992527, -38.50556, -39.063103, -39.750935, -39.517403, -40.736973, -43.070908, -43.24301, -43.74898, -44.90738, -44.615078, -44.24444, -43.286606, -42.115772, -43.4177, -45.34745, -43.919632, -39.480934, -38.559235, -40.119465, -40.090034, -42.82513, -44.50736, -41.249653, -41.272125, ...]                                                    "
      ]
     },
     "execution_count": 259,
     "metadata": {},
     "output_type": "execute_result"
    }
   ],
   "source": [
    "print(len(df))\n",
    "df.head()"
   ]
  },
  {
   "cell_type": "code",
   "execution_count": 260,
   "id": "3c3773cf",
   "metadata": {},
   "outputs": [],
   "source": [
    "# TURN ARRAY INTO LIST AND JOIN WITH AUDIO_DF TO GET CORRESPONDING EMOTION LABELS\n",
    "df_combined = pd.concat([audio_df,pd.DataFrame(df['mel_spectrogram'].values.tolist())],axis=1)\n",
    "df_combined = df_combined.fillna(0)"
   ]
  },
  {
   "cell_type": "code",
   "execution_count": 261,
   "id": "09e0755b",
   "metadata": {},
   "outputs": [],
   "source": [
    "# DROP PATH COLUMN FOR MODELING\n",
    "df_combined.drop(columns='path',inplace=True)"
   ]
  },
  {
   "cell_type": "code",
   "execution_count": 262,
   "id": "991cedf3",
   "metadata": {},
   "outputs": [
    {
     "data": {
      "text/html": [
       "<div>\n",
       "<style scoped>\n",
       "    .dataframe tbody tr th:only-of-type {\n",
       "        vertical-align: middle;\n",
       "    }\n",
       "\n",
       "    .dataframe tbody tr th {\n",
       "        vertical-align: top;\n",
       "    }\n",
       "\n",
       "    .dataframe thead th {\n",
       "        text-align: right;\n",
       "    }\n",
       "</style>\n",
       "<table border=\"1\" class=\"dataframe\">\n",
       "  <thead>\n",
       "    <tr style=\"text-align: right;\">\n",
       "      <th></th>\n",
       "      <th>gender</th>\n",
       "      <th>emotion</th>\n",
       "      <th>actor</th>\n",
       "      <th>0</th>\n",
       "      <th>1</th>\n",
       "      <th>2</th>\n",
       "      <th>3</th>\n",
       "      <th>4</th>\n",
       "      <th>5</th>\n",
       "      <th>6</th>\n",
       "      <th>...</th>\n",
       "      <th>249</th>\n",
       "      <th>250</th>\n",
       "      <th>251</th>\n",
       "      <th>252</th>\n",
       "      <th>253</th>\n",
       "      <th>254</th>\n",
       "      <th>255</th>\n",
       "      <th>256</th>\n",
       "      <th>257</th>\n",
       "      <th>258</th>\n",
       "    </tr>\n",
       "  </thead>\n",
       "  <tbody>\n",
       "    <tr>\n",
       "      <th>0</th>\n",
       "      <td>male</td>\n",
       "      <td>neutral</td>\n",
       "      <td>1</td>\n",
       "      <td>-75.268448</td>\n",
       "      <td>-75.268448</td>\n",
       "      <td>-75.268448</td>\n",
       "      <td>-75.268448</td>\n",
       "      <td>-75.268448</td>\n",
       "      <td>-75.268448</td>\n",
       "      <td>-75.268448</td>\n",
       "      <td>...</td>\n",
       "      <td>0.000000</td>\n",
       "      <td>0.000000</td>\n",
       "      <td>0.000000</td>\n",
       "      <td>0.000000</td>\n",
       "      <td>0.000000</td>\n",
       "      <td>0.000000</td>\n",
       "      <td>0.000000</td>\n",
       "      <td>0.000000</td>\n",
       "      <td>0.000000</td>\n",
       "      <td>0.000000</td>\n",
       "    </tr>\n",
       "    <tr>\n",
       "      <th>1</th>\n",
       "      <td>male</td>\n",
       "      <td>fear</td>\n",
       "      <td>1</td>\n",
       "      <td>-43.028713</td>\n",
       "      <td>-43.042988</td>\n",
       "      <td>-43.261326</td>\n",
       "      <td>-42.436676</td>\n",
       "      <td>-41.737343</td>\n",
       "      <td>-41.918777</td>\n",
       "      <td>-41.700493</td>\n",
       "      <td>...</td>\n",
       "      <td>-48.049362</td>\n",
       "      <td>-47.871559</td>\n",
       "      <td>-48.175350</td>\n",
       "      <td>-47.647198</td>\n",
       "      <td>-47.706913</td>\n",
       "      <td>-47.848614</td>\n",
       "      <td>-47.812244</td>\n",
       "      <td>-48.084160</td>\n",
       "      <td>-48.301369</td>\n",
       "      <td>-48.892868</td>\n",
       "    </tr>\n",
       "    <tr>\n",
       "      <th>2</th>\n",
       "      <td>male</td>\n",
       "      <td>angry</td>\n",
       "      <td>1</td>\n",
       "      <td>-49.169304</td>\n",
       "      <td>-49.169304</td>\n",
       "      <td>-48.407005</td>\n",
       "      <td>-44.851994</td>\n",
       "      <td>-41.615692</td>\n",
       "      <td>-39.319164</td>\n",
       "      <td>-38.613216</td>\n",
       "      <td>...</td>\n",
       "      <td>-49.169304</td>\n",
       "      <td>-49.169304</td>\n",
       "      <td>-49.169304</td>\n",
       "      <td>-49.169304</td>\n",
       "      <td>-49.169304</td>\n",
       "      <td>-49.169304</td>\n",
       "      <td>-49.169304</td>\n",
       "      <td>-49.169304</td>\n",
       "      <td>-49.169304</td>\n",
       "      <td>-49.169304</td>\n",
       "    </tr>\n",
       "    <tr>\n",
       "      <th>3</th>\n",
       "      <td>male</td>\n",
       "      <td>happy</td>\n",
       "      <td>1</td>\n",
       "      <td>-64.496231</td>\n",
       "      <td>-64.504517</td>\n",
       "      <td>-64.194283</td>\n",
       "      <td>-63.729504</td>\n",
       "      <td>-63.093285</td>\n",
       "      <td>-62.565941</td>\n",
       "      <td>-62.862122</td>\n",
       "      <td>...</td>\n",
       "      <td>-64.507782</td>\n",
       "      <td>-64.507782</td>\n",
       "      <td>-64.507782</td>\n",
       "      <td>-64.507782</td>\n",
       "      <td>-64.507782</td>\n",
       "      <td>-64.507782</td>\n",
       "      <td>-64.507782</td>\n",
       "      <td>-64.507782</td>\n",
       "      <td>-64.507782</td>\n",
       "      <td>-64.507782</td>\n",
       "    </tr>\n",
       "    <tr>\n",
       "      <th>4</th>\n",
       "      <td>male</td>\n",
       "      <td>sad</td>\n",
       "      <td>1</td>\n",
       "      <td>-79.944366</td>\n",
       "      <td>-79.944366</td>\n",
       "      <td>-79.944366</td>\n",
       "      <td>-79.944366</td>\n",
       "      <td>-79.944366</td>\n",
       "      <td>-79.944366</td>\n",
       "      <td>-79.944366</td>\n",
       "      <td>...</td>\n",
       "      <td>-79.944366</td>\n",
       "      <td>-79.944366</td>\n",
       "      <td>-79.944366</td>\n",
       "      <td>-79.944366</td>\n",
       "      <td>-79.944366</td>\n",
       "      <td>-79.944366</td>\n",
       "      <td>-79.944366</td>\n",
       "      <td>-79.944366</td>\n",
       "      <td>-79.944366</td>\n",
       "      <td>-79.944366</td>\n",
       "    </tr>\n",
       "  </tbody>\n",
       "</table>\n",
       "<p>5 rows × 262 columns</p>\n",
       "</div>"
      ],
      "text/plain": [
       "  gender  emotion  actor          0          1          2          3  \\\n",
       "0  male   neutral  1     -75.268448 -75.268448 -75.268448 -75.268448   \n",
       "1  male   fear     1     -43.028713 -43.042988 -43.261326 -42.436676   \n",
       "2  male   angry    1     -49.169304 -49.169304 -48.407005 -44.851994   \n",
       "3  male   happy    1     -64.496231 -64.504517 -64.194283 -63.729504   \n",
       "4  male   sad      1     -79.944366 -79.944366 -79.944366 -79.944366   \n",
       "\n",
       "           4          5          6  ...        249        250        251  \\\n",
       "0 -75.268448 -75.268448 -75.268448  ...  0.000000   0.000000   0.000000    \n",
       "1 -41.737343 -41.918777 -41.700493  ... -48.049362 -47.871559 -48.175350   \n",
       "2 -41.615692 -39.319164 -38.613216  ... -49.169304 -49.169304 -49.169304   \n",
       "3 -63.093285 -62.565941 -62.862122  ... -64.507782 -64.507782 -64.507782   \n",
       "4 -79.944366 -79.944366 -79.944366  ... -79.944366 -79.944366 -79.944366   \n",
       "\n",
       "         252        253        254        255        256        257        258  \n",
       "0  0.000000   0.000000   0.000000   0.000000   0.000000   0.000000   0.000000   \n",
       "1 -47.647198 -47.706913 -47.848614 -47.812244 -48.084160 -48.301369 -48.892868  \n",
       "2 -49.169304 -49.169304 -49.169304 -49.169304 -49.169304 -49.169304 -49.169304  \n",
       "3 -64.507782 -64.507782 -64.507782 -64.507782 -64.507782 -64.507782 -64.507782  \n",
       "4 -79.944366 -79.944366 -79.944366 -79.944366 -79.944366 -79.944366 -79.944366  \n",
       "\n",
       "[5 rows x 262 columns]"
      ]
     },
     "execution_count": 262,
     "metadata": {},
     "output_type": "execute_result"
    }
   ],
   "source": [
    "# CHECK TOP 5 ROWS\n",
    "df_combined.head()"
   ]
  },
  {
   "cell_type": "code",
   "execution_count": 263,
   "id": "a4197838",
   "metadata": {},
   "outputs": [
    {
     "data": {
      "text/html": [
       "<div>\n",
       "<style scoped>\n",
       "    .dataframe tbody tr th:only-of-type {\n",
       "        vertical-align: middle;\n",
       "    }\n",
       "\n",
       "    .dataframe tbody tr th {\n",
       "        vertical-align: top;\n",
       "    }\n",
       "\n",
       "    .dataframe thead th {\n",
       "        text-align: right;\n",
       "    }\n",
       "</style>\n",
       "<table border=\"1\" class=\"dataframe\">\n",
       "  <thead>\n",
       "    <tr style=\"text-align: right;\">\n",
       "      <th></th>\n",
       "      <th>gender</th>\n",
       "      <th>emotion</th>\n",
       "      <th>actor</th>\n",
       "      <th>0</th>\n",
       "      <th>1</th>\n",
       "      <th>2</th>\n",
       "      <th>3</th>\n",
       "      <th>4</th>\n",
       "      <th>5</th>\n",
       "      <th>6</th>\n",
       "      <th>...</th>\n",
       "      <th>249</th>\n",
       "      <th>250</th>\n",
       "      <th>251</th>\n",
       "      <th>252</th>\n",
       "      <th>253</th>\n",
       "      <th>254</th>\n",
       "      <th>255</th>\n",
       "      <th>256</th>\n",
       "      <th>257</th>\n",
       "      <th>258</th>\n",
       "    </tr>\n",
       "  </thead>\n",
       "  <tbody>\n",
       "    <tr>\n",
       "      <th>0</th>\n",
       "      <td>male</td>\n",
       "      <td>neutral</td>\n",
       "      <td>1</td>\n",
       "      <td>-75.268448</td>\n",
       "      <td>-75.268448</td>\n",
       "      <td>-75.268448</td>\n",
       "      <td>-75.268448</td>\n",
       "      <td>-75.268448</td>\n",
       "      <td>-75.268448</td>\n",
       "      <td>-75.268448</td>\n",
       "      <td>...</td>\n",
       "      <td>0.000000</td>\n",
       "      <td>0.000000</td>\n",
       "      <td>0.000000</td>\n",
       "      <td>0.000000</td>\n",
       "      <td>0.000000</td>\n",
       "      <td>0.000000</td>\n",
       "      <td>0.000000</td>\n",
       "      <td>0.000000</td>\n",
       "      <td>0.000000</td>\n",
       "      <td>0.000000</td>\n",
       "    </tr>\n",
       "    <tr>\n",
       "      <th>1</th>\n",
       "      <td>male</td>\n",
       "      <td>fear</td>\n",
       "      <td>1</td>\n",
       "      <td>-43.028713</td>\n",
       "      <td>-43.042988</td>\n",
       "      <td>-43.261326</td>\n",
       "      <td>-42.436676</td>\n",
       "      <td>-41.737343</td>\n",
       "      <td>-41.918777</td>\n",
       "      <td>-41.700493</td>\n",
       "      <td>...</td>\n",
       "      <td>-48.049362</td>\n",
       "      <td>-47.871559</td>\n",
       "      <td>-48.175350</td>\n",
       "      <td>-47.647198</td>\n",
       "      <td>-47.706913</td>\n",
       "      <td>-47.848614</td>\n",
       "      <td>-47.812244</td>\n",
       "      <td>-48.084160</td>\n",
       "      <td>-48.301369</td>\n",
       "      <td>-48.892868</td>\n",
       "    </tr>\n",
       "    <tr>\n",
       "      <th>2</th>\n",
       "      <td>male</td>\n",
       "      <td>angry</td>\n",
       "      <td>1</td>\n",
       "      <td>-49.169304</td>\n",
       "      <td>-49.169304</td>\n",
       "      <td>-48.407005</td>\n",
       "      <td>-44.851994</td>\n",
       "      <td>-41.615692</td>\n",
       "      <td>-39.319164</td>\n",
       "      <td>-38.613216</td>\n",
       "      <td>...</td>\n",
       "      <td>-49.169304</td>\n",
       "      <td>-49.169304</td>\n",
       "      <td>-49.169304</td>\n",
       "      <td>-49.169304</td>\n",
       "      <td>-49.169304</td>\n",
       "      <td>-49.169304</td>\n",
       "      <td>-49.169304</td>\n",
       "      <td>-49.169304</td>\n",
       "      <td>-49.169304</td>\n",
       "      <td>-49.169304</td>\n",
       "    </tr>\n",
       "    <tr>\n",
       "      <th>3</th>\n",
       "      <td>male</td>\n",
       "      <td>happy</td>\n",
       "      <td>1</td>\n",
       "      <td>-64.496231</td>\n",
       "      <td>-64.504517</td>\n",
       "      <td>-64.194283</td>\n",
       "      <td>-63.729504</td>\n",
       "      <td>-63.093285</td>\n",
       "      <td>-62.565941</td>\n",
       "      <td>-62.862122</td>\n",
       "      <td>...</td>\n",
       "      <td>-64.507782</td>\n",
       "      <td>-64.507782</td>\n",
       "      <td>-64.507782</td>\n",
       "      <td>-64.507782</td>\n",
       "      <td>-64.507782</td>\n",
       "      <td>-64.507782</td>\n",
       "      <td>-64.507782</td>\n",
       "      <td>-64.507782</td>\n",
       "      <td>-64.507782</td>\n",
       "      <td>-64.507782</td>\n",
       "    </tr>\n",
       "    <tr>\n",
       "      <th>4</th>\n",
       "      <td>male</td>\n",
       "      <td>sad</td>\n",
       "      <td>1</td>\n",
       "      <td>-79.944366</td>\n",
       "      <td>-79.944366</td>\n",
       "      <td>-79.944366</td>\n",
       "      <td>-79.944366</td>\n",
       "      <td>-79.944366</td>\n",
       "      <td>-79.944366</td>\n",
       "      <td>-79.944366</td>\n",
       "      <td>...</td>\n",
       "      <td>-79.944366</td>\n",
       "      <td>-79.944366</td>\n",
       "      <td>-79.944366</td>\n",
       "      <td>-79.944366</td>\n",
       "      <td>-79.944366</td>\n",
       "      <td>-79.944366</td>\n",
       "      <td>-79.944366</td>\n",
       "      <td>-79.944366</td>\n",
       "      <td>-79.944366</td>\n",
       "      <td>-79.944366</td>\n",
       "    </tr>\n",
       "  </tbody>\n",
       "</table>\n",
       "<p>5 rows × 262 columns</p>\n",
       "</div>"
      ],
      "text/plain": [
       "  gender  emotion  actor          0          1          2          3  \\\n",
       "0  male   neutral  1     -75.268448 -75.268448 -75.268448 -75.268448   \n",
       "1  male   fear     1     -43.028713 -43.042988 -43.261326 -42.436676   \n",
       "2  male   angry    1     -49.169304 -49.169304 -48.407005 -44.851994   \n",
       "3  male   happy    1     -64.496231 -64.504517 -64.194283 -63.729504   \n",
       "4  male   sad      1     -79.944366 -79.944366 -79.944366 -79.944366   \n",
       "\n",
       "           4          5          6  ...        249        250        251  \\\n",
       "0 -75.268448 -75.268448 -75.268448  ...  0.000000   0.000000   0.000000    \n",
       "1 -41.737343 -41.918777 -41.700493  ... -48.049362 -47.871559 -48.175350   \n",
       "2 -41.615692 -39.319164 -38.613216  ... -49.169304 -49.169304 -49.169304   \n",
       "3 -63.093285 -62.565941 -62.862122  ... -64.507782 -64.507782 -64.507782   \n",
       "4 -79.944366 -79.944366 -79.944366  ... -79.944366 -79.944366 -79.944366   \n",
       "\n",
       "         252        253        254        255        256        257        258  \n",
       "0  0.000000   0.000000   0.000000   0.000000   0.000000   0.000000   0.000000   \n",
       "1 -47.647198 -47.706913 -47.848614 -47.812244 -48.084160 -48.301369 -48.892868  \n",
       "2 -49.169304 -49.169304 -49.169304 -49.169304 -49.169304 -49.169304 -49.169304  \n",
       "3 -64.507782 -64.507782 -64.507782 -64.507782 -64.507782 -64.507782 -64.507782  \n",
       "4 -79.944366 -79.944366 -79.944366 -79.944366 -79.944366 -79.944366 -79.944366  \n",
       "\n",
       "[5 rows x 262 columns]"
      ]
     },
     "execution_count": 263,
     "metadata": {},
     "output_type": "execute_result"
    }
   ],
   "source": [
    "df_combined.head()"
   ]
  },
  {
   "cell_type": "code",
   "execution_count": 264,
   "id": "8523c36d",
   "metadata": {},
   "outputs": [],
   "source": [
    "from sklearn.model_selection import train_test_split\n",
    "from sklearn.preprocessing import LabelEncoder\n",
    "from sklearn.model_selection import GridSearchCV"
   ]
  },
  {
   "cell_type": "code",
   "execution_count": 265,
   "id": "67400d14",
   "metadata": {},
   "outputs": [],
   "source": [
    "# TRAIN TEST SPLIT DATA\n",
    "train,test = train_test_split(df_combined, test_size=0.2, random_state=0,\n",
    "                               stratify=df_combined[['emotion','gender','actor']])"
   ]
  },
  {
   "cell_type": "code",
   "execution_count": 266,
   "id": "e2cf46f2",
   "metadata": {},
   "outputs": [
    {
     "name": "stdout",
     "output_type": "stream",
     "text": [
      "(1152, 259)\n"
     ]
    }
   ],
   "source": [
    "X_train = train.iloc[:, 3:]\n",
    "y_train = train.iloc[:,:2].drop(columns=['gender'])\n",
    "print(X_train.shape)"
   ]
  },
  {
   "cell_type": "code",
   "execution_count": 267,
   "id": "6a1a152e",
   "metadata": {},
   "outputs": [
    {
     "name": "stdout",
     "output_type": "stream",
     "text": [
      "(288, 259)\n"
     ]
    }
   ],
   "source": [
    "\n",
    "X_test = test.iloc[:,3:]\n",
    "y_test = test.iloc[:,:2].drop(columns=['gender'])\n",
    "print(X_test.shape)"
   ]
  },
  {
   "cell_type": "code",
   "execution_count": 268,
   "id": "ae18e5b8",
   "metadata": {},
   "outputs": [],
   "source": [
    "# NORMALIZE DATA\n",
    "mean = np.mean(X_train, axis=0)\n",
    "std = np.std(X_train, axis=0)\n",
    "X_train = (X_train - mean)/std\n",
    "X_test = (X_test - mean)/std"
   ]
  },
  {
   "cell_type": "code",
   "execution_count": 269,
   "id": "2ee9339c",
   "metadata": {},
   "outputs": [],
   "source": [
    "# TURN DATA INTO ARRAYS FOR KERAS\n",
    "X_train = np.array(X_train)\n",
    "y_train = np.array(y_train)\n",
    "X_test = np.array(X_test)\n",
    "y_test = np.array(y_test)\n"
   ]
  },
  {
   "cell_type": "code",
   "execution_count": 270,
   "id": "141e130d",
   "metadata": {},
   "outputs": [],
   "source": [
    "# ONE HOT ENCODE THE TARGET\n",
    "# CNN REQUIRES INPUT AND OUTPUT ARE NUMBERS\n",
    "lb = LabelEncoder()\n",
    "y_train = to_categorical(lb.fit_transform(y_train))\n",
    "y_test = to_categorical(lb.fit_transform(y_test))\n"
   ]
  },
  {
   "cell_type": "code",
   "execution_count": 271,
   "id": "ee2b7258",
   "metadata": {},
   "outputs": [
    {
     "name": "stdout",
     "output_type": "stream",
     "text": [
      "[[0. 0. 0. 1. 0. 0. 0. 0.]\n",
      " [0. 1. 0. 0. 0. 0. 0. 0.]\n",
      " [0. 0. 0. 0. 1. 0. 0. 0.]\n",
      " [1. 0. 0. 0. 0. 0. 0. 0.]\n",
      " [0. 0. 0. 1. 0. 0. 0. 0.]\n",
      " [1. 0. 0. 0. 0. 0. 0. 0.]\n",
      " [0. 0. 0. 0. 1. 0. 0. 0.]\n",
      " [0. 0. 0. 0. 0. 0. 1. 0.]\n",
      " [0. 0. 0. 0. 0. 1. 0. 0.]\n",
      " [1. 0. 0. 0. 0. 0. 0. 0.]]\n"
     ]
    }
   ],
   "source": [
    "print(y_test[0:10])"
   ]
  },
  {
   "cell_type": "code",
   "execution_count": 272,
   "id": "eca23ed5",
   "metadata": {},
   "outputs": [
    {
     "name": "stdout",
     "output_type": "stream",
     "text": [
      "['angry' 'calm' 'disgust' 'fear' 'happy' 'neutral' 'sad' 'surprise']\n"
     ]
    }
   ],
   "source": [
    "print(lb.classes_)"
   ]
  },
  {
   "cell_type": "code",
   "execution_count": 273,
   "id": "79a8fef8",
   "metadata": {},
   "outputs": [
    {
     "data": {
      "text/plain": [
       "(1152, 259, 1)"
      ]
     },
     "execution_count": 273,
     "metadata": {},
     "output_type": "execute_result"
    }
   ],
   "source": [
    "# RESHAPE DATA TO INCLUDE 3D TENSOR \n",
    "X_train = X_train[:,:,np.newaxis]\n",
    "X_test = X_test[:,:,np.newaxis]\n",
    "\n",
    "X_train.shape"
   ]
  },
  {
   "cell_type": "code",
   "execution_count": 274,
   "id": "73e8ae70",
   "metadata": {},
   "outputs": [
    {
     "data": {
      "text/plain": [
       "(1152, 259, 1)"
      ]
     },
     "execution_count": 274,
     "metadata": {},
     "output_type": "execute_result"
    }
   ],
   "source": [
    "X_train.shape"
   ]
  },
  {
   "cell_type": "code",
   "execution_count": 275,
   "id": "7dceb97d",
   "metadata": {},
   "outputs": [
    {
     "data": {
      "text/plain": [
       "(288, 259, 1)"
      ]
     },
     "execution_count": 275,
     "metadata": {},
     "output_type": "execute_result"
    }
   ],
   "source": [
    "X_test.shape"
   ]
  },
  {
   "cell_type": "code",
   "execution_count": 276,
   "id": "4025a335",
   "metadata": {},
   "outputs": [
    {
     "data": {
      "text/plain": [
       "0.052083333333333336"
      ]
     },
     "execution_count": 276,
     "metadata": {},
     "output_type": "execute_result"
    }
   ],
   "source": [
    "import numpy as np\n",
    "from sklearn.dummy import DummyClassifier\n",
    "\n",
    "dummy_clf = DummyClassifier(strategy=\"stratified\")\n",
    "dummy_clf.fit(X_train, y_train)\n",
    "DummyClassifier(strategy='stratified')\n",
    "dummy_clf.predict(X_test)\n",
    "dummy_clf.score(X_test, y_test)"
   ]
  },
  {
   "cell_type": "code",
   "execution_count": null,
   "id": "6aa9c685",
   "metadata": {},
   "outputs": [],
   "source": [
    "from sklearn import tree\n",
    "\n",
    "clf = tree.DecisionTreeClassifier()\n",
    "clf = clf.fit(X_train, y_train)\n",
    "clf.predict(X_test)\n",
    "clf.score(X_test, y_test)"
   ]
  },
  {
   "cell_type": "code",
   "execution_count": 277,
   "id": "5251db39",
   "metadata": {},
   "outputs": [
    {
     "data": {
      "text/html": [
       "<div>\n",
       "<style scoped>\n",
       "    .dataframe tbody tr th:only-of-type {\n",
       "        vertical-align: middle;\n",
       "    }\n",
       "\n",
       "    .dataframe tbody tr th {\n",
       "        vertical-align: top;\n",
       "    }\n",
       "\n",
       "    .dataframe thead th {\n",
       "        text-align: right;\n",
       "    }\n",
       "</style>\n",
       "<table border=\"1\" class=\"dataframe\">\n",
       "  <thead>\n",
       "    <tr style=\"text-align: right;\">\n",
       "      <th></th>\n",
       "      <th>mel_spectrogram</th>\n",
       "    </tr>\n",
       "  </thead>\n",
       "  <tbody>\n",
       "    <tr>\n",
       "      <th>0</th>\n",
       "      <td>[-75.26845, -75.26845, -75.26845, -75.26845, -75.26845, -75.26845, -75.26845, -75.26845, -75.26845, -75.26845, -75.26845, -75.26845, -75.26845, -75.26845, -75.243004, -75.26845, -75.26845, -75.26845, -75.26845, -75.26845, -75.26845, -75.24528, -75.04568, -74.99168, -75.19989, -75.26845, -75.26845, -75.26845, -75.26845, -75.26845, -75.26845, -75.26845, -75.26845, -75.26845, -75.26845, -74.34854, -73.92539, -73.56352, -73.27889, -72.94659, -72.36573, -72.77169, -62.66063, -41.765488, -35.625652, -32.697567, -31.232754, -29.582478, -29.005156, -28.940495, -28.66669, -28.22058, -27.420063, -26.695297, -26.731213, -27.104462, -28.481537, -30.688972, -32.87745, -36.790688, -41.635178, -41.879257, -40.09379, -39.499546, -39.355, -39.876854, -40.17552, -38.197384, -36.35471, -34.195213, -33.323788, -33.642143, -33.76531, -34.102013, -35.33318, -36.94313, -37.931232, -39.940765, -39.828728, -39.29128, -37.974392, -39.12242, -41.313232, -35.535824, -33.189327, -33.90681, -36.375805, -41.008472, -43.743633, -40.78038, -37.379166, -36.989563, -37.33643, -38.593864, -41.70642, -45.89121, -46.88004, -47.354614, -47.581882, -45.365158, ...]</td>\n",
       "    </tr>\n",
       "    <tr>\n",
       "      <th>1</th>\n",
       "      <td>[-43.028713, -43.042988, -43.261326, -42.436676, -41.737343, -41.918777, -41.700493, -41.38073, -41.041134, -40.574318, -41.192196, -42.523743, -42.336243, -41.857025, -42.272514, -43.269135, -43.338387, -44.221283, -44.960804, -46.748035, -48.125107, -48.855724, -49.467484, -50.345325, -48.941998, -44.17935, -40.01212, -37.089638, -35.32121, -34.895355, -35.560318, -35.555264, -35.81766, -36.33105, -36.55279, -36.600067, -36.2273, -36.35361, -37.47603, -41.31337, -46.042812, -47.625626, -48.34291, -48.901985, -35.811287, -25.920439, -18.781908, -16.386158, -16.196274, -16.26944, -16.687273, -16.451473, -15.611079, -14.411495, -14.457534, -14.510024, -13.268233, -12.913103, -13.493089, -14.515449, -15.185567, -15.321195, -15.306486, -14.600651, -16.447802, -18.770077, -19.140423, -21.407412, -23.287226, -25.478472, -26.747784, -26.985826, -27.32007, -26.5274, -23.278358, -21.406454, -22.40988, -23.768742, -24.936504, -26.709251, -27.821743, -27.024046, -26.639101, -21.426641, -18.178528, -17.563513, -16.355236, -16.689686, -18.143007, -19.032894, -20.171343, -19.96009, -17.469196, -16.460592, -14.764888, -16.625284, -18.046984, -17.222048, -16.816572, -18.18617, ...]</td>\n",
       "    </tr>\n",
       "    <tr>\n",
       "      <th>2</th>\n",
       "      <td>[-49.169304, -49.169304, -48.407005, -44.851994, -41.615692, -39.319164, -38.613216, -39.014965, -38.350555, -38.879425, -39.21237, -39.007713, -39.95953, -39.751186, -39.00466, -39.766716, -40.59281, -41.387615, -42.200356, -44.479523, -45.43372, -45.964226, -46.561657, -46.340202, -44.12076, -40.982986, -37.545105, -35.668, -34.09041, -33.58697, -33.61325, -33.51587, -34.21115, -35.118176, -34.759842, -35.898335, -37.47699, -38.630596, -40.237854, -43.171253, -46.87981, -48.425957, -48.949078, -48.725376, -48.703987, -29.322607, -16.527185, -11.782075, -9.047266, -7.906037, -8.883454, -8.4279, -6.593108, -5.316847, -4.1972303, -4.651101, -5.469242, -7.382365, -9.542135, -12.091637, -12.540533, -12.502799, -12.916551, -14.18152, -16.802063, -19.036493, -21.741278, -24.909338, -28.164541, -30.384193, -31.19883, -30.823864, -30.59219, -30.009787, -26.582008, -23.80054, -23.131863, -19.76525, -17.318985, -13.968798, -11.6600485, -12.221695, -12.281469, -12.663868, -13.4554205, -13.260431, -13.227063, -12.772096, -13.571883, -14.337068, -15.031982, -14.852538, -16.975079, -21.94795, -25.404297, -27.462837, -30.186047, -33.06932, -35.471348, -33.26883, ...]</td>\n",
       "    </tr>\n",
       "    <tr>\n",
       "      <th>3</th>\n",
       "      <td>[-64.49623, -64.50452, -64.19428, -63.729504, -63.093285, -62.56594, -62.86212, -62.730785, -62.05913, -61.377228, -61.306168, -62.03788, -62.33126, -63.488583, -64.17275, -64.18877, -64.435555, -64.50778, -64.50778, -64.50778, -64.50778, -64.50778, -64.50778, -64.50778, -64.37521, -62.62585, -60.594543, -59.3886, -59.616817, -60.186497, -60.93017, -62.789967, -63.87934, -64.11565, -64.48413, -64.50778, -64.50778, -64.50778, -64.42219, -62.039406, -62.37523, -63.719765, -62.85511, -61.547413, -47.92753, -34.389217, -31.04049, -31.621317, -32.93561, -36.294754, -38.26597, -30.188988, -22.793997, -23.093195, -25.933216, -28.057133, -29.399971, -29.470034, -28.368917, -26.849104, -26.558748, -28.791262, -32.263756, -35.548332, -37.527172, -37.9888, -38.568882, -39.0337, -38.59122, -37.788063, -34.757633, -32.27299, -31.116613, -29.099329, -30.568855, -34.921803, -35.468605, -33.761787, -32.399956, -32.59342, -31.73866, -31.548302, -33.16691, -35.879196, -40.193886, -43.843155, -44.97042, -47.674118, -49.01683, -38.105556, -32.631577, -32.27307, -33.379246, -32.724804, -31.28785, -28.064053, -22.290918, -19.608078, -18.96879, -20.873446, ...]</td>\n",
       "    </tr>\n",
       "    <tr>\n",
       "      <th>4</th>\n",
       "      <td>[-79.94437, -79.94437, -79.94437, -79.94437, -79.94437, -79.94437, -79.94437, -79.94437, -79.94437, -79.94437, -79.94437, -79.94437, -79.94437, -79.94437, -79.94437, -79.94437, -79.94437, -79.94437, -79.94437, -79.94437, -79.94437, -79.94437, -79.94437, -79.94437, -79.94437, -79.94437, -79.94437, -79.94437, -79.94437, -79.94437, -79.94437, -79.94437, -79.94437, -79.94437, -79.94437, -79.94437, -79.89355, -79.78638, -78.83766, -78.29385, -75.5941, -72.462, -74.09438, -76.16146, -51.33449, -44.91755, -42.84144, -38.418015, -36.0421, -35.22141, -35.45638, -34.794605, -33.667114, -33.63351, -35.871044, -36.507805, -36.508232, -36.2311, -35.883656, -37.03163, -37.842224, -37.927402, -39.129993, -41.5575, -45.444984, -49.624634, -51.00179, -52.235134, -50.288296, -47.498333, -46.748943, -45.63178, -44.017708, -42.283096, -40.522697, -38.992527, -38.50556, -39.063103, -39.750935, -39.517403, -40.736973, -43.070908, -43.24301, -43.74898, -44.90738, -44.615078, -44.24444, -43.286606, -42.115772, -43.4177, -45.34745, -43.919632, -39.480934, -38.559235, -40.119465, -40.090034, -42.82513, -44.50736, -41.249653, -41.272125, ...]</td>\n",
       "    </tr>\n",
       "    <tr>\n",
       "      <th>...</th>\n",
       "      <td>...</td>\n",
       "    </tr>\n",
       "    <tr>\n",
       "      <th>1435</th>\n",
       "      <td>[-79.161224, -79.161224, -79.161224, -79.161224, -79.161224, -79.161224, -79.161224, -79.161224, -79.161224, -79.161224, -79.161224, -79.161224, -79.161224, -79.14578, -78.88508, -78.94053, -79.161224, -79.161224, -79.161224, -79.161224, -78.83729, -78.98772, -79.161224, -79.161224, -79.161224, -79.161224, -79.161224, -79.161224, -79.161224, -79.161224, -79.161224, -79.161224, -79.161224, -79.161224, -79.161224, -79.161224, -79.161224, -79.161224, -79.161224, -79.161224, -78.96199, -77.84956, -76.2856, -74.6375, -55.870285, -46.434456, -46.195972, -49.103695, -48.649258, -47.87732, -47.461166, -48.523937, -50.402615, -48.58929, -44.083103, -40.110275, -37.850605, -35.316414, -34.650757, -35.675007, -35.71283, -37.537262, -39.43144, -42.01666, -44.268448, -46.75944, -50.19719, -52.697342, -54.240723, -56.496784, -58.13186, -59.432632, -56.15462, -51.603573, -53.658325, -53.77083, -52.56465, -53.27882, -51.99713, -51.03109, -50.825886, -50.062317, -50.00638, -50.397923, -48.20589, -45.25081, -42.962265, -43.16817, -45.17917, -46.644833, -48.874447, -51.338474, -51.120823, -49.71205, -52.469036, -58.715572, -61.669373, -62.92588, -64.7846, -47.71021, ...]</td>\n",
       "    </tr>\n",
       "    <tr>\n",
       "      <th>1436</th>\n",
       "      <td>[-49.46665, -49.10634, -49.49651, -50.00435, -50.002594, -50.30415, -51.01731, -51.721188, -52.090015, -52.153027, -52.943996, -54.040966, -54.648018, -55.710625, -56.702797, -57.35811, -58.385303, -58.69759, -58.88357, -58.793343, -59.204525, -59.359695, -59.489143, -59.571117, -59.580048, -59.500336, -58.428215, -56.652008, -58.028435, -59.580048, -59.580048, -59.580048, -59.580048, -59.580048, -59.580048, -59.580048, -59.580048, -59.580048, -59.580048, -59.580048, -59.580048, -59.580048, -59.462547, -54.002678, -51.31073, -49.73736, -47.069695, -48.494186, -50.24763, -51.323597, -51.78227, -50.439205, -47.514378, -41.975018, -36.60248, -33.40604, -33.047424, -31.613525, -32.156055, -33.83944, -35.749012, -36.279102, -35.874443, -35.345417, -34.25713, -33.303146, -32.572517, -32.29663, -32.494568, -32.13512, -32.171204, -31.924076, -32.00613, -32.593838, -32.311676, -29.70662, -31.329075, -38.480686, -43.686012, -42.885693, -39.055496, -36.901863, -36.29378, -35.76706, -35.540947, -34.962467, -34.636513, -32.267776, -28.829847, -27.81997, -27.577665, -27.849564, -29.803217, -31.840322, -32.192337, -30.386625, -31.07827, -36.614365, -41.263706, -44.07785, ...]</td>\n",
       "    </tr>\n",
       "    <tr>\n",
       "      <th>1437</th>\n",
       "      <td>[-83.1146, -83.217964, -83.10281, -82.01374, -82.11944, -82.32163, -81.25672, -76.56811, -77.06393, -82.97329, -83.5681, -83.57158, -83.57158, -83.57158, -83.57158, -83.57158, -83.57158, -83.57158, -83.57158, -83.57158, -83.57158, -83.57158, -83.57158, -83.57158, -83.57158, -83.57158, -83.57158, -83.57158, -83.57158, -83.57158, -83.57158, -83.57158, -83.57158, -83.57158, -83.57158, -83.57158, -83.57158, -83.536095, -83.15624, -82.94779, -83.10762, -81.60937, -78.51951, -74.24987, -52.33448, -44.69552, -43.85036, -43.815975, -44.090527, -44.568756, -45.47591, -46.03172, -46.94661, -46.972843, -47.250187, -47.200466, -46.428642, -44.64237, -43.34678, -43.09546, -42.911423, -42.861176, -43.247517, -44.70222, -47.589634, -50.71849, -53.78402, -56.942574, -58.677597, -57.266262, -50.93745, -46.32396, -45.180424, -45.307743, -46.258858, -47.480885, -47.208893, -46.667988, -45.550903, -45.34547, -44.835682, -43.98677, -43.87674, -44.987507, -46.121067, -47.99945, -47.999588, -47.54944, -45.99485, -43.51338, -42.333656, -42.519314, -43.36448, -45.529655, -47.099747, -47.780502, -48.29372, -49.19378, -48.79796, -48.373875, ...]</td>\n",
       "    </tr>\n",
       "    <tr>\n",
       "      <th>1438</th>\n",
       "      <td>[-65.62355, -65.62355, -65.62355, -65.62355, -65.62355, -65.62355, -65.62355, -65.62355, -65.62355, -65.62355, -65.62355, -65.62355, -65.62355, -65.56391, -64.77736, -62.565014, -59.55202, -56.11278, -53.445484, -51.5317, -49.69239, -48.412674, -48.1973, -46.71754, -44.467644, -43.64641, -43.940468, -43.938477, -44.25377, -43.806396, -43.858624, -44.328613, -45.84301, -48.140163, -49.2301, -50.17391, -52.522594, -56.79511, -62.245167, -64.679886, -65.34009, -65.03398, -64.73538, -52.8187, -38.478466, -33.078053, -31.956533, -34.174885, -35.574684, -34.7171, -31.979431, -28.987988, -27.59816, -27.38485, -28.621967, -30.427, -34.970207, -42.048603, -45.11527, -45.282047, -42.656563, -39.20331, -38.052464, -37.083073, -36.299095, -33.524708, -29.48087, -26.127396, -24.738997, -23.339933, -23.46095, -25.03769, -26.500692, -29.097021, -33.514954, -36.136597, -32.431137, -28.047373, -25.45178, -26.477896, -27.912064, -27.629717, -27.372936, -28.633434, -29.373417, -28.735445, -27.717854, -27.298588, -27.46014, -26.867653, -26.872524, -27.288538, -28.067997, -31.052095, -35.496773, -32.594715, -28.606075, -28.10528, -29.658806, -31.107206, ...]</td>\n",
       "    </tr>\n",
       "    <tr>\n",
       "      <th>1439</th>\n",
       "      <td>[-45.199844, -43.82312, -44.344078, -45.735817, -46.09549, -45.70201, -45.73389, -46.317333, -47.424995, -48.18975, -48.735367, -49.609917, -51.114033, -51.741745, -52.354424, -54.285316, -55.315136, -56.21937, -57.399914, -58.40338, -58.453133, -59.335815, -61.146862, -61.302704, -61.302704, -61.302704, -61.302704, -61.302704, -61.302704, -61.302704, -61.302704, -61.302704, -61.302704, -61.24344, -61.220222, -61.302704, -61.302704, -61.297314, -61.11591, -60.8, -60.77184, -60.81804, -35.838345, -22.939175, -18.907555, -18.615974, -18.044632, -19.236794, -20.700361, -22.053825, -22.831844, -22.125698, -20.603863, -18.693386, -17.710058, -18.467213, -19.365517, -19.294952, -17.838789, -16.966835, -18.129599, -20.528946, -23.195402, -26.6991, -30.6141, -36.81126, -39.28417, -39.47635, -39.062332, -33.148273, -28.453323, -28.692165, -31.438593, -32.630768, -32.336945, -30.512367, -29.220499, -29.22226, -27.886509, -25.618742, -25.172234, -27.441526, -28.867373, -29.312807, -29.23394, -29.609339, -28.110096, -26.81874, -26.665798, -27.538574, -30.08525, -32.81745, -33.48518, -34.063946, -35.153004, -35.127666, -35.037117, -34.617847, -34.426197, -34.83367, ...]</td>\n",
       "    </tr>\n",
       "  </tbody>\n",
       "</table>\n",
       "<p>1440 rows × 1 columns</p>\n",
       "</div>"
      ],
      "text/plain": [
       "                                                                                                                                                                                                                                                                                                                                                                                                                                                                                                                                                                                                                                                                                                                                                                                                                                                                                                                                                                                                                                                                                                                                                                                                                        mel_spectrogram\n",
       "0     [-75.26845, -75.26845, -75.26845, -75.26845, -75.26845, -75.26845, -75.26845, -75.26845, -75.26845, -75.26845, -75.26845, -75.26845, -75.26845, -75.26845, -75.243004, -75.26845, -75.26845, -75.26845, -75.26845, -75.26845, -75.26845, -75.24528, -75.04568, -74.99168, -75.19989, -75.26845, -75.26845, -75.26845, -75.26845, -75.26845, -75.26845, -75.26845, -75.26845, -75.26845, -75.26845, -74.34854, -73.92539, -73.56352, -73.27889, -72.94659, -72.36573, -72.77169, -62.66063, -41.765488, -35.625652, -32.697567, -31.232754, -29.582478, -29.005156, -28.940495, -28.66669, -28.22058, -27.420063, -26.695297, -26.731213, -27.104462, -28.481537, -30.688972, -32.87745, -36.790688, -41.635178, -41.879257, -40.09379, -39.499546, -39.355, -39.876854, -40.17552, -38.197384, -36.35471, -34.195213, -33.323788, -33.642143, -33.76531, -34.102013, -35.33318, -36.94313, -37.931232, -39.940765, -39.828728, -39.29128, -37.974392, -39.12242, -41.313232, -35.535824, -33.189327, -33.90681, -36.375805, -41.008472, -43.743633, -40.78038, -37.379166, -36.989563, -37.33643, -38.593864, -41.70642, -45.89121, -46.88004, -47.354614, -47.581882, -45.365158, ...]                                          \n",
       "1     [-43.028713, -43.042988, -43.261326, -42.436676, -41.737343, -41.918777, -41.700493, -41.38073, -41.041134, -40.574318, -41.192196, -42.523743, -42.336243, -41.857025, -42.272514, -43.269135, -43.338387, -44.221283, -44.960804, -46.748035, -48.125107, -48.855724, -49.467484, -50.345325, -48.941998, -44.17935, -40.01212, -37.089638, -35.32121, -34.895355, -35.560318, -35.555264, -35.81766, -36.33105, -36.55279, -36.600067, -36.2273, -36.35361, -37.47603, -41.31337, -46.042812, -47.625626, -48.34291, -48.901985, -35.811287, -25.920439, -18.781908, -16.386158, -16.196274, -16.26944, -16.687273, -16.451473, -15.611079, -14.411495, -14.457534, -14.510024, -13.268233, -12.913103, -13.493089, -14.515449, -15.185567, -15.321195, -15.306486, -14.600651, -16.447802, -18.770077, -19.140423, -21.407412, -23.287226, -25.478472, -26.747784, -26.985826, -27.32007, -26.5274, -23.278358, -21.406454, -22.40988, -23.768742, -24.936504, -26.709251, -27.821743, -27.024046, -26.639101, -21.426641, -18.178528, -17.563513, -16.355236, -16.689686, -18.143007, -19.032894, -20.171343, -19.96009, -17.469196, -16.460592, -14.764888, -16.625284, -18.046984, -17.222048, -16.816572, -18.18617, ...]\n",
       "2     [-49.169304, -49.169304, -48.407005, -44.851994, -41.615692, -39.319164, -38.613216, -39.014965, -38.350555, -38.879425, -39.21237, -39.007713, -39.95953, -39.751186, -39.00466, -39.766716, -40.59281, -41.387615, -42.200356, -44.479523, -45.43372, -45.964226, -46.561657, -46.340202, -44.12076, -40.982986, -37.545105, -35.668, -34.09041, -33.58697, -33.61325, -33.51587, -34.21115, -35.118176, -34.759842, -35.898335, -37.47699, -38.630596, -40.237854, -43.171253, -46.87981, -48.425957, -48.949078, -48.725376, -48.703987, -29.322607, -16.527185, -11.782075, -9.047266, -7.906037, -8.883454, -8.4279, -6.593108, -5.316847, -4.1972303, -4.651101, -5.469242, -7.382365, -9.542135, -12.091637, -12.540533, -12.502799, -12.916551, -14.18152, -16.802063, -19.036493, -21.741278, -24.909338, -28.164541, -30.384193, -31.19883, -30.823864, -30.59219, -30.009787, -26.582008, -23.80054, -23.131863, -19.76525, -17.318985, -13.968798, -11.6600485, -12.221695, -12.281469, -12.663868, -13.4554205, -13.260431, -13.227063, -12.772096, -13.571883, -14.337068, -15.031982, -14.852538, -16.975079, -21.94795, -25.404297, -27.462837, -30.186047, -33.06932, -35.471348, -33.26883, ...]              \n",
       "3     [-64.49623, -64.50452, -64.19428, -63.729504, -63.093285, -62.56594, -62.86212, -62.730785, -62.05913, -61.377228, -61.306168, -62.03788, -62.33126, -63.488583, -64.17275, -64.18877, -64.435555, -64.50778, -64.50778, -64.50778, -64.50778, -64.50778, -64.50778, -64.50778, -64.37521, -62.62585, -60.594543, -59.3886, -59.616817, -60.186497, -60.93017, -62.789967, -63.87934, -64.11565, -64.48413, -64.50778, -64.50778, -64.50778, -64.42219, -62.039406, -62.37523, -63.719765, -62.85511, -61.547413, -47.92753, -34.389217, -31.04049, -31.621317, -32.93561, -36.294754, -38.26597, -30.188988, -22.793997, -23.093195, -25.933216, -28.057133, -29.399971, -29.470034, -28.368917, -26.849104, -26.558748, -28.791262, -32.263756, -35.548332, -37.527172, -37.9888, -38.568882, -39.0337, -38.59122, -37.788063, -34.757633, -32.27299, -31.116613, -29.099329, -30.568855, -34.921803, -35.468605, -33.761787, -32.399956, -32.59342, -31.73866, -31.548302, -33.16691, -35.879196, -40.193886, -43.843155, -44.97042, -47.674118, -49.01683, -38.105556, -32.631577, -32.27307, -33.379246, -32.724804, -31.28785, -28.064053, -22.290918, -19.608078, -18.96879, -20.873446, ...]                             \n",
       "4     [-79.94437, -79.94437, -79.94437, -79.94437, -79.94437, -79.94437, -79.94437, -79.94437, -79.94437, -79.94437, -79.94437, -79.94437, -79.94437, -79.94437, -79.94437, -79.94437, -79.94437, -79.94437, -79.94437, -79.94437, -79.94437, -79.94437, -79.94437, -79.94437, -79.94437, -79.94437, -79.94437, -79.94437, -79.94437, -79.94437, -79.94437, -79.94437, -79.94437, -79.94437, -79.94437, -79.94437, -79.89355, -79.78638, -78.83766, -78.29385, -75.5941, -72.462, -74.09438, -76.16146, -51.33449, -44.91755, -42.84144, -38.418015, -36.0421, -35.22141, -35.45638, -34.794605, -33.667114, -33.63351, -35.871044, -36.507805, -36.508232, -36.2311, -35.883656, -37.03163, -37.842224, -37.927402, -39.129993, -41.5575, -45.444984, -49.624634, -51.00179, -52.235134, -50.288296, -47.498333, -46.748943, -45.63178, -44.017708, -42.283096, -40.522697, -38.992527, -38.50556, -39.063103, -39.750935, -39.517403, -40.736973, -43.070908, -43.24301, -43.74898, -44.90738, -44.615078, -44.24444, -43.286606, -42.115772, -43.4177, -45.34745, -43.919632, -39.480934, -38.559235, -40.119465, -40.090034, -42.82513, -44.50736, -41.249653, -41.272125, ...]                                                    \n",
       "...                                                                                                                                                                                                                                                                                                                                                                                                                                                                                                                                                                                                                                                                                                                                                                                                                                                                                                                                                                                                                                                                                                                                                                             ...                                                    \n",
       "1435  [-79.161224, -79.161224, -79.161224, -79.161224, -79.161224, -79.161224, -79.161224, -79.161224, -79.161224, -79.161224, -79.161224, -79.161224, -79.161224, -79.14578, -78.88508, -78.94053, -79.161224, -79.161224, -79.161224, -79.161224, -78.83729, -78.98772, -79.161224, -79.161224, -79.161224, -79.161224, -79.161224, -79.161224, -79.161224, -79.161224, -79.161224, -79.161224, -79.161224, -79.161224, -79.161224, -79.161224, -79.161224, -79.161224, -79.161224, -79.161224, -78.96199, -77.84956, -76.2856, -74.6375, -55.870285, -46.434456, -46.195972, -49.103695, -48.649258, -47.87732, -47.461166, -48.523937, -50.402615, -48.58929, -44.083103, -40.110275, -37.850605, -35.316414, -34.650757, -35.675007, -35.71283, -37.537262, -39.43144, -42.01666, -44.268448, -46.75944, -50.19719, -52.697342, -54.240723, -56.496784, -58.13186, -59.432632, -56.15462, -51.603573, -53.658325, -53.77083, -52.56465, -53.27882, -51.99713, -51.03109, -50.825886, -50.062317, -50.00638, -50.397923, -48.20589, -45.25081, -42.962265, -43.16817, -45.17917, -46.644833, -48.874447, -51.338474, -51.120823, -49.71205, -52.469036, -58.715572, -61.669373, -62.92588, -64.7846, -47.71021, ...]               \n",
       "1436  [-49.46665, -49.10634, -49.49651, -50.00435, -50.002594, -50.30415, -51.01731, -51.721188, -52.090015, -52.153027, -52.943996, -54.040966, -54.648018, -55.710625, -56.702797, -57.35811, -58.385303, -58.69759, -58.88357, -58.793343, -59.204525, -59.359695, -59.489143, -59.571117, -59.580048, -59.500336, -58.428215, -56.652008, -58.028435, -59.580048, -59.580048, -59.580048, -59.580048, -59.580048, -59.580048, -59.580048, -59.580048, -59.580048, -59.580048, -59.580048, -59.580048, -59.580048, -59.462547, -54.002678, -51.31073, -49.73736, -47.069695, -48.494186, -50.24763, -51.323597, -51.78227, -50.439205, -47.514378, -41.975018, -36.60248, -33.40604, -33.047424, -31.613525, -32.156055, -33.83944, -35.749012, -36.279102, -35.874443, -35.345417, -34.25713, -33.303146, -32.572517, -32.29663, -32.494568, -32.13512, -32.171204, -31.924076, -32.00613, -32.593838, -32.311676, -29.70662, -31.329075, -38.480686, -43.686012, -42.885693, -39.055496, -36.901863, -36.29378, -35.76706, -35.540947, -34.962467, -34.636513, -32.267776, -28.829847, -27.81997, -27.577665, -27.849564, -29.803217, -31.840322, -32.192337, -30.386625, -31.07827, -36.614365, -41.263706, -44.07785, ...]      \n",
       "1437  [-83.1146, -83.217964, -83.10281, -82.01374, -82.11944, -82.32163, -81.25672, -76.56811, -77.06393, -82.97329, -83.5681, -83.57158, -83.57158, -83.57158, -83.57158, -83.57158, -83.57158, -83.57158, -83.57158, -83.57158, -83.57158, -83.57158, -83.57158, -83.57158, -83.57158, -83.57158, -83.57158, -83.57158, -83.57158, -83.57158, -83.57158, -83.57158, -83.57158, -83.57158, -83.57158, -83.57158, -83.57158, -83.536095, -83.15624, -82.94779, -83.10762, -81.60937, -78.51951, -74.24987, -52.33448, -44.69552, -43.85036, -43.815975, -44.090527, -44.568756, -45.47591, -46.03172, -46.94661, -46.972843, -47.250187, -47.200466, -46.428642, -44.64237, -43.34678, -43.09546, -42.911423, -42.861176, -43.247517, -44.70222, -47.589634, -50.71849, -53.78402, -56.942574, -58.677597, -57.266262, -50.93745, -46.32396, -45.180424, -45.307743, -46.258858, -47.480885, -47.208893, -46.667988, -45.550903, -45.34547, -44.835682, -43.98677, -43.87674, -44.987507, -46.121067, -47.99945, -47.999588, -47.54944, -45.99485, -43.51338, -42.333656, -42.519314, -43.36448, -45.529655, -47.099747, -47.780502, -48.29372, -49.19378, -48.79796, -48.373875, ...]                                                 \n",
       "1438  [-65.62355, -65.62355, -65.62355, -65.62355, -65.62355, -65.62355, -65.62355, -65.62355, -65.62355, -65.62355, -65.62355, -65.62355, -65.62355, -65.56391, -64.77736, -62.565014, -59.55202, -56.11278, -53.445484, -51.5317, -49.69239, -48.412674, -48.1973, -46.71754, -44.467644, -43.64641, -43.940468, -43.938477, -44.25377, -43.806396, -43.858624, -44.328613, -45.84301, -48.140163, -49.2301, -50.17391, -52.522594, -56.79511, -62.245167, -64.679886, -65.34009, -65.03398, -64.73538, -52.8187, -38.478466, -33.078053, -31.956533, -34.174885, -35.574684, -34.7171, -31.979431, -28.987988, -27.59816, -27.38485, -28.621967, -30.427, -34.970207, -42.048603, -45.11527, -45.282047, -42.656563, -39.20331, -38.052464, -37.083073, -36.299095, -33.524708, -29.48087, -26.127396, -24.738997, -23.339933, -23.46095, -25.03769, -26.500692, -29.097021, -33.514954, -36.136597, -32.431137, -28.047373, -25.45178, -26.477896, -27.912064, -27.629717, -27.372936, -28.633434, -29.373417, -28.735445, -27.717854, -27.298588, -27.46014, -26.867653, -26.872524, -27.288538, -28.067997, -31.052095, -35.496773, -32.594715, -28.606075, -28.10528, -29.658806, -31.107206, ...]                              \n",
       "1439  [-45.199844, -43.82312, -44.344078, -45.735817, -46.09549, -45.70201, -45.73389, -46.317333, -47.424995, -48.18975, -48.735367, -49.609917, -51.114033, -51.741745, -52.354424, -54.285316, -55.315136, -56.21937, -57.399914, -58.40338, -58.453133, -59.335815, -61.146862, -61.302704, -61.302704, -61.302704, -61.302704, -61.302704, -61.302704, -61.302704, -61.302704, -61.302704, -61.302704, -61.24344, -61.220222, -61.302704, -61.302704, -61.297314, -61.11591, -60.8, -60.77184, -60.81804, -35.838345, -22.939175, -18.907555, -18.615974, -18.044632, -19.236794, -20.700361, -22.053825, -22.831844, -22.125698, -20.603863, -18.693386, -17.710058, -18.467213, -19.365517, -19.294952, -17.838789, -16.966835, -18.129599, -20.528946, -23.195402, -26.6991, -30.6141, -36.81126, -39.28417, -39.47635, -39.062332, -33.148273, -28.453323, -28.692165, -31.438593, -32.630768, -32.336945, -30.512367, -29.220499, -29.22226, -27.886509, -25.618742, -25.172234, -27.441526, -28.867373, -29.312807, -29.23394, -29.609339, -28.110096, -26.81874, -26.665798, -27.538574, -30.08525, -32.81745, -33.48518, -34.063946, -35.153004, -35.127666, -35.037117, -34.617847, -34.426197, -34.83367, ...]          \n",
       "\n",
       "[1440 rows x 1 columns]"
      ]
     },
     "execution_count": 277,
     "metadata": {},
     "output_type": "execute_result"
    }
   ],
   "source": [
    "df"
   ]
  },
  {
   "cell_type": "code",
   "execution_count": 278,
   "id": "d4cd0ff7",
   "metadata": {},
   "outputs": [
    {
     "name": "stdout",
     "output_type": "stream",
     "text": [
      "Model: \"sequential_7\"\n",
      "_________________________________________________________________\n",
      " Layer (type)                Output Shape              Param #   \n",
      "=================================================================\n",
      " conv1d_18 (Conv1D)          (None, 250, 64)           704       \n",
      "                                                                 \n",
      " conv1d_19 (Conv1D)          (None, 241, 128)          82048     \n",
      "                                                                 \n",
      " max_pooling1d_10 (MaxPoolin  (None, 30, 128)          0         \n",
      " g1D)                                                            \n",
      "                                                                 \n",
      " dropout_15 (Dropout)        (None, 30, 128)           0         \n",
      "                                                                 \n",
      " conv1d_20 (Conv1D)          (None, 21, 128)           163968    \n",
      "                                                                 \n",
      " max_pooling1d_11 (MaxPoolin  (None, 2, 128)           0         \n",
      " g1D)                                                            \n",
      "                                                                 \n",
      " dropout_16 (Dropout)        (None, 2, 128)            0         \n",
      "                                                                 \n",
      " flatten_5 (Flatten)         (None, 256)               0         \n",
      "                                                                 \n",
      " dense_10 (Dense)            (None, 256)               65792     \n",
      "                                                                 \n",
      " dropout_17 (Dropout)        (None, 256)               0         \n",
      "                                                                 \n",
      " dense_11 (Dense)            (None, 8)                 2056      \n",
      "                                                                 \n",
      "=================================================================\n",
      "Total params: 314,568\n",
      "Trainable params: 314,568\n",
      "Non-trainable params: 0\n",
      "_________________________________________________________________\n"
     ]
    }
   ],
   "source": [
    "import tensorflow as tf\n",
    "from tensorflow import keras\n",
    "from tensorflow.keras import layers\n",
    "from tensorflow.keras.models import Sequential, load_model\n",
    "\n",
    "#BUILD 1D CNN LAYERS\n",
    "model = tf.keras.Sequential()\n",
    "model.add(layers.Conv1D(64, kernel_size=(10), activation='relu', input_shape=(X_train.shape[1],1)))\n",
    "model.add(layers.Conv1D(128, kernel_size=(10),activation='relu',kernel_regularizer=l2(0.01), bias_regularizer=l2(0.01)))\n",
    "model.add(layers.MaxPooling1D(pool_size=(8)))\n",
    "model.add(layers.Dropout(0.4))\n",
    "model.add(layers.Conv1D(128, kernel_size=(10),activation='relu'))\n",
    "model.add(layers.MaxPooling1D(pool_size=(8)))\n",
    "model.add(layers.Dropout(0.4))\n",
    "model.add(layers.Flatten())\n",
    "model.add(layers.Dense(256, activation='relu'))\n",
    "model.add(layers.Dropout(0.4))\n",
    "model.add(layers.Dense(8, activation='sigmoid'))\n",
    "opt = keras.optimizers.Adam(lr=0.001)\n",
    "model.compile(loss='categorical_crossentropy', optimizer=opt,metrics=['accuracy'])\n",
    "model.summary()"
   ]
  },
  {
   "cell_type": "code",
   "execution_count": 279,
   "id": "dce546ed",
   "metadata": {},
   "outputs": [
    {
     "name": "stdout",
     "output_type": "stream",
     "text": [
      "WARNING:tensorflow:`period` argument is deprecated. Please use `save_freq` to specify the frequency in number of batches seen.\n",
      "Epoch 1/40\n",
      "35/36 [============================>.] - ETA: 0s - loss: 2.5250 - accuracy: 0.2152\n",
      "Epoch 00001: val_accuracy improved from -inf to 0.25694, saving model to best_initial_model.hdf5\n",
      "36/36 [==============================] - 3s 65ms/step - loss: 2.5139 - accuracy: 0.2170 - val_loss: 2.1633 - val_accuracy: 0.2569\n",
      "Epoch 2/40\n",
      "35/36 [============================>.] - ETA: 0s - loss: 2.0728 - accuracy: 0.2705\n",
      "Epoch 00002: val_accuracy improved from 0.25694 to 0.30903, saving model to best_initial_model.hdf5\n",
      "36/36 [==============================] - 2s 51ms/step - loss: 2.0622 - accuracy: 0.2726 - val_loss: 1.9092 - val_accuracy: 0.3090\n",
      "Epoch 3/40\n",
      "36/36 [==============================] - ETA: 0s - loss: 1.8636 - accuracy: 0.3177\n",
      "Epoch 00003: val_accuracy improved from 0.30903 to 0.31597, saving model to best_initial_model.hdf5\n",
      "36/36 [==============================] - 2s 50ms/step - loss: 1.8636 - accuracy: 0.3177 - val_loss: 1.8159 - val_accuracy: 0.3160\n",
      "Epoch 4/40\n",
      "36/36 [==============================] - ETA: 0s - loss: 1.8032 - accuracy: 0.3194\n",
      "Epoch 00004: val_accuracy improved from 0.31597 to 0.38542, saving model to best_initial_model.hdf5\n",
      "36/36 [==============================] - 2s 50ms/step - loss: 1.8032 - accuracy: 0.3194 - val_loss: 1.7491 - val_accuracy: 0.3854\n",
      "Epoch 5/40\n",
      "36/36 [==============================] - ETA: 0s - loss: 1.7357 - accuracy: 0.3550\n",
      "Epoch 00005: val_accuracy did not improve from 0.38542\n",
      "36/36 [==============================] - 2s 48ms/step - loss: 1.7357 - accuracy: 0.3550 - val_loss: 1.8272 - val_accuracy: 0.3403\n",
      "Epoch 6/40\n",
      "36/36 [==============================] - ETA: 0s - loss: 1.7164 - accuracy: 0.3316\n",
      "Epoch 00006: val_accuracy improved from 0.38542 to 0.41319, saving model to best_initial_model.hdf5\n",
      "36/36 [==============================] - 2s 51ms/step - loss: 1.7164 - accuracy: 0.3316 - val_loss: 1.6943 - val_accuracy: 0.4132\n",
      "Epoch 7/40\n",
      "35/36 [============================>.] - ETA: 0s - loss: 1.6873 - accuracy: 0.3562\n",
      "Epoch 00007: val_accuracy did not improve from 0.41319\n",
      "36/36 [==============================] - 2s 50ms/step - loss: 1.6869 - accuracy: 0.3576 - val_loss: 1.6756 - val_accuracy: 0.3854\n",
      "Epoch 8/40\n",
      "36/36 [==============================] - ETA: 0s - loss: 1.6556 - accuracy: 0.3602\n",
      "Epoch 00008: val_accuracy improved from 0.41319 to 0.41667, saving model to best_initial_model.hdf5\n",
      "36/36 [==============================] - 2s 54ms/step - loss: 1.6556 - accuracy: 0.3602 - val_loss: 1.6395 - val_accuracy: 0.4167\n",
      "Epoch 9/40\n",
      "35/36 [============================>.] - ETA: 0s - loss: 1.6236 - accuracy: 0.3688\n",
      "Epoch 00009: val_accuracy did not improve from 0.41667\n",
      "36/36 [==============================] - 2s 53ms/step - loss: 1.6237 - accuracy: 0.3698 - val_loss: 1.6478 - val_accuracy: 0.4062\n",
      "Epoch 10/40\n",
      "36/36 [==============================] - ETA: 0s - loss: 1.6254 - accuracy: 0.3715\n",
      "Epoch 00010: val_accuracy did not improve from 0.41667\n",
      "36/36 [==============================] - 2s 49ms/step - loss: 1.6254 - accuracy: 0.3715 - val_loss: 1.5993 - val_accuracy: 0.3958\n",
      "Epoch 11/40\n",
      "35/36 [============================>.] - ETA: 0s - loss: 1.5894 - accuracy: 0.3964\n",
      "Epoch 00011: val_accuracy improved from 0.41667 to 0.45833, saving model to best_initial_model.hdf5\n",
      "36/36 [==============================] - 2s 54ms/step - loss: 1.5861 - accuracy: 0.3984 - val_loss: 1.5980 - val_accuracy: 0.4583\n",
      "Epoch 12/40\n",
      "36/36 [==============================] - ETA: 0s - loss: 1.5563 - accuracy: 0.4245\n",
      "Epoch 00012: val_accuracy did not improve from 0.45833\n",
      "36/36 [==============================] - 2s 54ms/step - loss: 1.5563 - accuracy: 0.4245 - val_loss: 1.5594 - val_accuracy: 0.4271\n",
      "Epoch 13/40\n",
      "35/36 [============================>.] - ETA: 0s - loss: 1.5526 - accuracy: 0.4134\n",
      "Epoch 00013: val_accuracy did not improve from 0.45833\n",
      "36/36 [==============================] - 2s 54ms/step - loss: 1.5543 - accuracy: 0.4106 - val_loss: 1.5601 - val_accuracy: 0.4236\n",
      "Epoch 14/40\n",
      "36/36 [==============================] - ETA: 0s - loss: 1.5283 - accuracy: 0.4141\n",
      "Epoch 00014: val_accuracy did not improve from 0.45833\n",
      "36/36 [==============================] - 2s 52ms/step - loss: 1.5283 - accuracy: 0.4141 - val_loss: 1.5607 - val_accuracy: 0.4236\n",
      "Epoch 15/40\n",
      "35/36 [============================>.] - ETA: 0s - loss: 1.5207 - accuracy: 0.4348\n",
      "Epoch 00015: val_accuracy did not improve from 0.45833\n",
      "36/36 [==============================] - 2s 50ms/step - loss: 1.5197 - accuracy: 0.4375 - val_loss: 1.5236 - val_accuracy: 0.4201\n",
      "Epoch 16/40\n",
      "36/36 [==============================] - ETA: 0s - loss: 1.4936 - accuracy: 0.4462\n",
      "Epoch 00016: val_accuracy did not improve from 0.45833\n",
      "36/36 [==============================] - 2s 46ms/step - loss: 1.4936 - accuracy: 0.4462 - val_loss: 1.5283 - val_accuracy: 0.4583\n",
      "Epoch 17/40\n",
      "35/36 [============================>.] - ETA: 0s - loss: 1.5010 - accuracy: 0.4295\n",
      "Epoch 00017: val_accuracy did not improve from 0.45833\n",
      "36/36 [==============================] - 2s 51ms/step - loss: 1.5004 - accuracy: 0.4306 - val_loss: 1.5226 - val_accuracy: 0.4375\n",
      "Epoch 18/40\n",
      "36/36 [==============================] - ETA: 0s - loss: 1.4507 - accuracy: 0.4809\n",
      "Epoch 00018: val_accuracy did not improve from 0.45833\n",
      "36/36 [==============================] - 2s 53ms/step - loss: 1.4507 - accuracy: 0.4809 - val_loss: 1.4854 - val_accuracy: 0.4375\n",
      "Epoch 19/40\n",
      "35/36 [============================>.] - ETA: 0s - loss: 1.4737 - accuracy: 0.4527\n",
      "Epoch 00019: val_accuracy improved from 0.45833 to 0.46528, saving model to best_initial_model.hdf5\n",
      "36/36 [==============================] - 2s 57ms/step - loss: 1.4668 - accuracy: 0.4557 - val_loss: 1.4920 - val_accuracy: 0.4653\n",
      "Epoch 20/40\n",
      "36/36 [==============================] - ETA: 0s - loss: 1.4197 - accuracy: 0.4601\n",
      "Epoch 00020: val_accuracy did not improve from 0.46528\n",
      "36/36 [==============================] - 2s 53ms/step - loss: 1.4197 - accuracy: 0.4601 - val_loss: 1.4688 - val_accuracy: 0.4583\n",
      "Epoch 21/40\n",
      "35/36 [============================>.] - ETA: 0s - loss: 1.4313 - accuracy: 0.4500\n",
      "Epoch 00021: val_accuracy did not improve from 0.46528\n",
      "36/36 [==============================] - 2s 52ms/step - loss: 1.4336 - accuracy: 0.4514 - val_loss: 1.4853 - val_accuracy: 0.4479\n",
      "Epoch 22/40\n",
      "36/36 [==============================] - ETA: 0s - loss: 1.3977 - accuracy: 0.4774\n",
      "Epoch 00022: val_accuracy did not improve from 0.46528\n",
      "36/36 [==============================] - 2s 52ms/step - loss: 1.3977 - accuracy: 0.4774 - val_loss: 1.4424 - val_accuracy: 0.4549\n",
      "Epoch 23/40\n",
      "36/36 [==============================] - ETA: 0s - loss: 1.3515 - accuracy: 0.4974\n",
      "Epoch 00023: val_accuracy improved from 0.46528 to 0.46875, saving model to best_initial_model.hdf5\n",
      "36/36 [==============================] - 2s 52ms/step - loss: 1.3515 - accuracy: 0.4974 - val_loss: 1.4393 - val_accuracy: 0.4688\n",
      "Epoch 24/40\n",
      "36/36 [==============================] - ETA: 0s - loss: 1.3838 - accuracy: 0.4922\n",
      "Epoch 00024: val_accuracy did not improve from 0.46875\n",
      "36/36 [==============================] - 2s 54ms/step - loss: 1.3838 - accuracy: 0.4922 - val_loss: 1.4773 - val_accuracy: 0.4653\n",
      "Epoch 25/40\n",
      "36/36 [==============================] - ETA: 0s - loss: 1.3563 - accuracy: 0.5000\n",
      "Epoch 00025: val_accuracy did not improve from 0.46875\n",
      "36/36 [==============================] - 2s 56ms/step - loss: 1.3563 - accuracy: 0.5000 - val_loss: 1.4444 - val_accuracy: 0.4688\n",
      "Epoch 26/40\n",
      "35/36 [============================>.] - ETA: 0s - loss: 1.3486 - accuracy: 0.4964\n",
      "Epoch 00026: val_accuracy improved from 0.46875 to 0.49653, saving model to best_initial_model.hdf5\n",
      "36/36 [==============================] - 2s 56ms/step - loss: 1.3453 - accuracy: 0.4957 - val_loss: 1.4418 - val_accuracy: 0.4965\n",
      "Epoch 27/40\n",
      "36/36 [==============================] - ETA: 0s - loss: 1.3387 - accuracy: 0.4939\n",
      "Epoch 00027: val_accuracy did not improve from 0.49653\n",
      "36/36 [==============================] - 2s 54ms/step - loss: 1.3387 - accuracy: 0.4939 - val_loss: 1.4229 - val_accuracy: 0.4757\n",
      "Epoch 28/40\n"
     ]
    },
    {
     "name": "stdout",
     "output_type": "stream",
     "text": [
      "36/36 [==============================] - ETA: 0s - loss: 1.3168 - accuracy: 0.5243\n",
      "Epoch 00028: val_accuracy did not improve from 0.49653\n",
      "36/36 [==============================] - 2s 53ms/step - loss: 1.3168 - accuracy: 0.5243 - val_loss: 1.3947 - val_accuracy: 0.4965\n",
      "Epoch 29/40\n",
      "36/36 [==============================] - ETA: 0s - loss: 1.3098 - accuracy: 0.5217\n",
      "Epoch 00029: val_accuracy did not improve from 0.49653\n",
      "36/36 [==============================] - 2s 52ms/step - loss: 1.3098 - accuracy: 0.5217 - val_loss: 1.4228 - val_accuracy: 0.4583\n",
      "Epoch 30/40\n",
      "36/36 [==============================] - ETA: 0s - loss: 1.2947 - accuracy: 0.5191\n",
      "Epoch 00030: val_accuracy did not improve from 0.49653\n",
      "36/36 [==============================] - 2s 49ms/step - loss: 1.2947 - accuracy: 0.5191 - val_loss: 1.4244 - val_accuracy: 0.4688\n",
      "Epoch 31/40\n",
      "36/36 [==============================] - ETA: 0s - loss: 1.2564 - accuracy: 0.5634\n",
      "Epoch 00031: val_accuracy did not improve from 0.49653\n",
      "36/36 [==============================] - 2s 49ms/step - loss: 1.2564 - accuracy: 0.5634 - val_loss: 1.4162 - val_accuracy: 0.4931\n",
      "Epoch 32/40\n",
      "36/36 [==============================] - ETA: 0s - loss: 1.2659 - accuracy: 0.5286\n",
      "Epoch 00032: val_accuracy did not improve from 0.49653\n",
      "36/36 [==============================] - 2s 47ms/step - loss: 1.2659 - accuracy: 0.5286 - val_loss: 1.4292 - val_accuracy: 0.4931\n",
      "Epoch 33/40\n",
      "35/36 [============================>.] - ETA: 0s - loss: 1.2495 - accuracy: 0.5304\n",
      "Epoch 00033: val_accuracy did not improve from 0.49653\n",
      "36/36 [==============================] - 2s 49ms/step - loss: 1.2472 - accuracy: 0.5321 - val_loss: 1.4017 - val_accuracy: 0.4931\n",
      "Epoch 34/40\n",
      "36/36 [==============================] - ETA: 0s - loss: 1.1981 - accuracy: 0.5608\n",
      "Epoch 00034: val_accuracy improved from 0.49653 to 0.51389, saving model to best_initial_model.hdf5\n",
      "36/36 [==============================] - 2s 55ms/step - loss: 1.1981 - accuracy: 0.5608 - val_loss: 1.3740 - val_accuracy: 0.5139\n",
      "Epoch 35/40\n",
      "36/36 [==============================] - ETA: 0s - loss: 1.2350 - accuracy: 0.5503\n",
      "Epoch 00035: val_accuracy did not improve from 0.51389\n",
      "36/36 [==============================] - 2s 57ms/step - loss: 1.2350 - accuracy: 0.5503 - val_loss: 1.3870 - val_accuracy: 0.4931\n",
      "Epoch 36/40\n",
      "35/36 [============================>.] - ETA: 0s - loss: 1.2362 - accuracy: 0.5464\n",
      "Epoch 00036: val_accuracy did not improve from 0.51389\n",
      "36/36 [==============================] - 2s 50ms/step - loss: 1.2366 - accuracy: 0.5460 - val_loss: 1.3785 - val_accuracy: 0.5069\n",
      "Epoch 37/40\n",
      "36/36 [==============================] - ETA: 0s - loss: 1.2079 - accuracy: 0.5547\n",
      "Epoch 00037: val_accuracy improved from 0.51389 to 0.51736, saving model to best_initial_model.hdf5\n",
      "36/36 [==============================] - 2s 57ms/step - loss: 1.2079 - accuracy: 0.5547 - val_loss: 1.3899 - val_accuracy: 0.5174\n",
      "Epoch 38/40\n",
      "36/36 [==============================] - ETA: 0s - loss: 1.1455 - accuracy: 0.5877\n",
      "Epoch 00038: val_accuracy did not improve from 0.51736\n",
      "36/36 [==============================] - 2s 56ms/step - loss: 1.1455 - accuracy: 0.5877 - val_loss: 1.3988 - val_accuracy: 0.4931\n",
      "Epoch 39/40\n",
      "36/36 [==============================] - ETA: 0s - loss: 1.1281 - accuracy: 0.5747\n",
      "Epoch 00039: val_accuracy did not improve from 0.51736\n",
      "36/36 [==============================] - 2s 57ms/step - loss: 1.1281 - accuracy: 0.5747 - val_loss: 1.3872 - val_accuracy: 0.4965\n",
      "Epoch 40/40\n",
      "36/36 [==============================] - ETA: 0s - loss: 1.1281 - accuracy: 0.5807\n",
      "Epoch 00040: val_accuracy improved from 0.51736 to 0.53472, saving model to best_initial_model.hdf5\n",
      "36/36 [==============================] - 2s 56ms/step - loss: 1.1281 - accuracy: 0.5807 - val_loss: 1.3429 - val_accuracy: 0.5347\n"
     ]
    }
   ],
   "source": [
    "import tensorflow.keras as keras\n",
    "\n",
    "# FIT MODEL AND USE CHECKPOINT TO SAVE BEST MODEL\n",
    "checkpoint = ModelCheckpoint(\"best_initial_model.hdf5\", monitor='val_accuracy', verbose=1,\n",
    "    save_best_only=True, mode='max', period=1, save_weights_only=True)\n",
    "\n",
    "model_history=model.fit(X_train, y_train,batch_size=32, epochs=40, validation_data=(X_test, y_test),callbacks=[checkpoint])"
   ]
  },
  {
   "cell_type": "code",
   "execution_count": 280,
   "id": "0718f391",
   "metadata": {},
   "outputs": [
    {
     "data": {
      "image/png": "[encoded data removed]",
      "text/plain": [
       "<Figure size 432x288 with 1 Axes>"
      ]
     },
     "metadata": {
      "needs_background": "light"
     },
     "output_type": "display_data"
    },
    {
     "data": {
      "image/png": "[encoded data removed]",
      "text/plain": [
       "<Figure size 432x288 with 1 Axes>"
      ]
     },
     "metadata": {
      "needs_background": "light"
     },
     "output_type": "display_data"
    }
   ],
   "source": [
    "# PLOT MODEL HISTORY OF ACCURACY AND LOSS OVER EPOCHS\n",
    "plt.plot(model_history.history['accuracy'])\n",
    "plt.plot(model_history.history['val_accuracy'])\n",
    "plt.title('Model Accuracy')\n",
    "plt.ylabel('Accuracy')\n",
    "plt.xlabel('Epoch')\n",
    "plt.legend(['Train', 'Test'], loc='upper left')\n",
    "plt.savefig('Initial_Model_Accuracy.png')\n",
    "plt.show()\n",
    "# summarize history for loss\n",
    "plt.plot(model_history.history['loss'])\n",
    "plt.plot(model_history.history['val_loss'])\n",
    "plt.title('Model Loss')\n",
    "plt.ylabel('Loss')\n",
    "plt.xlabel('Epoch')\n",
    "plt.legend(['train', 'test'], loc='upper left')\n",
    "plt.savefig('Initial_Model_loss.png')\n",
    "plt.show()"
   ]
  },
  {
   "cell_type": "code",
   "execution_count": 281,
   "id": "c52a3e40",
   "metadata": {},
   "outputs": [
    {
     "name": "stdout",
     "output_type": "stream",
     "text": [
      "9/9 [==============================] - 0s 11ms/step - loss: 1.3429 - accuracy: 0.5347\n",
      "lOSS OF THE MODEL IS -- 1.3428966999053955\n",
      "9/9 [==============================] - 0s 12ms/step - loss: 1.3429 - accuracy: 0.5347\n",
      "Accuracy of the model is 53.47222089767456 %\n"
     ]
    }
   ],
   "source": [
    "#Lets do some predictions shall we \n",
    "\n",
    "print(\"lOSS OF THE MODEL IS --\", model.evaluate(X_test, y_test)[0])\n",
    "print(\"Accuracy of the model is\", model.evaluate(X_test,y_test)[1] * 100, \"%\")"
   ]
  },
  {
   "cell_type": "code",
   "execution_count": 282,
   "id": "a2ab32aa",
   "metadata": {},
   "outputs": [],
   "source": [
    "#predictions \n",
    "predictions = model.predict(X_test)\n",
    "predictions = predictions.argmax(axis=1)\n"
   ]
  },
  {
   "cell_type": "code",
   "execution_count": 283,
   "id": "c78875ab",
   "metadata": {},
   "outputs": [],
   "source": [
    "predictions = predictions.astype(int).flatten()\n",
    "predictions = (lb.inverse_transform(predictions))"
   ]
  },
  {
   "cell_type": "code",
   "execution_count": 284,
   "id": "3c226039",
   "metadata": {},
   "outputs": [],
   "source": [
    "predictions = pd.DataFrame({'Predicted Values': predictions})"
   ]
  },
  {
   "cell_type": "code",
   "execution_count": 285,
   "id": "bc2a44e4",
   "metadata": {},
   "outputs": [
    {
     "data": {
      "text/html": [
       "<div>\n",
       "<style scoped>\n",
       "    .dataframe tbody tr th:only-of-type {\n",
       "        vertical-align: middle;\n",
       "    }\n",
       "\n",
       "    .dataframe tbody tr th {\n",
       "        vertical-align: top;\n",
       "    }\n",
       "\n",
       "    .dataframe thead th {\n",
       "        text-align: right;\n",
       "    }\n",
       "</style>\n",
       "<table border=\"1\" class=\"dataframe\">\n",
       "  <thead>\n",
       "    <tr style=\"text-align: right;\">\n",
       "      <th></th>\n",
       "      <th>Actual values</th>\n",
       "      <th>Predicted Values</th>\n",
       "    </tr>\n",
       "  </thead>\n",
       "  <tbody>\n",
       "    <tr>\n",
       "      <th>0</th>\n",
       "      <td>fear</td>\n",
       "      <td>surprise</td>\n",
       "    </tr>\n",
       "    <tr>\n",
       "      <th>1</th>\n",
       "      <td>calm</td>\n",
       "      <td>calm</td>\n",
       "    </tr>\n",
       "    <tr>\n",
       "      <th>2</th>\n",
       "      <td>happy</td>\n",
       "      <td>happy</td>\n",
       "    </tr>\n",
       "    <tr>\n",
       "      <th>3</th>\n",
       "      <td>angry</td>\n",
       "      <td>angry</td>\n",
       "    </tr>\n",
       "    <tr>\n",
       "      <th>4</th>\n",
       "      <td>fear</td>\n",
       "      <td>surprise</td>\n",
       "    </tr>\n",
       "    <tr>\n",
       "      <th>...</th>\n",
       "      <td>...</td>\n",
       "      <td>...</td>\n",
       "    </tr>\n",
       "    <tr>\n",
       "      <th>283</th>\n",
       "      <td>disgust</td>\n",
       "      <td>disgust</td>\n",
       "    </tr>\n",
       "    <tr>\n",
       "      <th>284</th>\n",
       "      <td>calm</td>\n",
       "      <td>calm</td>\n",
       "    </tr>\n",
       "    <tr>\n",
       "      <th>285</th>\n",
       "      <td>calm</td>\n",
       "      <td>neutral</td>\n",
       "    </tr>\n",
       "    <tr>\n",
       "      <th>286</th>\n",
       "      <td>sad</td>\n",
       "      <td>sad</td>\n",
       "    </tr>\n",
       "    <tr>\n",
       "      <th>287</th>\n",
       "      <td>angry</td>\n",
       "      <td>happy</td>\n",
       "    </tr>\n",
       "  </tbody>\n",
       "</table>\n",
       "<p>288 rows × 2 columns</p>\n",
       "</div>"
      ],
      "text/plain": [
       "    Actual values Predicted Values\n",
       "0    fear          surprise       \n",
       "1    calm          calm           \n",
       "2    happy         happy          \n",
       "3    angry         angry          \n",
       "4    fear          surprise       \n",
       "..    ...               ...       \n",
       "283  disgust       disgust        \n",
       "284  calm          calm           \n",
       "285  calm          neutral        \n",
       "286  sad           sad            \n",
       "287  angry         happy          \n",
       "\n",
       "[288 rows x 2 columns]"
      ]
     },
     "execution_count": 285,
     "metadata": {},
     "output_type": "execute_result"
    }
   ],
   "source": [
    "actual = y_test.argmax(axis = 1)\n",
    "actual = actual.astype(int).flatten()\n",
    "actual = (lb.inverse_transform(actual))\n",
    "actual = pd.DataFrame({'Actual values': actual})\n",
    "\n",
    "finaldf = actual.join(predictions)\n",
    "finaldf"
   ]
  },
  {
   "cell_type": "code",
   "execution_count": 286,
   "id": "86c5d512",
   "metadata": {
    "scrolled": true
   },
   "outputs": [
    {
     "data": {
      "image/png": "[encoded data removed]",
      "text/plain": [
       "<Figure size 864x720 with 2 Axes>"
      ]
     },
     "metadata": {
      "needs_background": "light"
     },
     "output_type": "display_data"
    }
   ],
   "source": [
    "#confusion matrix bcpz why the fuck not\n",
    "\n",
    "cm = confusion_matrix(actual, predictions)\n",
    "plt.figure(figsize=(12,10))\n",
    "cm = pd.DataFrame(cm, index= [i for i in lb.classes_], columns= [i for i in lb.classes_])\n",
    "ax = sns.heatmap(cm ,linecolor= 'white', cmap='Blues', linewidths= 1, annot= True, fmt='')\n",
    "bottom, top = ax.get_ylim()\n",
    "plt.title('Confusion matrix',size = 20)\n",
    "plt.xlabel('Predicted labels', size = 14)\n",
    "plt.ylabel('Actual labels', size = 14)\n",
    "plt.savefig('Sequantial_model_Confusion_matrix.png')\n",
    "plt.show()\n"
   ]
  },
  {
   "cell_type": "code",
   "execution_count": 287,
   "id": "8c18810a",
   "metadata": {},
   "outputs": [
    {
     "name": "stdout",
     "output_type": "stream",
     "text": [
      "              precision    recall  f1-score   support\n",
      "\n",
      "       angry       0.73      0.62      0.67        39\n",
      "        calm       0.57      0.74      0.64        38\n",
      "     disgust       0.71      0.68      0.69        37\n",
      "        fear       0.71      0.32      0.44        38\n",
      "       happy       0.33      0.49      0.40        35\n",
      "     neutral       0.52      0.58      0.55        24\n",
      "         sad       0.48      0.26      0.34        38\n",
      "    surprise       0.44      0.62      0.51        39\n",
      "\n",
      "    accuracy                           0.53       288\n",
      "   macro avg       0.56      0.54      0.53       288\n",
      "weighted avg       0.56      0.53      0.53       288\n",
      "\n"
     ]
    }
   ],
   "source": [
    "print(classification_report(actual, predictions, target_names= ['angry','calm','disgust','fear','happy','neutral','sad','surprise']))"
   ]
  },
  {
   "cell_type": "code",
   "execution_count": 288,
   "id": "aaaca5a7",
   "metadata": {},
   "outputs": [
    {
     "name": "stdout",
     "output_type": "stream",
     "text": [
      "(1152, 259)\n"
     ]
    }
   ],
   "source": [
    "#very lousy accuracy :(\n",
    "train, test = train_test_split(df_combined, test_size=0.2, random_state=0,\n",
    "                              stratify= df_combined[['gender','actor']])\n",
    "\n",
    "X_train = train.iloc[:, 3:]\n",
    "y_train = train.iloc[:,:2].drop(columns=['gender'])\n",
    "print(X_train.shape)\n"
   ]
  },
  {
   "cell_type": "code",
   "execution_count": 289,
   "id": "e827dfca",
   "metadata": {},
   "outputs": [
    {
     "name": "stdout",
     "output_type": "stream",
     "text": [
      "(288, 259)\n"
     ]
    }
   ],
   "source": [
    "\n",
    "X_test = test.iloc[:,3:]\n",
    "y_test = test.iloc[:,:2].drop(columns=['gender'])\n",
    "print(X_test.shape)\n"
   ]
  },
  {
   "cell_type": "code",
   "execution_count": 290,
   "id": "b713663e",
   "metadata": {},
   "outputs": [],
   "source": [
    "# NORMALIZE DATA\n",
    "mean = np.mean(X_train, axis=0)\n",
    "std = np.std(X_train, axis=0)\n",
    "X_train = (X_train - mean)/std\n",
    "X_test = (X_test - mean)/std"
   ]
  },
  {
   "cell_type": "code",
   "execution_count": 291,
   "id": "3ed1a9aa",
   "metadata": {},
   "outputs": [],
   "source": [
    "# TURN DATA INTO ARRAYS FOR KERAS\n",
    "X_train = np.array(X_train)\n",
    "y_train = np.array(y_train)\n",
    "X_test = np.array(X_test)\n",
    "y_test = np.array(y_test)\n"
   ]
  },
  {
   "cell_type": "code",
   "execution_count": null,
   "id": "af9e2bc5",
   "metadata": {},
   "outputs": [],
   "source": [
    "\n"
   ]
  },
  {
   "cell_type": "code",
   "execution_count": 292,
   "id": "5deefd1b",
   "metadata": {},
   "outputs": [],
   "source": [
    "from keras.utils import np_utils\n",
    "\n",
    "lb = LabelEncoder()\n",
    "y_train = to_categorical(lb.fit_transform(y_train))\n",
    "y_test = to_categorical(lb.fit_transform(y_test))"
   ]
  },
  {
   "cell_type": "code",
   "execution_count": 293,
   "id": "982178bb",
   "metadata": {},
   "outputs": [],
   "source": [
    "X_train = X_train[:,:,np.newaxis]\n",
    "X_test = X_test[:,:,np.newaxis]\n"
   ]
  },
  {
   "cell_type": "code",
   "execution_count": 298,
   "id": "bcf5556b",
   "metadata": {},
   "outputs": [],
   "source": [
    "opt = keras.optimizers.Adam(lr=0.001)\n",
    "def make_classifier(optimizer= opt):\n",
    "    model = tf.keras.Sequential()\n",
    "    model.add(layers.Conv1D(64, kernel_size=(10), activation='relu', input_shape=(X_train.shape[1],1)))\n",
    "    model.add(layers.Conv1D(128, kernel_size=(10),activation='relu',kernel_regularizer=l2(0.01), bias_regularizer=l2(0.01)))\n",
    "    model.add(layers.MaxPooling1D(pool_size=(8)))\n",
    "    model.add(layers.Dropout(0.4))\n",
    "    model.add(layers.Conv1D(128, kernel_size=(10),activation='relu'))\n",
    "    model.add(layers.MaxPooling1D(pool_size=(8)))\n",
    "    model.add(layers.Dropout(0.4))\n",
    "    model.add(layers.Flatten())\n",
    "    model.add(layers.Dense(256, activation='relu'))\n",
    "    model.add(layers.Dropout(0.4))\n",
    "    model.add(layers.Dense(8, activation='sigmoid'))\n",
    "    opt = keras.optimizers.Adam(lr=0.001)\n",
    "    model.compile(loss='categorical_crossentropy', optimizer=opt,metrics=['accuracy'])\n",
    "    return model\n"
   ]
  },
  {
   "cell_type": "code",
   "execution_count": 299,
   "id": "d54e5900",
   "metadata": {},
   "outputs": [],
   "source": [
    "y_trainHot = np.argmax(y_train, axis=1)"
   ]
  },
  {
   "cell_type": "code",
   "execution_count": 300,
   "id": "b241d3fc",
   "metadata": {},
   "outputs": [
    {
     "name": "stdout",
     "output_type": "stream",
     "text": [
      "31/31 [==============================] - 2s 46ms/step - loss: 2.5574 - accuracy: 0.2182\n",
      "31/31 [==============================] - 2s 48ms/step - loss: 2.5371 - accuracy: 0.2269\n",
      "31/31 [==============================] - 2s 50ms/step - loss: 2.5467 - accuracy: 0.2256\n",
      "31/31 [==============================] - 2s 45ms/step - loss: 2.5644 - accuracy: 0.2321\n",
      "31/31 [==============================] - 2s 47ms/step - loss: 2.5745 - accuracy: 0.2115\n",
      "31/31 [==============================] - 2s 46ms/step - loss: 2.5895 - accuracy: 0.2106\n",
      "31/31 [==============================] - 2s 45ms/step - loss: 2.5695 - accuracy: 0.2302\n",
      "31/31 [==============================] - 2s 44ms/step - loss: 2.5055 - accuracy: 0.2158\n",
      "31/31 [==============================] - 2s 44ms/step - loss: 2.5846 - accuracy: 0.2082\n",
      "31/31 [==============================] - 2s 43ms/step - loss: 2.5387 - accuracy: 0.2267\n",
      "31/31 [==============================] - 2s 47ms/step - loss: 2.5643 - accuracy: 0.2030\n",
      "31/31 [==============================] - 2s 49ms/step - loss: 2.5512 - accuracy: 0.2128\n",
      "31/31 [==============================] - 2s 45ms/step - loss: 2.5285 - accuracy: 0.2332\n",
      "31/31 [==============================] - 2s 46ms/step - loss: 2.5697 - accuracy: 0.2299\n",
      "31/31 [==============================] - 2s 46ms/step - loss: 2.5688 - accuracy: 0.2299\n",
      "31/31 [==============================] - 3s 46ms/step - loss: 2.5739 - accuracy: 0.1987\n",
      "31/31 [==============================] - 2s 47ms/step - loss: 2.5872 - accuracy: 0.2074\n",
      "31/31 [==============================] - 2s 49ms/step - loss: 2.5358 - accuracy: 0.2343\n",
      "31/31 [==============================] - 2s 46ms/step - loss: 2.5445 - accuracy: 0.2072\n",
      "31/31 [==============================] - 2s 45ms/step - loss: 2.5732 - accuracy: 0.2202\n",
      "31/31 [==============================] - 2s 46ms/step - loss: 2.5459 - accuracy: 0.2280\n",
      "31/31 [==============================] - 2s 45ms/step - loss: 2.5800 - accuracy: 0.2182\n",
      "31/31 [==============================] - 2s 45ms/step - loss: 2.5598 - accuracy: 0.2039\n",
      "31/31 [==============================] - 2s 55ms/step - loss: 2.5923 - accuracy: 0.2072\n",
      "31/31 [==============================] - 2s 46ms/step - loss: 2.5410 - accuracy: 0.2354\n",
      "31/31 [==============================] - 2s 47ms/step - loss: 2.5625 - accuracy: 0.2237\n",
      "31/31 [==============================] - 2s 50ms/step - loss: 2.5775 - accuracy: 0.2041\n",
      "31/31 [==============================] - 2s 47ms/step - loss: 2.5376 - accuracy: 0.2473\n",
      "31/31 [==============================] - 2s 45ms/step - loss: 2.5618 - accuracy: 0.2148\n",
      "31/31 [==============================] - 2s 47ms/step - loss: 2.5615 - accuracy: 0.2386\n",
      "29/29 [==============================] - 2s 47ms/step - loss: 2.5457 - accuracy: 0.2172\n",
      "29/29 [==============================] - 2s 47ms/step - loss: 2.5961 - accuracy: 0.1965\n",
      "29/29 [==============================] - 2s 48ms/step - loss: 2.5742 - accuracy: 0.2148\n",
      "29/29 [==============================] - 2s 48ms/step - loss: 2.5736 - accuracy: 0.2375\n",
      "29/29 [==============================] - 2s 47ms/step - loss: 2.5959 - accuracy: 0.2093\n",
      "29/29 [==============================] - 2s 51ms/step - loss: 2.5544 - accuracy: 0.2324\n",
      "29/29 [==============================] - 2s 50ms/step - loss: 2.5780 - accuracy: 0.2269\n",
      "29/29 [==============================] - 2s 49ms/step - loss: 2.5573 - accuracy: 0.2180\n",
      "29/29 [==============================] - 2s 49ms/step - loss: 2.5614 - accuracy: 0.2115\n",
      "29/29 [==============================] - 2s 48ms/step - loss: 2.5849 - accuracy: 0.2213\n",
      "29/29 [==============================] - 8s 267ms/step - loss: 2.5698 - accuracy: 0.2128\n",
      "29/29 [==============================] - 2s 52ms/step - loss: 2.5614 - accuracy: 0.2139\n",
      "29/29 [==============================] - 2s 51ms/step - loss: 2.5778 - accuracy: 0.2104\n",
      "29/29 [==============================] - 2s 53ms/step - loss: 2.5584 - accuracy: 0.2115\n",
      "29/29 [==============================] - 2s 48ms/step - loss: 2.5892 - accuracy: 0.2039\n",
      "29/29 [==============================] - 2s 51ms/step - loss: 2.5551 - accuracy: 0.2280\n",
      "29/29 [==============================] - 2s 51ms/step - loss: 2.5998 - accuracy: 0.2085\n",
      "29/29 [==============================] - 2s 49ms/step - loss: 2.5615 - accuracy: 0.2332\n",
      "29/29 [==============================] - 2s 50ms/step - loss: 2.5769 - accuracy: 0.2072\n",
      "29/29 [==============================] - 2s 46ms/step - loss: 2.5446 - accuracy: 0.2180\n",
      "29/29 [==============================] - 2s 47ms/step - loss: 2.5474 - accuracy: 0.2302\n",
      "29/29 [==============================] - 2s 48ms/step - loss: 2.5682 - accuracy: 0.2226\n",
      "29/29 [==============================] - 2s 50ms/step - loss: 2.5590 - accuracy: 0.2289\n",
      "29/29 [==============================] - 2s 48ms/step - loss: 2.5617 - accuracy: 0.1996\n",
      "29/29 [==============================] - 2s 49ms/step - loss: 2.5918 - accuracy: 0.2213\n",
      "29/29 [==============================] - 2s 51ms/step - loss: 2.5642 - accuracy: 0.2334\n",
      "29/29 [==============================] - 2s 56ms/step - loss: 2.5858 - accuracy: 0.2248\n",
      "29/29 [==============================] - 6s 58ms/step - loss: 2.5910 - accuracy: 0.2278\n",
      "29/29 [==============================] - 2s 44ms/step - loss: 2.5728 - accuracy: 0.2007\n",
      "29/29 [==============================] - 2s 49ms/step - loss: 2.5588 - accuracy: 0.2158\n",
      "28/28 [==============================] - 2s 50ms/step - loss: 2.5663 - accuracy: 0.2215\n",
      "28/28 [==============================] - 2s 58ms/step - loss: 2.5747 - accuracy: 0.2313\n",
      "28/28 [==============================] - 2s 54ms/step - loss: 2.5881 - accuracy: 0.2050\n",
      "28/28 [==============================] - 2s 53ms/step - loss: 2.5844 - accuracy: 0.1996\n",
      "28/28 [==============================] - 2s 53ms/step - loss: 2.5554 - accuracy: 0.2191\n",
      "28/28 [==============================] - 2s 54ms/step - loss: 2.5977 - accuracy: 0.2139\n",
      "28/28 [==============================] - 2s 51ms/step - loss: 2.6000 - accuracy: 0.1759\n",
      "28/28 [==============================] - 3s 52ms/step - loss: 2.5775 - accuracy: 0.2104\n",
      "28/28 [==============================] - 2s 49ms/step - loss: 2.5799 - accuracy: 0.2256\n",
      "28/28 [==============================] - 2s 50ms/step - loss: 2.5676 - accuracy: 0.2093\n",
      "28/28 [==============================] - 2s 52ms/step - loss: 2.5523 - accuracy: 0.2389\n",
      "28/28 [==============================] - 2s 51ms/step - loss: 2.6151 - accuracy: 0.2139\n",
      "28/28 [==============================] - 2s 55ms/step - loss: 2.5584 - accuracy: 0.2321\n",
      "28/28 [==============================] - 2s 54ms/step - loss: 2.5960 - accuracy: 0.2148\n",
      "28/28 [==============================] - 2s 55ms/step - loss: 2.5906 - accuracy: 0.2234\n",
      "28/28 [==============================] - 2s 52ms/step - loss: 2.6031 - accuracy: 0.2074\n",
      "28/28 [==============================] - 5s 61ms/step - loss: 2.5951 - accuracy: 0.2182\n",
      "28/28 [==============================] - 2s 56ms/step - loss: 2.5853 - accuracy: 0.2082\n",
      "28/28 [==============================] - 2s 59ms/step - loss: 2.5824 - accuracy: 0.2115\n",
      "28/28 [==============================] - 2s 54ms/step - loss: 2.5981 - accuracy: 0.2115\n",
      "28/28 [==============================] - 2s 54ms/step - loss: 2.5549 - accuracy: 0.2215\n",
      "28/28 [==============================] - 2s 54ms/step - loss: 2.5769 - accuracy: 0.2291\n",
      "28/28 [==============================] - 2s 54ms/step - loss: 2.5858 - accuracy: 0.2028\n",
      "28/28 [==============================] - 2s 57ms/step - loss: 2.6017 - accuracy: 0.1931\n",
      "28/28 [==============================] - 2s 52ms/step - loss: 2.5654 - accuracy: 0.1941\n",
      "28/28 [==============================] - 2s 55ms/step - loss: 2.5742 - accuracy: 0.2258\n",
      "28/28 [==============================] - 2s 49ms/step - loss: 2.6088 - accuracy: 0.2182\n",
      "28/28 [==============================] - 2s 53ms/step - loss: 2.5703 - accuracy: 0.2158\n",
      "28/28 [==============================] - 2s 53ms/step - loss: 2.6085 - accuracy: 0.2148\n",
      "28/28 [==============================] - 2s 51ms/step - loss: 2.6050 - accuracy: 0.2213\n",
      "39/39 [==============================] - 2s 45ms/step - loss: 2.4947 - accuracy: 0.2240\n"
     ]
    }
   ],
   "source": [
    "#appying grid search cv\n",
    "\n",
    "classifier = KerasClassifier(build_fn= make_classifier)\n",
    "params = {'batch_size': [30,32,34],\n",
    "           'nb_epoch': [25,50,75],\n",
    "             'optimizer': ['adam', 'SGD']}\n",
    "\n",
    "grid_search = GridSearchCV(estimator=classifier, param_grid= params, scoring='accuracy', cv=5)\n",
    "\n",
    "grid_search = grid_search.fit(X_train, y_trainHot)\n"
   ]
  },
  {
   "cell_type": "code",
   "execution_count": 301,
   "id": "8c0d35f2",
   "metadata": {},
   "outputs": [
    {
     "data": {
      "text/plain": [
       "{'batch_size': 30, 'nb_epoch': 25, 'optimizer': 'SGD'}"
      ]
     },
     "execution_count": 301,
     "metadata": {},
     "output_type": "execute_result"
    }
   ],
   "source": [
    "grid_search.best_params_"
   ]
  },
  {
   "cell_type": "code",
   "execution_count": 302,
   "id": "a119805b",
   "metadata": {},
   "outputs": [
    {
     "data": {
      "text/plain": [
       "0.29086768304159605"
      ]
     },
     "execution_count": 302,
     "metadata": {},
     "output_type": "execute_result"
    }
   ],
   "source": [
    "grid_search.best_score_"
   ]
  },
  {
   "cell_type": "code",
   "execution_count": 303,
   "id": "ed4c1d91",
   "metadata": {},
   "outputs": [
    {
     "data": {
      "text/plain": [
       "1"
      ]
     },
     "execution_count": 303,
     "metadata": {},
     "output_type": "execute_result"
    }
   ],
   "source": [
    "grid_search.best_index_"
   ]
  },
  {
   "cell_type": "code",
   "execution_count": 304,
   "id": "0585e679",
   "metadata": {},
   "outputs": [
    {
     "data": {
      "text/plain": [
       "<keras.wrappers.scikit_learn.KerasClassifier at 0x7fb44703e850>"
      ]
     },
     "execution_count": 304,
     "metadata": {},
     "output_type": "execute_result"
    }
   ],
   "source": [
    "grid_search.best_estimator_"
   ]
  },
  {
   "cell_type": "code",
   "execution_count": null,
   "id": "3b1f6016",
   "metadata": {},
   "outputs": [],
   "source": []
  }
 ],
 "metadata": {
  "kernelspec": {
   "display_name": "Python 3 (ipykernel)",
   "language": "python",
   "name": "python3"
  },
  "language_info": {
   "codemirror_mode": {
    "name": "ipython",
    "version": 3
   },
   "file_extension": ".py",
   "mimetype": "text/x-python",
   "name": "python",
   "nbconvert_exporter": "python",
   "pygments_lexer": "ipython3",
   "version": "3.8.10"
  }
 },
 "nbformat": 4,
 "nbformat_minor": 5
}
